{
 "cells": [
  {
   "cell_type": "markdown",
   "metadata": {},
   "source": [
    "Parsing all the available source html with quest text fragments and transitions options from the site quest-book.ru. "
   ]
  },
  {
   "cell_type": "code",
   "execution_count": null,
   "metadata": {},
   "outputs": [],
   "source": [
    "from urllib.request import urlopen\n",
    "from bs4 import BeautifulSoup\n",
    "import requests\n",
    "import os\n",
    "from tqdm import tqdm"
   ]
  },
  {
   "cell_type": "code",
   "execution_count": 14,
   "metadata": {},
   "outputs": [],
   "source": [
    "test_page = 'https://quest-book.ru/online/?s=1'"
   ]
  },
  {
   "cell_type": "code",
   "execution_count": 42,
   "metadata": {},
   "outputs": [],
   "source": [
    "def get_quests_links(menu_page_href):\n",
    "    '''\n",
    "    Collects all the relative links (quest identificators) from single quest-book.ru menu page\n",
    "    '''\n",
    "    page_soup = BeautifulSoup(urlopen(menu_page_href))\n",
    "    return [quest_href['href'] for quest_href in page_soup.find_all('a', href=True, class_=\"view-game-btn\")]"
   ]
  },
  {
   "cell_type": "code",
   "execution_count": 47,
   "metadata": {},
   "outputs": [],
   "source": [
    "all_quest_hrefs = []\n",
    "menu_prefix = 'https://quest-book.ru/online/?s='\n",
    "start_index = 0\n",
    "#Number of quest, which were available at the time of parsing (04.01.2021)\n",
    "end_index = 180\n",
    "step = 12\n",
    "\n",
    "for menu_page_start_index in range(start_index, end_index, step):\n",
    "    menu_page_href = menu_prefix + str(menu_page_start_index)\n",
    "    all_quest_hrefs += get_quests_links(menu_page_href)"
   ]
  },
  {
   "cell_type": "code",
   "execution_count": 54,
   "metadata": {},
   "outputs": [],
   "source": [
    "def get_xml_name(quest_href_part):\n",
    "    '''\n",
    "    Creates filename for the quest data using its relative link\n",
    "    '''\n",
    "    return quest_href_part.split('/')[-2] + '.xml'"
   ]
  },
  {
   "cell_type": "code",
   "execution_count": 84,
   "metadata": {},
   "outputs": [],
   "source": [
    "failes = []"
   ]
  },
  {
   "cell_type": "code",
   "execution_count": 82,
   "metadata": {},
   "outputs": [],
   "source": [
    "def download_quest_data(href_part, upload_dir):\n",
    "    global failes\n",
    "    #Route for get-query for the quest data\n",
    "    full_href = 'https://quest-book.ru' + href_part + 'data'\n",
    "    response = requests.get(full_href)\n",
    "    #If the response status is success code, create a file in the upload_dir and write down the data\n",
    "    if response.status_code == 200:\n",
    "        xml_name = get_xml_name(href_part)\n",
    "        file_path = os.path.join(upload_dir, xml_name)\n",
    "        with open(file_path, 'w', encoding='utf-8') as f:\n",
    "            f.write(response.text)\n",
    "    #If response status is not success, add the relative link into failes list to check it later\n",
    "    else:\n",
    "        failes.append(href_part)"
   ]
  },
  {
   "cell_type": "code",
   "execution_count": 83,
   "metadata": {},
   "outputs": [],
   "source": [
    "UPLOAD_DIR = 'D:\\Диплом_текстовые_квесты\\Data\\quest-book'"
   ]
  },
  {
   "cell_type": "code",
   "execution_count": 88,
   "metadata": {},
   "outputs": [
    {
     "name": "stderr",
     "output_type": "stream",
     "text": [
      "100%|████████████████████████████████████████████████████████████████████████████████| 180/180 [01:20<00:00,  2.24it/s]\n"
     ]
    }
   ],
   "source": [
    "for quest_href_part in tqdm(all_quest_hrefs):\n",
    "    download_quest_data(quest_href_part, UPLOAD_DIR)"
   ]
  },
  {
   "cell_type": "code",
   "execution_count": 89,
   "metadata": {},
   "outputs": [
    {
     "data": {
      "text/plain": [
       "0"
      ]
     },
     "execution_count": 89,
     "metadata": {},
     "output_type": "execute_result"
    }
   ],
   "source": [
    "#No failes\n",
    "len(failes)"
   ]
  },
  {
   "cell_type": "code",
   "execution_count": null,
   "metadata": {},
   "outputs": [],
   "source": []
  }
 ],
 "metadata": {
  "kernelspec": {
   "display_name": "Python 3",
   "language": "python",
   "name": "python3"
  },
  "language_info": {
   "codemirror_mode": {
    "name": "ipython",
    "version": 3
   },
   "file_extension": ".py",
   "mimetype": "text/x-python",
   "name": "python",
   "nbconvert_exporter": "python",
   "pygments_lexer": "ipython3",
   "version": "3.8.3"
  }
 },
 "nbformat": 4,
 "nbformat_minor": 4
}
