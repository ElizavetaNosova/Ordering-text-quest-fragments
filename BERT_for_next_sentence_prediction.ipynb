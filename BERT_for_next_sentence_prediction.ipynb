{
  "nbformat": 4,
  "nbformat_minor": 0,
  "metadata": {
    "colab": {
      "name": "BERT for next sentence prediction",
      "provenance": [],
      "collapsed_sections": [],
      "toc_visible": true
    },
    "kernelspec": {
      "display_name": "Python 3",
      "language": "python",
      "name": "python3"
    },
    "widgets": {
      "application/vnd.jupyter.widget-state+json": {
        "3d47b7105cf8480f8274bfb447e8046b": {
          "model_module": "@jupyter-widgets/controls",
          "model_name": "HBoxModel",
          "state": {
            "_view_name": "HBoxView",
            "_dom_classes": [],
            "_model_name": "HBoxModel",
            "_view_module": "@jupyter-widgets/controls",
            "_model_module_version": "1.5.0",
            "_view_count": null,
            "_view_module_version": "1.5.0",
            "box_style": "",
            "layout": "IPY_MODEL_51047c930eb94714808adafb4d5fd6ac",
            "_model_module": "@jupyter-widgets/controls",
            "children": [
              "IPY_MODEL_36d6bb01ee9e440ab00301507cad602e",
              "IPY_MODEL_6ae9e61f9a7848d99a9b2861e412aa18"
            ]
          }
        },
        "51047c930eb94714808adafb4d5fd6ac": {
          "model_module": "@jupyter-widgets/base",
          "model_name": "LayoutModel",
          "state": {
            "_view_name": "LayoutView",
            "grid_template_rows": null,
            "right": null,
            "justify_content": null,
            "_view_module": "@jupyter-widgets/base",
            "overflow": null,
            "_model_module_version": "1.2.0",
            "_view_count": null,
            "flex_flow": null,
            "width": null,
            "min_width": null,
            "border": null,
            "align_items": null,
            "bottom": null,
            "_model_module": "@jupyter-widgets/base",
            "top": null,
            "grid_column": null,
            "overflow_y": null,
            "overflow_x": null,
            "grid_auto_flow": null,
            "grid_area": null,
            "grid_template_columns": null,
            "flex": null,
            "_model_name": "LayoutModel",
            "justify_items": null,
            "grid_row": null,
            "max_height": null,
            "align_content": null,
            "visibility": null,
            "align_self": null,
            "height": null,
            "min_height": null,
            "padding": null,
            "grid_auto_rows": null,
            "grid_gap": null,
            "max_width": null,
            "order": null,
            "_view_module_version": "1.2.0",
            "grid_template_areas": null,
            "object_position": null,
            "object_fit": null,
            "grid_auto_columns": null,
            "margin": null,
            "display": null,
            "left": null
          }
        },
        "36d6bb01ee9e440ab00301507cad602e": {
          "model_module": "@jupyter-widgets/controls",
          "model_name": "FloatProgressModel",
          "state": {
            "_view_name": "ProgressView",
            "style": "IPY_MODEL_e0cd18542ff44727b898a6cce3e185b5",
            "_dom_classes": [],
            "description": "Downloading: 100%",
            "_model_name": "FloatProgressModel",
            "bar_style": "success",
            "max": 1649718,
            "_view_module": "@jupyter-widgets/controls",
            "_model_module_version": "1.5.0",
            "value": 1649718,
            "_view_count": null,
            "_view_module_version": "1.5.0",
            "orientation": "horizontal",
            "min": 0,
            "description_tooltip": null,
            "_model_module": "@jupyter-widgets/controls",
            "layout": "IPY_MODEL_5a51b37506d942368ae2e4e8287700e3"
          }
        },
        "6ae9e61f9a7848d99a9b2861e412aa18": {
          "model_module": "@jupyter-widgets/controls",
          "model_name": "HTMLModel",
          "state": {
            "_view_name": "HTMLView",
            "style": "IPY_MODEL_6c0feef74a5a441bbf95e8865730e8a2",
            "_dom_classes": [],
            "description": "",
            "_model_name": "HTMLModel",
            "placeholder": "​",
            "_view_module": "@jupyter-widgets/controls",
            "_model_module_version": "1.5.0",
            "value": " 1.65M/1.65M [00:00&lt;00:00, 3.90MB/s]",
            "_view_count": null,
            "_view_module_version": "1.5.0",
            "description_tooltip": null,
            "_model_module": "@jupyter-widgets/controls",
            "layout": "IPY_MODEL_ddd3cb7382094a7f88083041b87ac72d"
          }
        },
        "e0cd18542ff44727b898a6cce3e185b5": {
          "model_module": "@jupyter-widgets/controls",
          "model_name": "ProgressStyleModel",
          "state": {
            "_view_name": "StyleView",
            "_model_name": "ProgressStyleModel",
            "description_width": "initial",
            "_view_module": "@jupyter-widgets/base",
            "_model_module_version": "1.5.0",
            "_view_count": null,
            "_view_module_version": "1.2.0",
            "bar_color": null,
            "_model_module": "@jupyter-widgets/controls"
          }
        },
        "5a51b37506d942368ae2e4e8287700e3": {
          "model_module": "@jupyter-widgets/base",
          "model_name": "LayoutModel",
          "state": {
            "_view_name": "LayoutView",
            "grid_template_rows": null,
            "right": null,
            "justify_content": null,
            "_view_module": "@jupyter-widgets/base",
            "overflow": null,
            "_model_module_version": "1.2.0",
            "_view_count": null,
            "flex_flow": null,
            "width": null,
            "min_width": null,
            "border": null,
            "align_items": null,
            "bottom": null,
            "_model_module": "@jupyter-widgets/base",
            "top": null,
            "grid_column": null,
            "overflow_y": null,
            "overflow_x": null,
            "grid_auto_flow": null,
            "grid_area": null,
            "grid_template_columns": null,
            "flex": null,
            "_model_name": "LayoutModel",
            "justify_items": null,
            "grid_row": null,
            "max_height": null,
            "align_content": null,
            "visibility": null,
            "align_self": null,
            "height": null,
            "min_height": null,
            "padding": null,
            "grid_auto_rows": null,
            "grid_gap": null,
            "max_width": null,
            "order": null,
            "_view_module_version": "1.2.0",
            "grid_template_areas": null,
            "object_position": null,
            "object_fit": null,
            "grid_auto_columns": null,
            "margin": null,
            "display": null,
            "left": null
          }
        },
        "6c0feef74a5a441bbf95e8865730e8a2": {
          "model_module": "@jupyter-widgets/controls",
          "model_name": "DescriptionStyleModel",
          "state": {
            "_view_name": "StyleView",
            "_model_name": "DescriptionStyleModel",
            "description_width": "",
            "_view_module": "@jupyter-widgets/base",
            "_model_module_version": "1.5.0",
            "_view_count": null,
            "_view_module_version": "1.2.0",
            "_model_module": "@jupyter-widgets/controls"
          }
        },
        "ddd3cb7382094a7f88083041b87ac72d": {
          "model_module": "@jupyter-widgets/base",
          "model_name": "LayoutModel",
          "state": {
            "_view_name": "LayoutView",
            "grid_template_rows": null,
            "right": null,
            "justify_content": null,
            "_view_module": "@jupyter-widgets/base",
            "overflow": null,
            "_model_module_version": "1.2.0",
            "_view_count": null,
            "flex_flow": null,
            "width": null,
            "min_width": null,
            "border": null,
            "align_items": null,
            "bottom": null,
            "_model_module": "@jupyter-widgets/base",
            "top": null,
            "grid_column": null,
            "overflow_y": null,
            "overflow_x": null,
            "grid_auto_flow": null,
            "grid_area": null,
            "grid_template_columns": null,
            "flex": null,
            "_model_name": "LayoutModel",
            "justify_items": null,
            "grid_row": null,
            "max_height": null,
            "align_content": null,
            "visibility": null,
            "align_self": null,
            "height": null,
            "min_height": null,
            "padding": null,
            "grid_auto_rows": null,
            "grid_gap": null,
            "max_width": null,
            "order": null,
            "_view_module_version": "1.2.0",
            "grid_template_areas": null,
            "object_position": null,
            "object_fit": null,
            "grid_auto_columns": null,
            "margin": null,
            "display": null,
            "left": null
          }
        },
        "0f94028708644fd8b49ebf20cb08b0f5": {
          "model_module": "@jupyter-widgets/controls",
          "model_name": "HBoxModel",
          "state": {
            "_view_name": "HBoxView",
            "_dom_classes": [],
            "_model_name": "HBoxModel",
            "_view_module": "@jupyter-widgets/controls",
            "_model_module_version": "1.5.0",
            "_view_count": null,
            "_view_module_version": "1.5.0",
            "box_style": "",
            "layout": "IPY_MODEL_639d661ca5cf471f91ca22eda4ae3c52",
            "_model_module": "@jupyter-widgets/controls",
            "children": [
              "IPY_MODEL_3be0f7f6eaa04f6f8b6f5fef8e75a162",
              "IPY_MODEL_acb7926db34341e6b01b316602290c9b"
            ]
          }
        },
        "639d661ca5cf471f91ca22eda4ae3c52": {
          "model_module": "@jupyter-widgets/base",
          "model_name": "LayoutModel",
          "state": {
            "_view_name": "LayoutView",
            "grid_template_rows": null,
            "right": null,
            "justify_content": null,
            "_view_module": "@jupyter-widgets/base",
            "overflow": null,
            "_model_module_version": "1.2.0",
            "_view_count": null,
            "flex_flow": null,
            "width": null,
            "min_width": null,
            "border": null,
            "align_items": null,
            "bottom": null,
            "_model_module": "@jupyter-widgets/base",
            "top": null,
            "grid_column": null,
            "overflow_y": null,
            "overflow_x": null,
            "grid_auto_flow": null,
            "grid_area": null,
            "grid_template_columns": null,
            "flex": null,
            "_model_name": "LayoutModel",
            "justify_items": null,
            "grid_row": null,
            "max_height": null,
            "align_content": null,
            "visibility": null,
            "align_self": null,
            "height": null,
            "min_height": null,
            "padding": null,
            "grid_auto_rows": null,
            "grid_gap": null,
            "max_width": null,
            "order": null,
            "_view_module_version": "1.2.0",
            "grid_template_areas": null,
            "object_position": null,
            "object_fit": null,
            "grid_auto_columns": null,
            "margin": null,
            "display": null,
            "left": null
          }
        },
        "3be0f7f6eaa04f6f8b6f5fef8e75a162": {
          "model_module": "@jupyter-widgets/controls",
          "model_name": "FloatProgressModel",
          "state": {
            "_view_name": "ProgressView",
            "style": "IPY_MODEL_26c35500e8f1426f8e8e2b724e904144",
            "_dom_classes": [],
            "description": "Downloading: 100%",
            "_model_name": "FloatProgressModel",
            "bar_style": "success",
            "max": 112,
            "_view_module": "@jupyter-widgets/controls",
            "_model_module_version": "1.5.0",
            "value": 112,
            "_view_count": null,
            "_view_module_version": "1.5.0",
            "orientation": "horizontal",
            "min": 0,
            "description_tooltip": null,
            "_model_module": "@jupyter-widgets/controls",
            "layout": "IPY_MODEL_dead3d8100c54fc4bf0a5fb3266764a5"
          }
        },
        "acb7926db34341e6b01b316602290c9b": {
          "model_module": "@jupyter-widgets/controls",
          "model_name": "HTMLModel",
          "state": {
            "_view_name": "HTMLView",
            "style": "IPY_MODEL_fd86ca61e3fc4300814ffd09e6bd41be",
            "_dom_classes": [],
            "description": "",
            "_model_name": "HTMLModel",
            "placeholder": "​",
            "_view_module": "@jupyter-widgets/controls",
            "_model_module_version": "1.5.0",
            "value": " 112/112 [00:00&lt;00:00, 244B/s]",
            "_view_count": null,
            "_view_module_version": "1.5.0",
            "description_tooltip": null,
            "_model_module": "@jupyter-widgets/controls",
            "layout": "IPY_MODEL_fe7422ec25ce40dfb64c12346fbb9e3e"
          }
        },
        "26c35500e8f1426f8e8e2b724e904144": {
          "model_module": "@jupyter-widgets/controls",
          "model_name": "ProgressStyleModel",
          "state": {
            "_view_name": "StyleView",
            "_model_name": "ProgressStyleModel",
            "description_width": "initial",
            "_view_module": "@jupyter-widgets/base",
            "_model_module_version": "1.5.0",
            "_view_count": null,
            "_view_module_version": "1.2.0",
            "bar_color": null,
            "_model_module": "@jupyter-widgets/controls"
          }
        },
        "dead3d8100c54fc4bf0a5fb3266764a5": {
          "model_module": "@jupyter-widgets/base",
          "model_name": "LayoutModel",
          "state": {
            "_view_name": "LayoutView",
            "grid_template_rows": null,
            "right": null,
            "justify_content": null,
            "_view_module": "@jupyter-widgets/base",
            "overflow": null,
            "_model_module_version": "1.2.0",
            "_view_count": null,
            "flex_flow": null,
            "width": null,
            "min_width": null,
            "border": null,
            "align_items": null,
            "bottom": null,
            "_model_module": "@jupyter-widgets/base",
            "top": null,
            "grid_column": null,
            "overflow_y": null,
            "overflow_x": null,
            "grid_auto_flow": null,
            "grid_area": null,
            "grid_template_columns": null,
            "flex": null,
            "_model_name": "LayoutModel",
            "justify_items": null,
            "grid_row": null,
            "max_height": null,
            "align_content": null,
            "visibility": null,
            "align_self": null,
            "height": null,
            "min_height": null,
            "padding": null,
            "grid_auto_rows": null,
            "grid_gap": null,
            "max_width": null,
            "order": null,
            "_view_module_version": "1.2.0",
            "grid_template_areas": null,
            "object_position": null,
            "object_fit": null,
            "grid_auto_columns": null,
            "margin": null,
            "display": null,
            "left": null
          }
        },
        "fd86ca61e3fc4300814ffd09e6bd41be": {
          "model_module": "@jupyter-widgets/controls",
          "model_name": "DescriptionStyleModel",
          "state": {
            "_view_name": "StyleView",
            "_model_name": "DescriptionStyleModel",
            "description_width": "",
            "_view_module": "@jupyter-widgets/base",
            "_model_module_version": "1.5.0",
            "_view_count": null,
            "_view_module_version": "1.2.0",
            "_model_module": "@jupyter-widgets/controls"
          }
        },
        "fe7422ec25ce40dfb64c12346fbb9e3e": {
          "model_module": "@jupyter-widgets/base",
          "model_name": "LayoutModel",
          "state": {
            "_view_name": "LayoutView",
            "grid_template_rows": null,
            "right": null,
            "justify_content": null,
            "_view_module": "@jupyter-widgets/base",
            "overflow": null,
            "_model_module_version": "1.2.0",
            "_view_count": null,
            "flex_flow": null,
            "width": null,
            "min_width": null,
            "border": null,
            "align_items": null,
            "bottom": null,
            "_model_module": "@jupyter-widgets/base",
            "top": null,
            "grid_column": null,
            "overflow_y": null,
            "overflow_x": null,
            "grid_auto_flow": null,
            "grid_area": null,
            "grid_template_columns": null,
            "flex": null,
            "_model_name": "LayoutModel",
            "justify_items": null,
            "grid_row": null,
            "max_height": null,
            "align_content": null,
            "visibility": null,
            "align_self": null,
            "height": null,
            "min_height": null,
            "padding": null,
            "grid_auto_rows": null,
            "grid_gap": null,
            "max_width": null,
            "order": null,
            "_view_module_version": "1.2.0",
            "grid_template_areas": null,
            "object_position": null,
            "object_fit": null,
            "grid_auto_columns": null,
            "margin": null,
            "display": null,
            "left": null
          }
        },
        "e8ecdebe0f294a68b425a4e1ebe5118f": {
          "model_module": "@jupyter-widgets/controls",
          "model_name": "HBoxModel",
          "state": {
            "_view_name": "HBoxView",
            "_dom_classes": [],
            "_model_name": "HBoxModel",
            "_view_module": "@jupyter-widgets/controls",
            "_model_module_version": "1.5.0",
            "_view_count": null,
            "_view_module_version": "1.5.0",
            "box_style": "",
            "layout": "IPY_MODEL_e54c88965d7c43b1b4be8b3d85248bd8",
            "_model_module": "@jupyter-widgets/controls",
            "children": [
              "IPY_MODEL_a5b1994d958846b69d907efb433d80bd",
              "IPY_MODEL_44e85c59c30a4d9fa1abed23b2d27cab"
            ]
          }
        },
        "e54c88965d7c43b1b4be8b3d85248bd8": {
          "model_module": "@jupyter-widgets/base",
          "model_name": "LayoutModel",
          "state": {
            "_view_name": "LayoutView",
            "grid_template_rows": null,
            "right": null,
            "justify_content": null,
            "_view_module": "@jupyter-widgets/base",
            "overflow": null,
            "_model_module_version": "1.2.0",
            "_view_count": null,
            "flex_flow": null,
            "width": null,
            "min_width": null,
            "border": null,
            "align_items": null,
            "bottom": null,
            "_model_module": "@jupyter-widgets/base",
            "top": null,
            "grid_column": null,
            "overflow_y": null,
            "overflow_x": null,
            "grid_auto_flow": null,
            "grid_area": null,
            "grid_template_columns": null,
            "flex": null,
            "_model_name": "LayoutModel",
            "justify_items": null,
            "grid_row": null,
            "max_height": null,
            "align_content": null,
            "visibility": null,
            "align_self": null,
            "height": null,
            "min_height": null,
            "padding": null,
            "grid_auto_rows": null,
            "grid_gap": null,
            "max_width": null,
            "order": null,
            "_view_module_version": "1.2.0",
            "grid_template_areas": null,
            "object_position": null,
            "object_fit": null,
            "grid_auto_columns": null,
            "margin": null,
            "display": null,
            "left": null
          }
        },
        "a5b1994d958846b69d907efb433d80bd": {
          "model_module": "@jupyter-widgets/controls",
          "model_name": "FloatProgressModel",
          "state": {
            "_view_name": "ProgressView",
            "style": "IPY_MODEL_12eeae12176a44ac8697e90d8c50483f",
            "_dom_classes": [],
            "description": "Downloading: 100%",
            "_model_name": "FloatProgressModel",
            "bar_style": "success",
            "max": 24,
            "_view_module": "@jupyter-widgets/controls",
            "_model_module_version": "1.5.0",
            "value": 24,
            "_view_count": null,
            "_view_module_version": "1.5.0",
            "orientation": "horizontal",
            "min": 0,
            "description_tooltip": null,
            "_model_module": "@jupyter-widgets/controls",
            "layout": "IPY_MODEL_7c0dbd639ea248abb3e4c8815fbf6ea1"
          }
        },
        "44e85c59c30a4d9fa1abed23b2d27cab": {
          "model_module": "@jupyter-widgets/controls",
          "model_name": "HTMLModel",
          "state": {
            "_view_name": "HTMLView",
            "style": "IPY_MODEL_76c4105cbb2d428d9cdb0a532e0bf20b",
            "_dom_classes": [],
            "description": "",
            "_model_name": "HTMLModel",
            "placeholder": "​",
            "_view_module": "@jupyter-widgets/controls",
            "_model_module_version": "1.5.0",
            "value": " 24.0/24.0 [00:00&lt;00:00, 92.2B/s]",
            "_view_count": null,
            "_view_module_version": "1.5.0",
            "description_tooltip": null,
            "_model_module": "@jupyter-widgets/controls",
            "layout": "IPY_MODEL_c49c31b6333249ee892e0c8be25215fd"
          }
        },
        "12eeae12176a44ac8697e90d8c50483f": {
          "model_module": "@jupyter-widgets/controls",
          "model_name": "ProgressStyleModel",
          "state": {
            "_view_name": "StyleView",
            "_model_name": "ProgressStyleModel",
            "description_width": "initial",
            "_view_module": "@jupyter-widgets/base",
            "_model_module_version": "1.5.0",
            "_view_count": null,
            "_view_module_version": "1.2.0",
            "bar_color": null,
            "_model_module": "@jupyter-widgets/controls"
          }
        },
        "7c0dbd639ea248abb3e4c8815fbf6ea1": {
          "model_module": "@jupyter-widgets/base",
          "model_name": "LayoutModel",
          "state": {
            "_view_name": "LayoutView",
            "grid_template_rows": null,
            "right": null,
            "justify_content": null,
            "_view_module": "@jupyter-widgets/base",
            "overflow": null,
            "_model_module_version": "1.2.0",
            "_view_count": null,
            "flex_flow": null,
            "width": null,
            "min_width": null,
            "border": null,
            "align_items": null,
            "bottom": null,
            "_model_module": "@jupyter-widgets/base",
            "top": null,
            "grid_column": null,
            "overflow_y": null,
            "overflow_x": null,
            "grid_auto_flow": null,
            "grid_area": null,
            "grid_template_columns": null,
            "flex": null,
            "_model_name": "LayoutModel",
            "justify_items": null,
            "grid_row": null,
            "max_height": null,
            "align_content": null,
            "visibility": null,
            "align_self": null,
            "height": null,
            "min_height": null,
            "padding": null,
            "grid_auto_rows": null,
            "grid_gap": null,
            "max_width": null,
            "order": null,
            "_view_module_version": "1.2.0",
            "grid_template_areas": null,
            "object_position": null,
            "object_fit": null,
            "grid_auto_columns": null,
            "margin": null,
            "display": null,
            "left": null
          }
        },
        "76c4105cbb2d428d9cdb0a532e0bf20b": {
          "model_module": "@jupyter-widgets/controls",
          "model_name": "DescriptionStyleModel",
          "state": {
            "_view_name": "StyleView",
            "_model_name": "DescriptionStyleModel",
            "description_width": "",
            "_view_module": "@jupyter-widgets/base",
            "_model_module_version": "1.5.0",
            "_view_count": null,
            "_view_module_version": "1.2.0",
            "_model_module": "@jupyter-widgets/controls"
          }
        },
        "c49c31b6333249ee892e0c8be25215fd": {
          "model_module": "@jupyter-widgets/base",
          "model_name": "LayoutModel",
          "state": {
            "_view_name": "LayoutView",
            "grid_template_rows": null,
            "right": null,
            "justify_content": null,
            "_view_module": "@jupyter-widgets/base",
            "overflow": null,
            "_model_module_version": "1.2.0",
            "_view_count": null,
            "flex_flow": null,
            "width": null,
            "min_width": null,
            "border": null,
            "align_items": null,
            "bottom": null,
            "_model_module": "@jupyter-widgets/base",
            "top": null,
            "grid_column": null,
            "overflow_y": null,
            "overflow_x": null,
            "grid_auto_flow": null,
            "grid_area": null,
            "grid_template_columns": null,
            "flex": null,
            "_model_name": "LayoutModel",
            "justify_items": null,
            "grid_row": null,
            "max_height": null,
            "align_content": null,
            "visibility": null,
            "align_self": null,
            "height": null,
            "min_height": null,
            "padding": null,
            "grid_auto_rows": null,
            "grid_gap": null,
            "max_width": null,
            "order": null,
            "_view_module_version": "1.2.0",
            "grid_template_areas": null,
            "object_position": null,
            "object_fit": null,
            "grid_auto_columns": null,
            "margin": null,
            "display": null,
            "left": null
          }
        },
        "f9c4f680f82a4a609ede957db15946de": {
          "model_module": "@jupyter-widgets/controls",
          "model_name": "HBoxModel",
          "state": {
            "_view_name": "HBoxView",
            "_dom_classes": [],
            "_model_name": "HBoxModel",
            "_view_module": "@jupyter-widgets/controls",
            "_model_module_version": "1.5.0",
            "_view_count": null,
            "_view_module_version": "1.5.0",
            "box_style": "",
            "layout": "IPY_MODEL_0687050d55e942bf9c33d223ac5d7e16",
            "_model_module": "@jupyter-widgets/controls",
            "children": [
              "IPY_MODEL_1bbba8da9e55429cb2a1303f4d95260a",
              "IPY_MODEL_53e2bfa618f7420f8a3e7fc66059c62b"
            ]
          }
        },
        "0687050d55e942bf9c33d223ac5d7e16": {
          "model_module": "@jupyter-widgets/base",
          "model_name": "LayoutModel",
          "state": {
            "_view_name": "LayoutView",
            "grid_template_rows": null,
            "right": null,
            "justify_content": null,
            "_view_module": "@jupyter-widgets/base",
            "overflow": null,
            "_model_module_version": "1.2.0",
            "_view_count": null,
            "flex_flow": null,
            "width": null,
            "min_width": null,
            "border": null,
            "align_items": null,
            "bottom": null,
            "_model_module": "@jupyter-widgets/base",
            "top": null,
            "grid_column": null,
            "overflow_y": null,
            "overflow_x": null,
            "grid_auto_flow": null,
            "grid_area": null,
            "grid_template_columns": null,
            "flex": null,
            "_model_name": "LayoutModel",
            "justify_items": null,
            "grid_row": null,
            "max_height": null,
            "align_content": null,
            "visibility": null,
            "align_self": null,
            "height": null,
            "min_height": null,
            "padding": null,
            "grid_auto_rows": null,
            "grid_gap": null,
            "max_width": null,
            "order": null,
            "_view_module_version": "1.2.0",
            "grid_template_areas": null,
            "object_position": null,
            "object_fit": null,
            "grid_auto_columns": null,
            "margin": null,
            "display": null,
            "left": null
          }
        },
        "1bbba8da9e55429cb2a1303f4d95260a": {
          "model_module": "@jupyter-widgets/controls",
          "model_name": "FloatProgressModel",
          "state": {
            "_view_name": "ProgressView",
            "style": "IPY_MODEL_bd8d8142be714481adb0cf45cae1c268",
            "_dom_classes": [],
            "description": "Downloading: 100%",
            "_model_name": "FloatProgressModel",
            "bar_style": "success",
            "max": 642,
            "_view_module": "@jupyter-widgets/controls",
            "_model_module_version": "1.5.0",
            "value": 642,
            "_view_count": null,
            "_view_module_version": "1.5.0",
            "orientation": "horizontal",
            "min": 0,
            "description_tooltip": null,
            "_model_module": "@jupyter-widgets/controls",
            "layout": "IPY_MODEL_9c0acc5a22a34860bfc8fb09448b4a94"
          }
        },
        "53e2bfa618f7420f8a3e7fc66059c62b": {
          "model_module": "@jupyter-widgets/controls",
          "model_name": "HTMLModel",
          "state": {
            "_view_name": "HTMLView",
            "style": "IPY_MODEL_c7141a0f5ab64f13a948ca788766980f",
            "_dom_classes": [],
            "description": "",
            "_model_name": "HTMLModel",
            "placeholder": "​",
            "_view_module": "@jupyter-widgets/controls",
            "_model_module_version": "1.5.0",
            "value": " 642/642 [00:01&lt;00:00, 556B/s]",
            "_view_count": null,
            "_view_module_version": "1.5.0",
            "description_tooltip": null,
            "_model_module": "@jupyter-widgets/controls",
            "layout": "IPY_MODEL_ec9e798dc5de4b31a4bb174c9aff5945"
          }
        },
        "bd8d8142be714481adb0cf45cae1c268": {
          "model_module": "@jupyter-widgets/controls",
          "model_name": "ProgressStyleModel",
          "state": {
            "_view_name": "StyleView",
            "_model_name": "ProgressStyleModel",
            "description_width": "initial",
            "_view_module": "@jupyter-widgets/base",
            "_model_module_version": "1.5.0",
            "_view_count": null,
            "_view_module_version": "1.2.0",
            "bar_color": null,
            "_model_module": "@jupyter-widgets/controls"
          }
        },
        "9c0acc5a22a34860bfc8fb09448b4a94": {
          "model_module": "@jupyter-widgets/base",
          "model_name": "LayoutModel",
          "state": {
            "_view_name": "LayoutView",
            "grid_template_rows": null,
            "right": null,
            "justify_content": null,
            "_view_module": "@jupyter-widgets/base",
            "overflow": null,
            "_model_module_version": "1.2.0",
            "_view_count": null,
            "flex_flow": null,
            "width": null,
            "min_width": null,
            "border": null,
            "align_items": null,
            "bottom": null,
            "_model_module": "@jupyter-widgets/base",
            "top": null,
            "grid_column": null,
            "overflow_y": null,
            "overflow_x": null,
            "grid_auto_flow": null,
            "grid_area": null,
            "grid_template_columns": null,
            "flex": null,
            "_model_name": "LayoutModel",
            "justify_items": null,
            "grid_row": null,
            "max_height": null,
            "align_content": null,
            "visibility": null,
            "align_self": null,
            "height": null,
            "min_height": null,
            "padding": null,
            "grid_auto_rows": null,
            "grid_gap": null,
            "max_width": null,
            "order": null,
            "_view_module_version": "1.2.0",
            "grid_template_areas": null,
            "object_position": null,
            "object_fit": null,
            "grid_auto_columns": null,
            "margin": null,
            "display": null,
            "left": null
          }
        },
        "c7141a0f5ab64f13a948ca788766980f": {
          "model_module": "@jupyter-widgets/controls",
          "model_name": "DescriptionStyleModel",
          "state": {
            "_view_name": "StyleView",
            "_model_name": "DescriptionStyleModel",
            "description_width": "",
            "_view_module": "@jupyter-widgets/base",
            "_model_module_version": "1.5.0",
            "_view_count": null,
            "_view_module_version": "1.2.0",
            "_model_module": "@jupyter-widgets/controls"
          }
        },
        "ec9e798dc5de4b31a4bb174c9aff5945": {
          "model_module": "@jupyter-widgets/base",
          "model_name": "LayoutModel",
          "state": {
            "_view_name": "LayoutView",
            "grid_template_rows": null,
            "right": null,
            "justify_content": null,
            "_view_module": "@jupyter-widgets/base",
            "overflow": null,
            "_model_module_version": "1.2.0",
            "_view_count": null,
            "flex_flow": null,
            "width": null,
            "min_width": null,
            "border": null,
            "align_items": null,
            "bottom": null,
            "_model_module": "@jupyter-widgets/base",
            "top": null,
            "grid_column": null,
            "overflow_y": null,
            "overflow_x": null,
            "grid_auto_flow": null,
            "grid_area": null,
            "grid_template_columns": null,
            "flex": null,
            "_model_name": "LayoutModel",
            "justify_items": null,
            "grid_row": null,
            "max_height": null,
            "align_content": null,
            "visibility": null,
            "align_self": null,
            "height": null,
            "min_height": null,
            "padding": null,
            "grid_auto_rows": null,
            "grid_gap": null,
            "max_width": null,
            "order": null,
            "_view_module_version": "1.2.0",
            "grid_template_areas": null,
            "object_position": null,
            "object_fit": null,
            "grid_auto_columns": null,
            "margin": null,
            "display": null,
            "left": null
          }
        },
        "a1baa88ecf724ff8bb2a241586ed9e65": {
          "model_module": "@jupyter-widgets/controls",
          "model_name": "HBoxModel",
          "state": {
            "_view_name": "HBoxView",
            "_dom_classes": [],
            "_model_name": "HBoxModel",
            "_view_module": "@jupyter-widgets/controls",
            "_model_module_version": "1.5.0",
            "_view_count": null,
            "_view_module_version": "1.5.0",
            "box_style": "",
            "layout": "IPY_MODEL_6d11a3c409cb4a209c48fc030717fc53",
            "_model_module": "@jupyter-widgets/controls",
            "children": [
              "IPY_MODEL_d3e41e785ca747c1a3dc7d0b80c69cf4",
              "IPY_MODEL_9c168a806a98488dbd26d404b4aef1d4"
            ]
          }
        },
        "6d11a3c409cb4a209c48fc030717fc53": {
          "model_module": "@jupyter-widgets/base",
          "model_name": "LayoutModel",
          "state": {
            "_view_name": "LayoutView",
            "grid_template_rows": null,
            "right": null,
            "justify_content": null,
            "_view_module": "@jupyter-widgets/base",
            "overflow": null,
            "_model_module_version": "1.2.0",
            "_view_count": null,
            "flex_flow": null,
            "width": null,
            "min_width": null,
            "border": null,
            "align_items": null,
            "bottom": null,
            "_model_module": "@jupyter-widgets/base",
            "top": null,
            "grid_column": null,
            "overflow_y": null,
            "overflow_x": null,
            "grid_auto_flow": null,
            "grid_area": null,
            "grid_template_columns": null,
            "flex": null,
            "_model_name": "LayoutModel",
            "justify_items": null,
            "grid_row": null,
            "max_height": null,
            "align_content": null,
            "visibility": null,
            "align_self": null,
            "height": null,
            "min_height": null,
            "padding": null,
            "grid_auto_rows": null,
            "grid_gap": null,
            "max_width": null,
            "order": null,
            "_view_module_version": "1.2.0",
            "grid_template_areas": null,
            "object_position": null,
            "object_fit": null,
            "grid_auto_columns": null,
            "margin": null,
            "display": null,
            "left": null
          }
        },
        "d3e41e785ca747c1a3dc7d0b80c69cf4": {
          "model_module": "@jupyter-widgets/controls",
          "model_name": "FloatProgressModel",
          "state": {
            "_view_name": "ProgressView",
            "style": "IPY_MODEL_fd11ce09f4e5410e9c2d024db5e9bbd4",
            "_dom_classes": [],
            "description": "Downloading: 100%",
            "_model_name": "FloatProgressModel",
            "bar_style": "success",
            "max": 711456784,
            "_view_module": "@jupyter-widgets/controls",
            "_model_module_version": "1.5.0",
            "value": 711456784,
            "_view_count": null,
            "_view_module_version": "1.5.0",
            "orientation": "horizontal",
            "min": 0,
            "description_tooltip": null,
            "_model_module": "@jupyter-widgets/controls",
            "layout": "IPY_MODEL_4760f47d475c4250815bc47577a18255"
          }
        },
        "9c168a806a98488dbd26d404b4aef1d4": {
          "model_module": "@jupyter-widgets/controls",
          "model_name": "HTMLModel",
          "state": {
            "_view_name": "HTMLView",
            "style": "IPY_MODEL_42bbfc99b737450dac8fa021fbaf9e43",
            "_dom_classes": [],
            "description": "",
            "_model_name": "HTMLModel",
            "placeholder": "​",
            "_view_module": "@jupyter-widgets/controls",
            "_model_module_version": "1.5.0",
            "value": " 711M/711M [00:59&lt;00:00, 11.9MB/s]",
            "_view_count": null,
            "_view_module_version": "1.5.0",
            "description_tooltip": null,
            "_model_module": "@jupyter-widgets/controls",
            "layout": "IPY_MODEL_df2bd60797e44371ab900414d7d55970"
          }
        },
        "fd11ce09f4e5410e9c2d024db5e9bbd4": {
          "model_module": "@jupyter-widgets/controls",
          "model_name": "ProgressStyleModel",
          "state": {
            "_view_name": "StyleView",
            "_model_name": "ProgressStyleModel",
            "description_width": "initial",
            "_view_module": "@jupyter-widgets/base",
            "_model_module_version": "1.5.0",
            "_view_count": null,
            "_view_module_version": "1.2.0",
            "bar_color": null,
            "_model_module": "@jupyter-widgets/controls"
          }
        },
        "4760f47d475c4250815bc47577a18255": {
          "model_module": "@jupyter-widgets/base",
          "model_name": "LayoutModel",
          "state": {
            "_view_name": "LayoutView",
            "grid_template_rows": null,
            "right": null,
            "justify_content": null,
            "_view_module": "@jupyter-widgets/base",
            "overflow": null,
            "_model_module_version": "1.2.0",
            "_view_count": null,
            "flex_flow": null,
            "width": null,
            "min_width": null,
            "border": null,
            "align_items": null,
            "bottom": null,
            "_model_module": "@jupyter-widgets/base",
            "top": null,
            "grid_column": null,
            "overflow_y": null,
            "overflow_x": null,
            "grid_auto_flow": null,
            "grid_area": null,
            "grid_template_columns": null,
            "flex": null,
            "_model_name": "LayoutModel",
            "justify_items": null,
            "grid_row": null,
            "max_height": null,
            "align_content": null,
            "visibility": null,
            "align_self": null,
            "height": null,
            "min_height": null,
            "padding": null,
            "grid_auto_rows": null,
            "grid_gap": null,
            "max_width": null,
            "order": null,
            "_view_module_version": "1.2.0",
            "grid_template_areas": null,
            "object_position": null,
            "object_fit": null,
            "grid_auto_columns": null,
            "margin": null,
            "display": null,
            "left": null
          }
        },
        "42bbfc99b737450dac8fa021fbaf9e43": {
          "model_module": "@jupyter-widgets/controls",
          "model_name": "DescriptionStyleModel",
          "state": {
            "_view_name": "StyleView",
            "_model_name": "DescriptionStyleModel",
            "description_width": "",
            "_view_module": "@jupyter-widgets/base",
            "_model_module_version": "1.5.0",
            "_view_count": null,
            "_view_module_version": "1.2.0",
            "_model_module": "@jupyter-widgets/controls"
          }
        },
        "df2bd60797e44371ab900414d7d55970": {
          "model_module": "@jupyter-widgets/base",
          "model_name": "LayoutModel",
          "state": {
            "_view_name": "LayoutView",
            "grid_template_rows": null,
            "right": null,
            "justify_content": null,
            "_view_module": "@jupyter-widgets/base",
            "overflow": null,
            "_model_module_version": "1.2.0",
            "_view_count": null,
            "flex_flow": null,
            "width": null,
            "min_width": null,
            "border": null,
            "align_items": null,
            "bottom": null,
            "_model_module": "@jupyter-widgets/base",
            "top": null,
            "grid_column": null,
            "overflow_y": null,
            "overflow_x": null,
            "grid_auto_flow": null,
            "grid_area": null,
            "grid_template_columns": null,
            "flex": null,
            "_model_name": "LayoutModel",
            "justify_items": null,
            "grid_row": null,
            "max_height": null,
            "align_content": null,
            "visibility": null,
            "align_self": null,
            "height": null,
            "min_height": null,
            "padding": null,
            "grid_auto_rows": null,
            "grid_gap": null,
            "max_width": null,
            "order": null,
            "_view_module_version": "1.2.0",
            "grid_template_areas": null,
            "object_position": null,
            "object_fit": null,
            "grid_auto_columns": null,
            "margin": null,
            "display": null,
            "left": null
          }
        }
      }
    }
  },
  "cells": [
    {
      "cell_type": "code",
      "metadata": {
        "id": "Jcbm_1BpQDgG"
      },
      "source": [
        "import torch\n",
        "from transformers import BertTokenizer, BertForNextSentencePrediction\n",
        "from torch.utils.data import Dataset, DataLoader\n",
        "import numpy as np\n",
        "\n",
        "from sklearn.model_selection import train_test_split\n",
        "from tqdm import tqdm\n",
        "import os\n",
        "import random\n",
        "import math\n",
        "import statistics\n",
        "\n",
        "from networkx.readwrite import json_graph\n",
        "import json"
      ],
      "execution_count": null,
      "outputs": []
    },
    {
      "cell_type": "code",
      "metadata": {
        "colab": {
          "base_uri": "https://localhost:8080/"
        },
        "id": "lQC1PZYogi8x",
        "outputId": "74334beb-14d2-43cd-f4d6-ec4010163871"
      },
      "source": [
        "from google.colab import drive\n",
        "drive.mount('/content/gdrive')"
      ],
      "execution_count": null,
      "outputs": [
        {
          "output_type": "stream",
          "text": [
            "Mounted at /content/gdrive\n"
          ],
          "name": "stdout"
        }
      ]
    },
    {
      "cell_type": "code",
      "metadata": {
        "id": "GBlOUJ3shoxZ"
      },
      "source": [
        "os.chdir('gdrive/MyDrive')"
      ],
      "execution_count": null,
      "outputs": []
    },
    {
      "cell_type": "code",
      "metadata": {
        "id": "cBAVLPXPWj4N",
        "colab": {
          "base_uri": "https://localhost:8080/",
          "height": 165,
          "referenced_widgets": [
            "3d47b7105cf8480f8274bfb447e8046b",
            "51047c930eb94714808adafb4d5fd6ac",
            "36d6bb01ee9e440ab00301507cad602e",
            "6ae9e61f9a7848d99a9b2861e412aa18",
            "e0cd18542ff44727b898a6cce3e185b5",
            "5a51b37506d942368ae2e4e8287700e3",
            "6c0feef74a5a441bbf95e8865730e8a2",
            "ddd3cb7382094a7f88083041b87ac72d",
            "0f94028708644fd8b49ebf20cb08b0f5",
            "639d661ca5cf471f91ca22eda4ae3c52",
            "3be0f7f6eaa04f6f8b6f5fef8e75a162",
            "acb7926db34341e6b01b316602290c9b",
            "26c35500e8f1426f8e8e2b724e904144",
            "dead3d8100c54fc4bf0a5fb3266764a5",
            "fd86ca61e3fc4300814ffd09e6bd41be",
            "fe7422ec25ce40dfb64c12346fbb9e3e",
            "e8ecdebe0f294a68b425a4e1ebe5118f",
            "e54c88965d7c43b1b4be8b3d85248bd8",
            "a5b1994d958846b69d907efb433d80bd",
            "44e85c59c30a4d9fa1abed23b2d27cab",
            "12eeae12176a44ac8697e90d8c50483f",
            "7c0dbd639ea248abb3e4c8815fbf6ea1",
            "76c4105cbb2d428d9cdb0a532e0bf20b",
            "c49c31b6333249ee892e0c8be25215fd"
          ]
        },
        "outputId": "1f046b70-250e-43bd-a1fc-deb2dcaf6625"
      },
      "source": [
        "tokenizer = BertTokenizer.from_pretrained('DeepPavlov/rubert-base-cased-sentence')"
      ],
      "execution_count": null,
      "outputs": [
        {
          "output_type": "display_data",
          "data": {
            "application/vnd.jupyter.widget-view+json": {
              "model_id": "3d47b7105cf8480f8274bfb447e8046b",
              "version_minor": 0,
              "version_major": 2
            },
            "text/plain": [
              "HBox(children=(FloatProgress(value=0.0, description='Downloading', max=1649718.0, style=ProgressStyle(descript…"
            ]
          },
          "metadata": {
            "tags": []
          }
        },
        {
          "output_type": "stream",
          "text": [
            "\n"
          ],
          "name": "stdout"
        },
        {
          "output_type": "display_data",
          "data": {
            "application/vnd.jupyter.widget-view+json": {
              "model_id": "0f94028708644fd8b49ebf20cb08b0f5",
              "version_minor": 0,
              "version_major": 2
            },
            "text/plain": [
              "HBox(children=(FloatProgress(value=0.0, description='Downloading', max=112.0, style=ProgressStyle(description_…"
            ]
          },
          "metadata": {
            "tags": []
          }
        },
        {
          "output_type": "stream",
          "text": [
            "\n"
          ],
          "name": "stdout"
        },
        {
          "output_type": "display_data",
          "data": {
            "application/vnd.jupyter.widget-view+json": {
              "model_id": "e8ecdebe0f294a68b425a4e1ebe5118f",
              "version_minor": 0,
              "version_major": 2
            },
            "text/plain": [
              "HBox(children=(FloatProgress(value=0.0, description='Downloading', max=24.0, style=ProgressStyle(description_w…"
            ]
          },
          "metadata": {
            "tags": []
          }
        },
        {
          "output_type": "stream",
          "text": [
            "\n"
          ],
          "name": "stdout"
        }
      ]
    },
    {
      "cell_type": "code",
      "metadata": {
        "colab": {
          "base_uri": "https://localhost:8080/",
          "height": 173,
          "referenced_widgets": [
            "f9c4f680f82a4a609ede957db15946de",
            "0687050d55e942bf9c33d223ac5d7e16",
            "1bbba8da9e55429cb2a1303f4d95260a",
            "53e2bfa618f7420f8a3e7fc66059c62b",
            "bd8d8142be714481adb0cf45cae1c268",
            "9c0acc5a22a34860bfc8fb09448b4a94",
            "c7141a0f5ab64f13a948ca788766980f",
            "ec9e798dc5de4b31a4bb174c9aff5945",
            "a1baa88ecf724ff8bb2a241586ed9e65",
            "6d11a3c409cb4a209c48fc030717fc53",
            "d3e41e785ca747c1a3dc7d0b80c69cf4",
            "9c168a806a98488dbd26d404b4aef1d4",
            "fd11ce09f4e5410e9c2d024db5e9bbd4",
            "4760f47d475c4250815bc47577a18255",
            "42bbfc99b737450dac8fa021fbaf9e43",
            "df2bd60797e44371ab900414d7d55970"
          ]
        },
        "id": "FxuYappjN--K",
        "outputId": "bfe9df79-9620-4e9f-a888-2ec62d6c4a83"
      },
      "source": [
        "bert_model = BertForNextSentencePrediction.from_pretrained('DeepPavlov/rubert-base-cased-sentence')"
      ],
      "execution_count": null,
      "outputs": [
        {
          "output_type": "display_data",
          "data": {
            "application/vnd.jupyter.widget-view+json": {
              "model_id": "f9c4f680f82a4a609ede957db15946de",
              "version_minor": 0,
              "version_major": 2
            },
            "text/plain": [
              "HBox(children=(FloatProgress(value=0.0, description='Downloading', max=642.0, style=ProgressStyle(description_…"
            ]
          },
          "metadata": {
            "tags": []
          }
        },
        {
          "output_type": "stream",
          "text": [
            "\n"
          ],
          "name": "stdout"
        },
        {
          "output_type": "display_data",
          "data": {
            "application/vnd.jupyter.widget-view+json": {
              "model_id": "a1baa88ecf724ff8bb2a241586ed9e65",
              "version_minor": 0,
              "version_major": 2
            },
            "text/plain": [
              "HBox(children=(FloatProgress(value=0.0, description='Downloading', max=711456784.0, style=ProgressStyle(descri…"
            ]
          },
          "metadata": {
            "tags": []
          }
        },
        {
          "output_type": "stream",
          "text": [
            "\n"
          ],
          "name": "stdout"
        },
        {
          "output_type": "stream",
          "text": [
            "Some weights of BertForNextSentencePrediction were not initialized from the model checkpoint at DeepPavlov/rubert-base-cased-sentence and are newly initialized: ['cls.seq_relationship.weight', 'cls.seq_relationship.bias']\n",
            "You should probably TRAIN this model on a down-stream task to be able to use it for predictions and inference.\n"
          ],
          "name": "stderr"
        }
      ]
    },
    {
      "cell_type": "code",
      "metadata": {
        "id": "pCMVkPVwbXmM"
      },
      "source": [
        "bert_model.train()\n",
        "bert_model.cuda()\n",
        "bert_model.bert.requires_grad_ = False\n",
        "bert_model.cls.requires_grad_ = True"
      ],
      "execution_count": null,
      "outputs": []
    },
    {
      "cell_type": "code",
      "metadata": {
        "id": "SWDUucMybvEF"
      },
      "source": [
        "optimizer = torch.optim.Adam([{'params': bert_model.cls.parameters()}],\n",
        "                               lr = 1e-3)\n",
        "criterion = torch.nn.BCELoss()"
      ],
      "execution_count": null,
      "outputs": []
    },
    {
      "cell_type": "code",
      "metadata": {
        "colab": {
          "background_save": true
        },
        "id": "KosjgXITcMFg"
      },
      "source": [
        "batch_id = 0\n",
        "for fragment1, fragment2, correct_label in tqdm(train_dataloader):\n",
        "    encoding = tokenizer(fragment1, fragment2, return_tensors='pt', padding=True, truncation=False)\n",
        "    encoding = {key:encoding[key].cuda() for key in encoding}\n",
        "    try:\n",
        "        outputs = bert_model(**encoding)\n",
        "        prediction = torch.softmax(outputs.logits, 1)[:, 0]\n",
        "        loss = criterion(prediction.cpu(), correct_label.float())\n",
        "        loss.backward()\n",
        "        optimizer.step()\n",
        "        optimizer.zero_grad()\n",
        "        batch_id += 1\n",
        "    except:\n",
        "        pass\n",
        "    if batch_id%100 == 0:\n",
        "        torch.save(bert_model.cls.state_dict(), 'fixed_bert_next_sent_cls.state_dict.pth')\n"
      ],
      "execution_count": null,
      "outputs": []
    },
    {
      "cell_type": "code",
      "metadata": {
        "colab": {
          "base_uri": "https://localhost:8080/"
        },
        "id": "efQgxHOuOCmH",
        "outputId": "47c1c8a4-def0-4ab2-bc8b-73406680b77e"
      },
      "source": [
        "bert_model.cls.load_state_dict(torch.load('fixed_bert_next_sent_cls.state_dict.pth'))"
      ],
      "execution_count": null,
      "outputs": [
        {
          "output_type": "execute_result",
          "data": {
            "text/plain": [
              "<All keys matched successfully>"
            ]
          },
          "metadata": {
            "tags": []
          },
          "execution_count": 17
        }
      ]
    },
    {
      "cell_type": "code",
      "metadata": {
        "id": "y007C6e6k_tH"
      },
      "source": [
        "bert_model.cuda()"
      ],
      "execution_count": null,
      "outputs": []
    },
    {
      "cell_type": "code",
      "metadata": {
        "id": "dQ69vSKgXuta"
      },
      "source": [
        "bert_model.train()"
      ],
      "execution_count": null,
      "outputs": []
    },
    {
      "cell_type": "code",
      "metadata": {
        "id": "w7KILoWMOeTr"
      },
      "source": [
        "bert_model.eval()\n",
        "\n",
        "correct = []\n",
        "predicted = []\n",
        "\n",
        "with torch.no_grad():\n",
        "    for fragment1, fragment2, labels in tqdm(test_dataloader):\n",
        "        encoding = tokenizer(fragment1, fragment2, return_tensors='pt', padding=True, truncation=False)\n",
        "        outputs = bert_model(**encoding)\n",
        "        prediction = torch.softmax(outputs.logits, 1)[:, 0]\n",
        "        correct += [int(label) for label in labels]\n",
        "        predicted += [float(p) for p in prediction]"
      ],
      "execution_count": null,
      "outputs": []
    },
    {
      "cell_type": "code",
      "metadata": {
        "id": "9wydq17rPjcw"
      },
      "source": [
        "fpr_bert, tpr_bert, thresholds_bert = metrics.roc_curve(correct[:len(predicted)], predicted, pos_label=1)"
      ],
      "execution_count": null,
      "outputs": []
    },
    {
      "cell_type": "code",
      "metadata": {
        "colab": {
          "base_uri": "https://localhost:8080/",
          "height": 294
        },
        "id": "eV5Y8CFKABJO",
        "outputId": "72948a54-d1f1-4a46-bfcd-4c2cfee2b098"
      },
      "source": [
        "from sklearn import metrics\n",
        "fpr_bert, tpr_bert, thresholds_bert = metrics.roc_curve(correct[:len(predicted)], predicted, pos_label=1)\n",
        "import matplotlib.pyplot as plt\n",
        "plt.title('Receiver Operating Characteristic')\n",
        "roc_ouc = metrics.auc(fpr_bert, tpr_bert)\n",
        "plt.plot(fpr_bert, tpr_bert, 'b', label = 'AUC = %0.2f' % roc_ouc)\n",
        "plt.legend(loc = 'lower right')\n",
        "plt.plot([0, 1], [0, 1],'r--')\n",
        "plt.xlim([0, 1])\n",
        "plt.ylim([0, 1])\n",
        "plt.ylabel('BERT next sentence predictor True Positive Rate')\n",
        "plt.xlabel('BERT next sentence predictor False Positive Rate')\n",
        "plt.show()"
      ],
      "execution_count": null,
      "outputs": [
        {
          "output_type": "display_data",
          "data": {
            "image/png": "[encoded data removed]",
            "text/plain": [
              "<Figure size 432x288 with 1 Axes>"
            ]
          },
          "metadata": {
            "tags": []
          }
        }
      ]
    },
    {
      "cell_type": "markdown",
      "metadata": {
        "id": "cWpwCiDMfdR2"
      },
      "source": [
        ""
      ]
    },
    {
      "cell_type": "code",
      "metadata": {
        "id": "Lild5mWud059"
      },
      "source": [
        "outputs =  bert_model(**encoding)\n",
        "logits = outputs.logits"
      ],
      "execution_count": null,
      "outputs": []
    },
    {
      "cell_type": "code",
      "metadata": {
        "id": "7ImoS3q5eK2Q"
      },
      "source": [
        "probs = torch.softmax(logits, 1)"
      ],
      "execution_count": null,
      "outputs": []
    },
    {
      "cell_type": "code",
      "metadata": {
        "id": "uKI-xNpxe2B8"
      },
      "source": [
        "pred = probs[:, 0]"
      ],
      "execution_count": null,
      "outputs": []
    },
    {
      "cell_type": "code",
      "metadata": {
        "id": "ZaT9NNH9fW4g"
      },
      "source": [
        "torch.save(bert_model.cls.state_dict(), 'bert_next_sent_cls.state_dict.pth')"
      ],
      "execution_count": null,
      "outputs": []
    },
    {
      "cell_type": "code",
      "metadata": {
        "colab": {
          "base_uri": "https://localhost:8080/"
        },
        "id": "Ny57UZKbfY83",
        "outputId": "f0e9bbb4-9882-45e0-8182-202dad1c7734"
      },
      "source": [
        "label"
      ],
      "execution_count": null,
      "outputs": [
        {
          "output_type": "execute_result",
          "data": {
            "text/plain": [
              "tensor([0, 0, 0, 0, 1, 1, 1, 0, 0, 1, 1, 1, 1, 1, 1, 1, 1, 1, 1, 1, 1, 1, 1, 1,\n",
              "        1, 1, 1, 1, 1, 1])"
            ]
          },
          "metadata": {
            "tags": []
          },
          "execution_count": 68
        }
      ]
    },
    {
      "cell_type": "markdown",
      "metadata": {
        "id": "iBe7Kb6MNs9u"
      },
      "source": [
        "Pairwise"
      ]
    },
    {
      "cell_type": "code",
      "metadata": {
        "id": "8VElqNt8WkKW"
      },
      "source": [
        "from copy import deepcopy"
      ],
      "execution_count": null,
      "outputs": []
    },
    {
      "cell_type": "code",
      "metadata": {
        "id": "tEqhHccxN7dE"
      },
      "source": [
        "class FragmentRepresentation:\n",
        "    def __init__(self, fragment_text, fragment_idx=None):\n",
        "        self.text = fragment_text\n",
        "        self.fragment_idx = fragment_idx"
      ],
      "execution_count": null,
      "outputs": []
    },
    {
      "cell_type": "code",
      "metadata": {
        "id": "duTLQnV3THoq"
      },
      "source": [
        "class FragmentsSequence:\n",
        "    def __init__(self, initial_item:FragmentRepresentation):\n",
        "        self.sequence = [initial_item]\n",
        "        self.probability = 1\n",
        "\n",
        "    def add_next_fragment(self, next_item:FragmentRepresentation, probability:float):\n",
        "        self.sequence.append(next_item)\n",
        "        self.probability *= probability\n",
        "\n",
        "    def get_text_sequence(self):\n",
        "        return [item.text for item in self.sequence]\n",
        "\n",
        "    def get_idx_sequence(self):\n",
        "        return [item.fragment_idx for item in self.sequence]"
      ],
      "execution_count": null,
      "outputs": []
    },
    {
      "cell_type": "code",
      "metadata": {
        "id": "deI3iFTCXOcc"
      },
      "source": [
        "def is_next_probability_probability_pairwise(previous_sequence:FragmentsSequence, next_fragment:FragmentRepresentation, use_gpu=True):\n",
        "    last_sequence_item = previous_sequence.sequence[-1]\n",
        "    encoding = tokenizer(last_sequence_item.text, next_fragment.text, return_tensors='pt', padding=True, truncation=False)\n",
        "    if use_gpu:\n",
        "        for key in encoding:\n",
        "          encoding[key] = encoding[key].cuda()\n",
        "    with torch.no_grad():\n",
        "        outputs = bert_model(**encoding)\n",
        "    probability = float(torch.softmax(outputs.logits, 1)[0, 0])\n",
        "    return probability"
      ],
      "execution_count": null,
      "outputs": []
    },
    {
      "cell_type": "code",
      "metadata": {
        "id": "v4xa0Yq7NmXf"
      },
      "source": [
        "global_best_orders = 'dummy_variable_to_test'\n",
        "def beam_search(first_fragment:FragmentRepresentation, next_fragments:set, num_best=3, scoring_function=is_next_probability_probability_pairwise, return_type='idx'):\n",
        "\n",
        "    global global_best_orders   \n",
        "  \n",
        "\n",
        "    best_orders = [FragmentsSequence(first_fragment)]\n",
        "    for i in range(len(next_fragments)):\n",
        "        current_step_best_orders = []\n",
        "        for order in best_orders:\n",
        "            sequence_items_idxs = order.get_idx_sequence()\n",
        "            possible_next_items = [item for item in next_fragments if item.fragment_idx not in sequence_items_idxs]\n",
        "            scored_possible_next_items = [{'item':item, 'probability':scoring_function(order, item)} for item in possible_next_items]\n",
        "            if len(scored_possible_next_items) <= num_best:\n",
        "                best_next_items = scored_possible_next_items\n",
        "            else: \n",
        "                best_next_items = sorted(scored_possible_next_items, key = lambda x: x['probability'], reverse=True)[:num_best]\n",
        "            for item in best_next_items:\n",
        "                order_copy = deepcopy(order)\n",
        "                order_copy.add_next_fragment(item['item'], item['probability'])\n",
        "                current_step_best_orders.append(order_copy)\n",
        "                global_best_orders = best_orders\n",
        "        best_orders = sorted(current_step_best_orders, key = lambda x: x.probability, reverse=True)\n",
        "        if len(current_step_best_orders) > num_best:\n",
        "            best_orders = best_orders[:num_best]\n",
        "    best_order = best_orders[0]\n",
        "    if return_type=='idx':\n",
        "        return best_order.get_idx_sequence()\n",
        "    elif retutn_type=='text':\n",
        "        return best_order.get_text_sequence()"
      ],
      "execution_count": null,
      "outputs": []
    },
    {
      "cell_type": "code",
      "metadata": {
        "id": "9AErSuhf15ZT"
      },
      "source": [
        "results = []\n",
        "\n",
        "PATHS_DIRECTORY = os.path.join('Quest_data', 'random_paths')\n",
        "path_files = os.listdir(PATHS_DIRECTORY)\n",
        "for test_graph_file in tqdm(test_online_graphs):\n",
        "    if test_graph_file in path_files:\n",
        "        with open(os.path.join(PATHS_DIRECTORY, test_graph_file), encoding='utf-8') as f:\n",
        "            current_quest_paths = json.load(f)\n",
        "        with open(os.path.join(ONLINE_GRAPHS_DIRECTORY, test_graph_file), encoding='utf-8') as f:\n",
        "            G = json_graph.node_link_graph(json.load(f))\n",
        "            nodes = G.nodes()\n",
        "\n",
        "            for path in current_quest_paths:\n",
        "                try:\n",
        "                    real_path = [node_idx for node_idx in path if 'fragment_text' in nodes[node_idx] and isinstance(nodes[node_idx]['fragment_text'], str) and nodes[node_idx]['fragment_text'].strip()]\n",
        "                    first_fragment = FragmentRepresentation(nodes[real_path[0]]['fragment_text'], real_path[0])\n",
        "                    next_candidates = set([FragmentRepresentation(nodes[real_path[i]]['fragment_text'], real_path[i]) for i in range(1, len(real_path))])\n",
        "                    prediction = beam_search(first_fragment, next_candidates)\n",
        "                    results.append({'correct':real_path, 'predicted':prediction})\n",
        "                except Exception as e:\n",
        "                    print(e)\n",
        "\n",
        "        with open('BERT_baseline_predictions.json', 'w', encoding='utf-8') as f:\n",
        "            json.dump(results, f)\n",
        "            \n"
      ],
      "execution_count": null,
      "outputs": []
    },
    {
      "cell_type": "code",
      "metadata": {
        "id": "eUEchBpt3rxC"
      },
      "source": [
        "with open('BERT_baseline_predictions.json', encoding='utf-8') as f:\n",
        "    results = json.load(f)"
      ],
      "execution_count": null,
      "outputs": []
    },
    {
      "cell_type": "code",
      "metadata": {
        "colab": {
          "base_uri": "https://localhost:8080/"
        },
        "id": "Te9RS2e84L_4",
        "outputId": "5db8a6a1-d643-4a66-f89b-922a2aab4a94"
      },
      "source": [
        "len(results)"
      ],
      "execution_count": null,
      "outputs": [
        {
          "output_type": "execute_result",
          "data": {
            "text/plain": [
              "1425"
            ]
          },
          "metadata": {
            "tags": []
          },
          "execution_count": 5
        }
      ]
    },
    {
      "cell_type": "code",
      "metadata": {
        "id": "TvrfECtJ42Ww"
      },
      "source": [
        "results[0]"
      ],
      "execution_count": null,
      "outputs": []
    },
    {
      "cell_type": "code",
      "metadata": {
        "id": "nmlyOqWp4OLH"
      },
      "source": [
        "from scipy import stats"
      ],
      "execution_count": null,
      "outputs": []
    },
    {
      "cell_type": "code",
      "metadata": {
        "colab": {
          "base_uri": "https://localhost:8080/"
        },
        "id": "2jD5s17t5N8j",
        "outputId": "a64604af-d0ae-49d9-9658-113e08c998a9"
      },
      "source": [
        "results[0]['correct'].index(results[0]['predicted'][0])"
      ],
      "execution_count": null,
      "outputs": [
        {
          "output_type": "execute_result",
          "data": {
            "text/plain": [
              "0"
            ]
          },
          "metadata": {
            "tags": []
          },
          "execution_count": 12
        }
      ]
    },
    {
      "cell_type": "code",
      "metadata": {
        "colab": {
          "base_uri": "https://localhost:8080/"
        },
        "id": "L1gi64WV4sGt",
        "outputId": "abe30029-5810-436c-c30d-60fd53689df6"
      },
      "source": [
        "for result in tqdm(results):\n",
        "    #zero element was known, so we score ranks of other elements\n",
        "    correct_ranks = list(range(1, len(result['correct'])))\n",
        "    predicted_ranks = [result['correct'].index(i) for i in result['predicted'][1:]]\n",
        "    tau, p_value = stats.kendalltau(correct_ranks, predicted_ranks)\n",
        "    result['tau'] = tau\n",
        "    result['p_value'] = p_value"
      ],
      "execution_count": null,
      "outputs": [
        {
          "output_type": "stream",
          "text": [
            "100%|██████████| 1425/1425 [00:00<00:00, 2088.66it/s]\n"
          ],
          "name": "stderr"
        }
      ]
    },
    {
      "cell_type": "code",
      "metadata": {
        "id": "-gfPAvfd6Pe9"
      },
      "source": [
        "import pandas as pd"
      ],
      "execution_count": null,
      "outputs": []
    },
    {
      "cell_type": "code",
      "metadata": {
        "id": "HH5LOKXjBj6M"
      },
      "source": [
        "def get_correct_pairs_acc"
      ],
      "execution_count": null,
      "outputs": []
    },
    {
      "cell_type": "code",
      "metadata": {
        "id": "HzM-ow526UN_"
      },
      "source": [
        "tau_df = pd.DataFrame({\n",
        "    'num_candidates':[len(result['correct'])-1 for result in results],\n",
        "    'tau': [result['tau'] for result in results],\n",
        "    'correct_pairs_r': []\n",
        "    })"
      ],
      "execution_count": null,
      "outputs": []
    },
    {
      "cell_type": "code",
      "metadata": {
        "colab": {
          "base_uri": "https://localhost:8080/",
          "height": 297
        },
        "id": "pCeJNiRq9LKh",
        "outputId": "4c15968b-be43-47e6-8df1-43dc16cc8ae1"
      },
      "source": [
        "tau_df.describe()"
      ],
      "execution_count": null,
      "outputs": [
        {
          "output_type": "execute_result",
          "data": {
            "text/html": [
              "<div>\n",
              "<style scoped>\n",
              "    .dataframe tbody tr th:only-of-type {\n",
              "        vertical-align: middle;\n",
              "    }\n",
              "\n",
              "    .dataframe tbody tr th {\n",
              "        vertical-align: top;\n",
              "    }\n",
              "\n",
              "    .dataframe thead th {\n",
              "        text-align: right;\n",
              "    }\n",
              "</style>\n",
              "<table border=\"1\" class=\"dataframe\">\n",
              "  <thead>\n",
              "    <tr style=\"text-align: right;\">\n",
              "      <th></th>\n",
              "      <th>num_candidates</th>\n",
              "      <th>tau</th>\n",
              "      <th>p_value</th>\n",
              "    </tr>\n",
              "  </thead>\n",
              "  <tbody>\n",
              "    <tr>\n",
              "      <th>count</th>\n",
              "      <td>1425.000000</td>\n",
              "      <td>1425.000000</td>\n",
              "      <td>1425.000000</td>\n",
              "    </tr>\n",
              "    <tr>\n",
              "      <th>mean</th>\n",
              "      <td>11.614737</td>\n",
              "      <td>-0.027728</td>\n",
              "      <td>0.481880</td>\n",
              "    </tr>\n",
              "    <tr>\n",
              "      <th>std</th>\n",
              "      <td>5.938678</td>\n",
              "      <td>0.353020</td>\n",
              "      <td>0.355001</td>\n",
              "    </tr>\n",
              "    <tr>\n",
              "      <th>min</th>\n",
              "      <td>2.000000</td>\n",
              "      <td>-1.000000</td>\n",
              "      <td>0.000083</td>\n",
              "    </tr>\n",
              "    <tr>\n",
              "      <th>25%</th>\n",
              "      <td>7.000000</td>\n",
              "      <td>-0.233333</td>\n",
              "      <td>0.128789</td>\n",
              "    </tr>\n",
              "    <tr>\n",
              "      <th>50%</th>\n",
              "      <td>11.000000</td>\n",
              "      <td>-0.047619</td>\n",
              "      <td>0.469444</td>\n",
              "    </tr>\n",
              "    <tr>\n",
              "      <th>75%</th>\n",
              "      <td>14.000000</td>\n",
              "      <td>0.200000</td>\n",
              "      <td>0.761150</td>\n",
              "    </tr>\n",
              "    <tr>\n",
              "      <th>max</th>\n",
              "      <td>35.000000</td>\n",
              "      <td>1.000000</td>\n",
              "      <td>1.250000</td>\n",
              "    </tr>\n",
              "  </tbody>\n",
              "</table>\n",
              "</div>"
            ],
            "text/plain": [
              "       num_candidates          tau      p_value\n",
              "count     1425.000000  1425.000000  1425.000000\n",
              "mean        11.614737    -0.027728     0.481880\n",
              "std          5.938678     0.353020     0.355001\n",
              "min          2.000000    -1.000000     0.000083\n",
              "25%          7.000000    -0.233333     0.128789\n",
              "50%         11.000000    -0.047619     0.469444\n",
              "75%         14.000000     0.200000     0.761150\n",
              "max         35.000000     1.000000     1.250000"
            ]
          },
          "metadata": {
            "tags": []
          },
          "execution_count": 20
        }
      ]
    },
    {
      "cell_type": "code",
      "metadata": {
        "colab": {
          "base_uri": "https://localhost:8080/",
          "height": 1000
        },
        "id": "lwOgOHjp9VHW",
        "outputId": "37a63684-697a-4f55-9f75-556955ac17e5"
      },
      "source": [
        "tau_df.groupby('num_candidates').describe()"
      ],
      "execution_count": null,
      "outputs": [
        {
          "output_type": "execute_result",
          "data": {
            "text/html": [
              "<div>\n",
              "<style scoped>\n",
              "    .dataframe tbody tr th:only-of-type {\n",
              "        vertical-align: middle;\n",
              "    }\n",
              "\n",
              "    .dataframe tbody tr th {\n",
              "        vertical-align: top;\n",
              "    }\n",
              "\n",
              "    .dataframe thead tr th {\n",
              "        text-align: left;\n",
              "    }\n",
              "\n",
              "    .dataframe thead tr:last-of-type th {\n",
              "        text-align: right;\n",
              "    }\n",
              "</style>\n",
              "<table border=\"1\" class=\"dataframe\">\n",
              "  <thead>\n",
              "    <tr>\n",
              "      <th></th>\n",
              "      <th colspan=\"8\" halign=\"left\">tau</th>\n",
              "      <th colspan=\"8\" halign=\"left\">p_value</th>\n",
              "    </tr>\n",
              "    <tr>\n",
              "      <th></th>\n",
              "      <th>count</th>\n",
              "      <th>mean</th>\n",
              "      <th>std</th>\n",
              "      <th>min</th>\n",
              "      <th>25%</th>\n",
              "      <th>50%</th>\n",
              "      <th>75%</th>\n",
              "      <th>max</th>\n",
              "      <th>count</th>\n",
              "      <th>mean</th>\n",
              "      <th>std</th>\n",
              "      <th>min</th>\n",
              "      <th>25%</th>\n",
              "      <th>50%</th>\n",
              "      <th>75%</th>\n",
              "      <th>max</th>\n",
              "    </tr>\n",
              "    <tr>\n",
              "      <th>num_candidates</th>\n",
              "      <th></th>\n",
              "      <th></th>\n",
              "      <th></th>\n",
              "      <th></th>\n",
              "      <th></th>\n",
              "      <th></th>\n",
              "      <th></th>\n",
              "      <th></th>\n",
              "      <th></th>\n",
              "      <th></th>\n",
              "      <th></th>\n",
              "      <th></th>\n",
              "      <th></th>\n",
              "      <th></th>\n",
              "      <th></th>\n",
              "      <th></th>\n",
              "    </tr>\n",
              "  </thead>\n",
              "  <tbody>\n",
              "    <tr>\n",
              "      <th>2</th>\n",
              "      <td>21.0</td>\n",
              "      <td>-0.809524</td>\n",
              "      <td>0.601585</td>\n",
              "      <td>-1.000000</td>\n",
              "      <td>-1.000000</td>\n",
              "      <td>-1.000000</td>\n",
              "      <td>-1.000000</td>\n",
              "      <td>1.000000</td>\n",
              "      <td>21.0</td>\n",
              "      <td>1.000000</td>\n",
              "      <td>0.000000</td>\n",
              "      <td>1.000000</td>\n",
              "      <td>1.000000</td>\n",
              "      <td>1.000000</td>\n",
              "      <td>1.000000</td>\n",
              "      <td>1.000000</td>\n",
              "    </tr>\n",
              "    <tr>\n",
              "      <th>3</th>\n",
              "      <td>39.0</td>\n",
              "      <td>0.094017</td>\n",
              "      <td>0.582135</td>\n",
              "      <td>-1.000000</td>\n",
              "      <td>-0.333333</td>\n",
              "      <td>0.333333</td>\n",
              "      <td>0.333333</td>\n",
              "      <td>1.000000</td>\n",
              "      <td>39.0</td>\n",
              "      <td>0.829060</td>\n",
              "      <td>0.294906</td>\n",
              "      <td>0.333333</td>\n",
              "      <td>0.666667</td>\n",
              "      <td>1.000000</td>\n",
              "      <td>1.000000</td>\n",
              "      <td>1.000000</td>\n",
              "    </tr>\n",
              "    <tr>\n",
              "      <th>4</th>\n",
              "      <td>73.0</td>\n",
              "      <td>0.200913</td>\n",
              "      <td>0.453858</td>\n",
              "      <td>-1.000000</td>\n",
              "      <td>0.000000</td>\n",
              "      <td>0.333333</td>\n",
              "      <td>0.333333</td>\n",
              "      <td>1.000000</td>\n",
              "      <td>73.0</td>\n",
              "      <td>0.697489</td>\n",
              "      <td>0.347363</td>\n",
              "      <td>0.083333</td>\n",
              "      <td>0.333333</td>\n",
              "      <td>0.750000</td>\n",
              "      <td>0.750000</td>\n",
              "      <td>1.250000</td>\n",
              "    </tr>\n",
              "    <tr>\n",
              "      <th>5</th>\n",
              "      <td>85.0</td>\n",
              "      <td>-0.014118</td>\n",
              "      <td>0.341967</td>\n",
              "      <td>-0.800000</td>\n",
              "      <td>-0.200000</td>\n",
              "      <td>0.000000</td>\n",
              "      <td>0.200000</td>\n",
              "      <td>1.000000</td>\n",
              "      <td>85.0</td>\n",
              "      <td>0.797451</td>\n",
              "      <td>0.366121</td>\n",
              "      <td>0.016667</td>\n",
              "      <td>0.483333</td>\n",
              "      <td>0.816667</td>\n",
              "      <td>1.183333</td>\n",
              "      <td>1.183333</td>\n",
              "    </tr>\n",
              "    <tr>\n",
              "      <th>6</th>\n",
              "      <td>67.0</td>\n",
              "      <td>0.058706</td>\n",
              "      <td>0.350377</td>\n",
              "      <td>-0.733333</td>\n",
              "      <td>-0.200000</td>\n",
              "      <td>0.066667</td>\n",
              "      <td>0.333333</td>\n",
              "      <td>0.733333</td>\n",
              "      <td>67.0</td>\n",
              "      <td>0.621061</td>\n",
              "      <td>0.343948</td>\n",
              "      <td>0.055556</td>\n",
              "      <td>0.272222</td>\n",
              "      <td>0.719444</td>\n",
              "      <td>1.000000</td>\n",
              "      <td>1.000000</td>\n",
              "    </tr>\n",
              "    <tr>\n",
              "      <th>7</th>\n",
              "      <td>89.0</td>\n",
              "      <td>-0.026217</td>\n",
              "      <td>0.405272</td>\n",
              "      <td>-0.904762</td>\n",
              "      <td>-0.238095</td>\n",
              "      <td>-0.047619</td>\n",
              "      <td>0.238095</td>\n",
              "      <td>0.809524</td>\n",
              "      <td>89.0</td>\n",
              "      <td>0.514312</td>\n",
              "      <td>0.329860</td>\n",
              "      <td>0.002778</td>\n",
              "      <td>0.136111</td>\n",
              "      <td>0.561905</td>\n",
              "      <td>0.772619</td>\n",
              "      <td>1.000000</td>\n",
              "    </tr>\n",
              "    <tr>\n",
              "      <th>8</th>\n",
              "      <td>74.0</td>\n",
              "      <td>-0.129344</td>\n",
              "      <td>0.325222</td>\n",
              "      <td>-0.857143</td>\n",
              "      <td>-0.357143</td>\n",
              "      <td>-0.178571</td>\n",
              "      <td>0.071429</td>\n",
              "      <td>0.714286</td>\n",
              "      <td>74.0</td>\n",
              "      <td>0.470388</td>\n",
              "      <td>0.317969</td>\n",
              "      <td>0.001736</td>\n",
              "      <td>0.178869</td>\n",
              "      <td>0.398760</td>\n",
              "      <td>0.719544</td>\n",
              "      <td>1.095139</td>\n",
              "    </tr>\n",
              "    <tr>\n",
              "      <th>9</th>\n",
              "      <td>100.0</td>\n",
              "      <td>-0.141111</td>\n",
              "      <td>0.343868</td>\n",
              "      <td>-0.888889</td>\n",
              "      <td>-0.444444</td>\n",
              "      <td>-0.111111</td>\n",
              "      <td>0.166667</td>\n",
              "      <td>0.611111</td>\n",
              "      <td>100.0</td>\n",
              "      <td>0.422214</td>\n",
              "      <td>0.317303</td>\n",
              "      <td>0.000243</td>\n",
              "      <td>0.119439</td>\n",
              "      <td>0.417598</td>\n",
              "      <td>0.649505</td>\n",
              "      <td>1.080545</td>\n",
              "    </tr>\n",
              "    <tr>\n",
              "      <th>10</th>\n",
              "      <td>107.0</td>\n",
              "      <td>-0.028037</td>\n",
              "      <td>0.286221</td>\n",
              "      <td>-0.822222</td>\n",
              "      <td>-0.200000</td>\n",
              "      <td>0.066667</td>\n",
              "      <td>0.155556</td>\n",
              "      <td>0.555556</td>\n",
              "      <td>107.0</td>\n",
              "      <td>0.519831</td>\n",
              "      <td>0.317570</td>\n",
              "      <td>0.000358</td>\n",
              "      <td>0.216373</td>\n",
              "      <td>0.600654</td>\n",
              "      <td>0.727490</td>\n",
              "      <td>1.000000</td>\n",
              "    </tr>\n",
              "    <tr>\n",
              "      <th>11</th>\n",
              "      <td>152.0</td>\n",
              "      <td>-0.045933</td>\n",
              "      <td>0.281321</td>\n",
              "      <td>-0.745455</td>\n",
              "      <td>-0.245455</td>\n",
              "      <td>0.018182</td>\n",
              "      <td>0.127273</td>\n",
              "      <td>0.672727</td>\n",
              "      <td>152.0</td>\n",
              "      <td>0.485896</td>\n",
              "      <td>0.315941</td>\n",
              "      <td>0.000760</td>\n",
              "      <td>0.164573</td>\n",
              "      <td>0.542259</td>\n",
              "      <td>0.761150</td>\n",
              "      <td>1.000000</td>\n",
              "    </tr>\n",
              "    <tr>\n",
              "      <th>12</th>\n",
              "      <td>99.0</td>\n",
              "      <td>-0.082032</td>\n",
              "      <td>0.295904</td>\n",
              "      <td>-0.575758</td>\n",
              "      <td>-0.303030</td>\n",
              "      <td>-0.121212</td>\n",
              "      <td>0.106061</td>\n",
              "      <td>0.636364</td>\n",
              "      <td>99.0</td>\n",
              "      <td>0.400383</td>\n",
              "      <td>0.323503</td>\n",
              "      <td>0.003182</td>\n",
              "      <td>0.086317</td>\n",
              "      <td>0.380705</td>\n",
              "      <td>0.638361</td>\n",
              "      <td>1.053441</td>\n",
              "    </tr>\n",
              "    <tr>\n",
              "      <th>13</th>\n",
              "      <td>122.0</td>\n",
              "      <td>-0.084489</td>\n",
              "      <td>0.228811</td>\n",
              "      <td>-0.589744</td>\n",
              "      <td>-0.179487</td>\n",
              "      <td>-0.128205</td>\n",
              "      <td>-0.025641</td>\n",
              "      <td>0.589744</td>\n",
              "      <td>122.0</td>\n",
              "      <td>0.473615</td>\n",
              "      <td>0.287776</td>\n",
              "      <td>0.004289</td>\n",
              "      <td>0.306185</td>\n",
              "      <td>0.509775</td>\n",
              "      <td>0.675433</td>\n",
              "      <td>1.047638</td>\n",
              "    </tr>\n",
              "    <tr>\n",
              "      <th>14</th>\n",
              "      <td>62.0</td>\n",
              "      <td>-0.035094</td>\n",
              "      <td>0.296599</td>\n",
              "      <td>-0.494505</td>\n",
              "      <td>-0.258242</td>\n",
              "      <td>-0.098901</td>\n",
              "      <td>0.093407</td>\n",
              "      <td>0.648352</td>\n",
              "      <td>62.0</td>\n",
              "      <td>0.381827</td>\n",
              "      <td>0.327092</td>\n",
              "      <td>0.000758</td>\n",
              "      <td>0.079457</td>\n",
              "      <td>0.330811</td>\n",
              "      <td>0.667174</td>\n",
              "      <td>1.000000</td>\n",
              "    </tr>\n",
              "    <tr>\n",
              "      <th>15</th>\n",
              "      <td>32.0</td>\n",
              "      <td>0.038095</td>\n",
              "      <td>0.345204</td>\n",
              "      <td>-0.466667</td>\n",
              "      <td>-0.176190</td>\n",
              "      <td>-0.066667</td>\n",
              "      <td>0.423810</td>\n",
              "      <td>0.619048</td>\n",
              "      <td>32.0</td>\n",
              "      <td>0.332917</td>\n",
              "      <td>0.348577</td>\n",
              "      <td>0.000836</td>\n",
              "      <td>0.015511</td>\n",
              "      <td>0.092643</td>\n",
              "      <td>0.697181</td>\n",
              "      <td>0.922570</td>\n",
              "    </tr>\n",
              "    <tr>\n",
              "      <th>16</th>\n",
              "      <td>47.0</td>\n",
              "      <td>0.087234</td>\n",
              "      <td>0.332793</td>\n",
              "      <td>-0.366667</td>\n",
              "      <td>-0.200000</td>\n",
              "      <td>-0.016667</td>\n",
              "      <td>0.400000</td>\n",
              "      <td>0.683333</td>\n",
              "      <td>47.0</td>\n",
              "      <td>0.307274</td>\n",
              "      <td>0.329892</td>\n",
              "      <td>0.000083</td>\n",
              "      <td>0.032626</td>\n",
              "      <td>0.165275</td>\n",
              "      <td>0.595067</td>\n",
              "      <td>1.035305</td>\n",
              "    </tr>\n",
              "    <tr>\n",
              "      <th>17</th>\n",
              "      <td>31.0</td>\n",
              "      <td>0.053605</td>\n",
              "      <td>0.347788</td>\n",
              "      <td>-0.455882</td>\n",
              "      <td>-0.242647</td>\n",
              "      <td>-0.014706</td>\n",
              "      <td>0.389706</td>\n",
              "      <td>0.602941</td>\n",
              "      <td>31.0</td>\n",
              "      <td>0.222462</td>\n",
              "      <td>0.291560</td>\n",
              "      <td>0.000432</td>\n",
              "      <td>0.013730</td>\n",
              "      <td>0.076169</td>\n",
              "      <td>0.348846</td>\n",
              "      <td>0.967664</td>\n",
              "    </tr>\n",
              "    <tr>\n",
              "      <th>18</th>\n",
              "      <td>35.0</td>\n",
              "      <td>-0.096919</td>\n",
              "      <td>0.236644</td>\n",
              "      <td>-0.424837</td>\n",
              "      <td>-0.261438</td>\n",
              "      <td>-0.124183</td>\n",
              "      <td>-0.039216</td>\n",
              "      <td>0.607843</td>\n",
              "      <td>35.0</td>\n",
              "      <td>0.347506</td>\n",
              "      <td>0.295540</td>\n",
              "      <td>0.000226</td>\n",
              "      <td>0.074890</td>\n",
              "      <td>0.329674</td>\n",
              "      <td>0.600931</td>\n",
              "      <td>1.000000</td>\n",
              "    </tr>\n",
              "    <tr>\n",
              "      <th>19</th>\n",
              "      <td>25.0</td>\n",
              "      <td>0.066667</td>\n",
              "      <td>0.233455</td>\n",
              "      <td>-0.415205</td>\n",
              "      <td>-0.122807</td>\n",
              "      <td>-0.005848</td>\n",
              "      <td>0.309942</td>\n",
              "      <td>0.438596</td>\n",
              "      <td>25.0</td>\n",
              "      <td>0.384034</td>\n",
              "      <td>0.344802</td>\n",
              "      <td>0.008264</td>\n",
              "      <td>0.068360</td>\n",
              "      <td>0.332007</td>\n",
              "      <td>0.628824</td>\n",
              "      <td>1.000000</td>\n",
              "    </tr>\n",
              "    <tr>\n",
              "      <th>20</th>\n",
              "      <td>29.0</td>\n",
              "      <td>0.080218</td>\n",
              "      <td>0.249422</td>\n",
              "      <td>-0.378947</td>\n",
              "      <td>-0.094737</td>\n",
              "      <td>0.031579</td>\n",
              "      <td>0.221053</td>\n",
              "      <td>0.515789</td>\n",
              "      <td>29.0</td>\n",
              "      <td>0.392537</td>\n",
              "      <td>0.309932</td>\n",
              "      <td>0.001100</td>\n",
              "      <td>0.028329</td>\n",
              "      <td>0.422250</td>\n",
              "      <td>0.677108</td>\n",
              "      <td>0.872841</td>\n",
              "    </tr>\n",
              "    <tr>\n",
              "      <th>21</th>\n",
              "      <td>28.0</td>\n",
              "      <td>0.173810</td>\n",
              "      <td>0.250084</td>\n",
              "      <td>-0.219048</td>\n",
              "      <td>-0.064286</td>\n",
              "      <td>0.161905</td>\n",
              "      <td>0.397619</td>\n",
              "      <td>0.571429</td>\n",
              "      <td>28.0</td>\n",
              "      <td>0.286910</td>\n",
              "      <td>0.270153</td>\n",
              "      <td>0.000155</td>\n",
              "      <td>0.011683</td>\n",
              "      <td>0.267491</td>\n",
              "      <td>0.457347</td>\n",
              "      <td>0.834682</td>\n",
              "    </tr>\n",
              "    <tr>\n",
              "      <th>22</th>\n",
              "      <td>20.0</td>\n",
              "      <td>0.123377</td>\n",
              "      <td>0.274206</td>\n",
              "      <td>-0.402597</td>\n",
              "      <td>-0.108225</td>\n",
              "      <td>0.147186</td>\n",
              "      <td>0.380952</td>\n",
              "      <td>0.541126</td>\n",
              "      <td>20.0</td>\n",
              "      <td>0.269739</td>\n",
              "      <td>0.302774</td>\n",
              "      <td>0.000256</td>\n",
              "      <td>0.009538</td>\n",
              "      <td>0.177968</td>\n",
              "      <td>0.503054</td>\n",
              "      <td>0.955577</td>\n",
              "    </tr>\n",
              "    <tr>\n",
              "      <th>23</th>\n",
              "      <td>17.0</td>\n",
              "      <td>0.130435</td>\n",
              "      <td>0.259985</td>\n",
              "      <td>-0.328063</td>\n",
              "      <td>-0.043478</td>\n",
              "      <td>0.177866</td>\n",
              "      <td>0.359684</td>\n",
              "      <td>0.517787</td>\n",
              "      <td>17.0</td>\n",
              "      <td>0.254077</td>\n",
              "      <td>0.321195</td>\n",
              "      <td>0.000352</td>\n",
              "      <td>0.016209</td>\n",
              "      <td>0.101926</td>\n",
              "      <td>0.373350</td>\n",
              "      <td>0.916847</td>\n",
              "    </tr>\n",
              "    <tr>\n",
              "      <th>24</th>\n",
              "      <td>14.0</td>\n",
              "      <td>0.076087</td>\n",
              "      <td>0.275403</td>\n",
              "      <td>-0.289855</td>\n",
              "      <td>-0.067029</td>\n",
              "      <td>0.010870</td>\n",
              "      <td>0.244565</td>\n",
              "      <td>0.536232</td>\n",
              "      <td>14.0</td>\n",
              "      <td>0.383027</td>\n",
              "      <td>0.407347</td>\n",
              "      <td>0.000136</td>\n",
              "      <td>0.050809</td>\n",
              "      <td>0.138891</td>\n",
              "      <td>0.722559</td>\n",
              "      <td>1.019567</td>\n",
              "    </tr>\n",
              "    <tr>\n",
              "      <th>25</th>\n",
              "      <td>6.0</td>\n",
              "      <td>-0.026667</td>\n",
              "      <td>0.172871</td>\n",
              "      <td>-0.186667</td>\n",
              "      <td>-0.181667</td>\n",
              "      <td>-0.053333</td>\n",
              "      <td>0.115000</td>\n",
              "      <td>0.186667</td>\n",
              "      <td>6.0</td>\n",
              "      <td>0.319890</td>\n",
              "      <td>0.194325</td>\n",
              "      <td>0.201157</td>\n",
              "      <td>0.201157</td>\n",
              "      <td>0.228264</td>\n",
              "      <td>0.338460</td>\n",
              "      <td>0.694342</td>\n",
              "    </tr>\n",
              "    <tr>\n",
              "      <th>26</th>\n",
              "      <td>14.0</td>\n",
              "      <td>-0.116923</td>\n",
              "      <td>0.207550</td>\n",
              "      <td>-0.255385</td>\n",
              "      <td>-0.241538</td>\n",
              "      <td>-0.212308</td>\n",
              "      <td>-0.153846</td>\n",
              "      <td>0.329231</td>\n",
              "      <td>14.0</td>\n",
              "      <td>0.153657</td>\n",
              "      <td>0.141417</td>\n",
              "      <td>0.018372</td>\n",
              "      <td>0.072217</td>\n",
              "      <td>0.094093</td>\n",
              "      <td>0.234251</td>\n",
              "      <td>0.540831</td>\n",
              "    </tr>\n",
              "    <tr>\n",
              "      <th>27</th>\n",
              "      <td>11.0</td>\n",
              "      <td>-0.109557</td>\n",
              "      <td>0.222880</td>\n",
              "      <td>-0.339031</td>\n",
              "      <td>-0.299145</td>\n",
              "      <td>-0.207977</td>\n",
              "      <td>0.150997</td>\n",
              "      <td>0.179487</td>\n",
              "      <td>11.0</td>\n",
              "      <td>0.140058</td>\n",
              "      <td>0.111705</td>\n",
              "      <td>0.012877</td>\n",
              "      <td>0.030494</td>\n",
              "      <td>0.134321</td>\n",
              "      <td>0.213203</td>\n",
              "      <td>0.362486</td>\n",
              "    </tr>\n",
              "    <tr>\n",
              "      <th>28</th>\n",
              "      <td>7.0</td>\n",
              "      <td>-0.214664</td>\n",
              "      <td>0.166810</td>\n",
              "      <td>-0.333333</td>\n",
              "      <td>-0.296296</td>\n",
              "      <td>-0.259259</td>\n",
              "      <td>-0.235450</td>\n",
              "      <td>0.153439</td>\n",
              "      <td>7.0</td>\n",
              "      <td>0.079590</td>\n",
              "      <td>0.086944</td>\n",
              "      <td>0.012552</td>\n",
              "      <td>0.028484</td>\n",
              "      <td>0.054742</td>\n",
              "      <td>0.085040</td>\n",
              "      <td>0.262789</td>\n",
              "    </tr>\n",
              "    <tr>\n",
              "      <th>29</th>\n",
              "      <td>14.0</td>\n",
              "      <td>-0.093244</td>\n",
              "      <td>0.242752</td>\n",
              "      <td>-0.300493</td>\n",
              "      <td>-0.245074</td>\n",
              "      <td>-0.211823</td>\n",
              "      <td>-0.024631</td>\n",
              "      <td>0.438424</td>\n",
              "      <td>14.0</td>\n",
              "      <td>0.183164</td>\n",
              "      <td>0.284178</td>\n",
              "      <td>0.000641</td>\n",
              "      <td>0.031673</td>\n",
              "      <td>0.071541</td>\n",
              "      <td>0.132346</td>\n",
              "      <td>0.896494</td>\n",
              "    </tr>\n",
              "    <tr>\n",
              "      <th>30</th>\n",
              "      <td>1.0</td>\n",
              "      <td>0.209195</td>\n",
              "      <td>NaN</td>\n",
              "      <td>0.209195</td>\n",
              "      <td>0.209195</td>\n",
              "      <td>0.209195</td>\n",
              "      <td>0.209195</td>\n",
              "      <td>0.209195</td>\n",
              "      <td>1.0</td>\n",
              "      <td>0.108774</td>\n",
              "      <td>NaN</td>\n",
              "      <td>0.108774</td>\n",
              "      <td>0.108774</td>\n",
              "      <td>0.108774</td>\n",
              "      <td>0.108774</td>\n",
              "      <td>0.108774</td>\n",
              "    </tr>\n",
              "    <tr>\n",
              "      <th>31</th>\n",
              "      <td>1.0</td>\n",
              "      <td>0.023656</td>\n",
              "      <td>NaN</td>\n",
              "      <td>0.023656</td>\n",
              "      <td>0.023656</td>\n",
              "      <td>0.023656</td>\n",
              "      <td>0.023656</td>\n",
              "      <td>0.023656</td>\n",
              "      <td>1.0</td>\n",
              "      <td>0.866191</td>\n",
              "      <td>NaN</td>\n",
              "      <td>0.866191</td>\n",
              "      <td>0.866191</td>\n",
              "      <td>0.866191</td>\n",
              "      <td>0.866191</td>\n",
              "      <td>0.866191</td>\n",
              "    </tr>\n",
              "    <tr>\n",
              "      <th>32</th>\n",
              "      <td>1.0</td>\n",
              "      <td>0.000000</td>\n",
              "      <td>NaN</td>\n",
              "      <td>0.000000</td>\n",
              "      <td>0.000000</td>\n",
              "      <td>0.000000</td>\n",
              "      <td>0.000000</td>\n",
              "      <td>0.000000</td>\n",
              "      <td>1.0</td>\n",
              "      <td>1.012829</td>\n",
              "      <td>NaN</td>\n",
              "      <td>1.012829</td>\n",
              "      <td>1.012829</td>\n",
              "      <td>1.012829</td>\n",
              "      <td>1.012829</td>\n",
              "      <td>1.012829</td>\n",
              "    </tr>\n",
              "    <tr>\n",
              "      <th>34</th>\n",
              "      <td>1.0</td>\n",
              "      <td>0.048128</td>\n",
              "      <td>NaN</td>\n",
              "      <td>0.048128</td>\n",
              "      <td>0.048128</td>\n",
              "      <td>0.048128</td>\n",
              "      <td>0.048128</td>\n",
              "      <td>0.048128</td>\n",
              "      <td>1.0</td>\n",
              "      <td>0.688965</td>\n",
              "      <td>NaN</td>\n",
              "      <td>0.688965</td>\n",
              "      <td>0.688965</td>\n",
              "      <td>0.688965</td>\n",
              "      <td>0.688965</td>\n",
              "      <td>0.688965</td>\n",
              "    </tr>\n",
              "    <tr>\n",
              "      <th>35</th>\n",
              "      <td>1.0</td>\n",
              "      <td>0.354622</td>\n",
              "      <td>NaN</td>\n",
              "      <td>0.354622</td>\n",
              "      <td>0.354622</td>\n",
              "      <td>0.354622</td>\n",
              "      <td>0.354622</td>\n",
              "      <td>0.354622</td>\n",
              "      <td>1.0</td>\n",
              "      <td>0.002731</td>\n",
              "      <td>NaN</td>\n",
              "      <td>0.002731</td>\n",
              "      <td>0.002731</td>\n",
              "      <td>0.002731</td>\n",
              "      <td>0.002731</td>\n",
              "      <td>0.002731</td>\n",
              "    </tr>\n",
              "  </tbody>\n",
              "</table>\n",
              "</div>"
            ],
            "text/plain": [
              "                  tau                      ...   p_value                    \n",
              "                count      mean       std  ...       50%       75%       max\n",
              "num_candidates                             ...                              \n",
              "2                21.0 -0.809524  0.601585  ...  1.000000  1.000000  1.000000\n",
              "3                39.0  0.094017  0.582135  ...  1.000000  1.000000  1.000000\n",
              "4                73.0  0.200913  0.453858  ...  0.750000  0.750000  1.250000\n",
              "5                85.0 -0.014118  0.341967  ...  0.816667  1.183333  1.183333\n",
              "6                67.0  0.058706  0.350377  ...  0.719444  1.000000  1.000000\n",
              "7                89.0 -0.026217  0.405272  ...  0.561905  0.772619  1.000000\n",
              "8                74.0 -0.129344  0.325222  ...  0.398760  0.719544  1.095139\n",
              "9               100.0 -0.141111  0.343868  ...  0.417598  0.649505  1.080545\n",
              "10              107.0 -0.028037  0.286221  ...  0.600654  0.727490  1.000000\n",
              "11              152.0 -0.045933  0.281321  ...  0.542259  0.761150  1.000000\n",
              "12               99.0 -0.082032  0.295904  ...  0.380705  0.638361  1.053441\n",
              "13              122.0 -0.084489  0.228811  ...  0.509775  0.675433  1.047638\n",
              "14               62.0 -0.035094  0.296599  ...  0.330811  0.667174  1.000000\n",
              "15               32.0  0.038095  0.345204  ...  0.092643  0.697181  0.922570\n",
              "16               47.0  0.087234  0.332793  ...  0.165275  0.595067  1.035305\n",
              "17               31.0  0.053605  0.347788  ...  0.076169  0.348846  0.967664\n",
              "18               35.0 -0.096919  0.236644  ...  0.329674  0.600931  1.000000\n",
              "19               25.0  0.066667  0.233455  ...  0.332007  0.628824  1.000000\n",
              "20               29.0  0.080218  0.249422  ...  0.422250  0.677108  0.872841\n",
              "21               28.0  0.173810  0.250084  ...  0.267491  0.457347  0.834682\n",
              "22               20.0  0.123377  0.274206  ...  0.177968  0.503054  0.955577\n",
              "23               17.0  0.130435  0.259985  ...  0.101926  0.373350  0.916847\n",
              "24               14.0  0.076087  0.275403  ...  0.138891  0.722559  1.019567\n",
              "25                6.0 -0.026667  0.172871  ...  0.228264  0.338460  0.694342\n",
              "26               14.0 -0.116923  0.207550  ...  0.094093  0.234251  0.540831\n",
              "27               11.0 -0.109557  0.222880  ...  0.134321  0.213203  0.362486\n",
              "28                7.0 -0.214664  0.166810  ...  0.054742  0.085040  0.262789\n",
              "29               14.0 -0.093244  0.242752  ...  0.071541  0.132346  0.896494\n",
              "30                1.0  0.209195       NaN  ...  0.108774  0.108774  0.108774\n",
              "31                1.0  0.023656       NaN  ...  0.866191  0.866191  0.866191\n",
              "32                1.0  0.000000       NaN  ...  1.012829  1.012829  1.012829\n",
              "34                1.0  0.048128       NaN  ...  0.688965  0.688965  0.688965\n",
              "35                1.0  0.354622       NaN  ...  0.002731  0.002731  0.002731\n",
              "\n",
              "[33 rows x 16 columns]"
            ]
          },
          "metadata": {
            "tags": []
          },
          "execution_count": 24
        }
      ]
    },
    {
      "cell_type": "code",
      "metadata": {
        "id": "fNbf-HMwlgY5"
      },
      "source": [
        "stats.kendalltau([i for i in range(seq_len)], random.shuffle([i for i in range(seq_len)]))"
      ],
      "execution_count": null,
      "outputs": []
    },
    {
      "cell_type": "markdown",
      "metadata": {
        "id": "a2FtvHsQu7Sb"
      },
      "source": [
        "#Fine tuning"
      ]
    },
    {
      "cell_type": "code",
      "metadata": {
        "id": "L5lnioWgu6QC"
      },
      "source": [
        "def encode_pair(text1, text2, tokenizer, limit=512, cuda=True):\n",
        "    full_encoding = tokenizer(text1, text2, return_tensors='pt')\n",
        "    if full_encoding.input_ids.shape[1] <= limit:\n",
        "        encoding = full_encoding\n",
        "    else:\n",
        "        half_limit = limit//2-3\n",
        "        #We encode texts, remove technical tokens [CLS] and [SEP] (first and last token), cut the sequence and encode a pair again\n",
        "        short_version1 = tokenizer.decode(tokenizer.encode(text1)[1:-1][-half_limit:])\n",
        "        short_version2 = tokenizer.decode(tokenizer.encode(text1)[1:-1][:half_limit])\n",
        "        encoding = tokenizer(short_version1, short_version2, return_tensors='pt')\n",
        "    if cuda:\n",
        "        return {key:encoding[key].cuda() for key in encoding}\n",
        "    else:\n",
        "        return encoding"
      ],
      "execution_count": null,
      "outputs": []
    },
    {
      "cell_type": "code",
      "metadata": {
        "id": "ye2m54OH1pzv"
      },
      "source": [
        "bert_model.train()\n",
        "bert_model.bert.requires_grad_ = True\n",
        "bert_model.cls.requires_grad_ = True\n",
        "\n",
        "\n",
        "\n",
        "optimizer = torch.optim.Adam([\n",
        "                              {'params': bert_model.cls.parameters(), 'lr':1e-3},\n",
        "                              {'params': bert_model.bert.parameters(), 'lr':1e-5},\n",
        "                              ],)\n",
        "criterion = torch.nn.BCELoss()"
      ],
      "execution_count": null,
      "outputs": []
    },
    {
      "cell_type": "code",
      "metadata": {
        "colab": {
          "base_uri": "https://localhost:8080/"
        },
        "id": "tSZbXBB0YF-S",
        "outputId": "7717b85f-f0f7-4844-ce8e-6348914fba7d"
      },
      "source": [
        "encoding"
      ],
      "execution_count": null,
      "outputs": [
        {
          "output_type": "execute_result",
          "data": {
            "text/plain": [
              "{'input_ids': tensor([[101, 132, 102, 132, 102]]), 'token_type_ids': tensor([[0, 0, 0, 1, 1]]), 'attention_mask': tensor([[1, 1, 1, 1, 1]])}"
            ]
          },
          "metadata": {
            "tags": []
          },
          "execution_count": 23
        }
      ]
    },
    {
      "cell_type": "code",
      "metadata": {
        "colab": {
          "base_uri": "https://localhost:8080/"
        },
        "id": "_UsBHrhZYozC",
        "outputId": "55cc3fc3-55c9-424e-a006-e91bebc415f2"
      },
      "source": [
        "prediction"
      ],
      "execution_count": null,
      "outputs": [
        {
          "output_type": "execute_result",
          "data": {
            "text/plain": [
              "tensor([0.4378], device='cuda:0', grad_fn=<SelectBackward>)"
            ]
          },
          "metadata": {
            "tags": []
          },
          "execution_count": 27
        }
      ]
    },
    {
      "cell_type": "code",
      "metadata": {
        "colab": {
          "base_uri": "https://localhost:8080/"
        },
        "id": "hRsNriaq2WPI",
        "outputId": "23461368-9e7e-40ec-8fe8-3cf5a1d6fcef"
      },
      "source": [
        "bert_model.train()\n",
        "batch_id = 0\n",
        "for epoch in range(3):\n",
        "    for i in tqdm(range(len(train_dataset))):\n",
        "        fragment1, fragment2, correct_label = train_dataset[i]\n",
        "        encoding = encode_pair(fragment1, fragment2, tokenizer, cuda=True)\n",
        "        try:\n",
        "            outputs = bert_model(**encoding)\n",
        "            prediction = torch.softmax(outputs.logits, 1)[:, 0]\n",
        "            loss = criterion(prediction.float().cpu(), torch.tensor([correct_label]).float())\n",
        "            loss.backward() \n",
        "            batch_id += 1\n",
        "        except:\n",
        "            pass\n",
        "        if batch_id % 15 == 0:\n",
        "            optimizer.step()\n",
        "            optimizer.zero_grad()\n",
        "        if batch_id%100 == 0:\n",
        "            bert_model.save_pretrained('bert_next_sent_cls')"
      ],
      "execution_count": null,
      "outputs": [
        {
          "output_type": "stream",
          "text": [
            "100%|██████████| 34570/34570 [52:50<00:00, 10.90it/s]\n",
            "100%|██████████| 34570/34570 [52:58<00:00, 10.88it/s]\n",
            "100%|██████████| 34570/34570 [52:47<00:00, 10.91it/s]\n"
          ],
          "name": "stderr"
        }
      ]
    },
    {
      "cell_type": "code",
      "metadata": {
        "id": "p_7KDTazhbXP"
      },
      "source": [
        "bert_model = BertForNextSentencePrediction.from_pretrained('bert_next_sent_cls')"
      ],
      "execution_count": null,
      "outputs": []
    },
    {
      "cell_type": "code",
      "metadata": {
        "id": "dm8skQJqhr4w"
      },
      "source": [
        "bert_model.cuda()"
      ],
      "execution_count": null,
      "outputs": []
    },
    {
      "cell_type": "code",
      "metadata": {
        "id": "BI5J63EBJArs"
      },
      "source": [
        "#fixed pipeline\n",
        "bert_model.eval()\n",
        "\n",
        "correct = []\n",
        "predicted = []\n",
        "\n",
        "with torch.no_grad():\n",
        "    for fragment1, fragment2, labels in tqdm(test_dataloader):\n",
        "        encoding = tokenizer(fragment1, fragment2, return_tensors='pt', padding=True, truncation=False)\n",
        "        encoding = {key:encoding[key].cuda() for key in encoding}\n",
        "        outputs = bert_model(**encoding)\n",
        "        prediction = torch.softmax(outputs.logits, 1)[:, 0]\n",
        "        correct += [int(label) for label in labels]\n",
        "        predicted += [float(p) for p in prediction]"
      ],
      "execution_count": null,
      "outputs": []
    },
    {
      "cell_type": "code",
      "metadata": {
        "id": "hpO0K7wauS9e"
      },
      "source": [
        "from sklearn import metrics"
      ],
      "execution_count": null,
      "outputs": []
    },
    {
      "cell_type": "code",
      "metadata": {
        "colab": {
          "base_uri": "https://localhost:8080/",
          "height": 295
        },
        "id": "d7m-fIoyuKVy",
        "outputId": "70cf7ded-7b13-425c-827e-945dd81f8e6f"
      },
      "source": [
        "from sklearn import metrics\n",
        "fpr_bert, tpr_bert, thresholds_bert = metrics.roc_curve(correct, predicted, pos_label=1)\n",
        "import matplotlib.pyplot as plt\n",
        "plt.title('Receiver Operating Characteristic')\n",
        "roc_ouc = metrics.auc(fpr_bert, tpr_bert)\n",
        "plt.plot(fpr_bert, tpr_bert, 'b', label = 'AUC = %0.2f' % roc_ouc)\n",
        "plt.legend(loc = 'lower right')\n",
        "plt.plot([0, 1], [0, 1],'r--')\n",
        "plt.xlim([0, 1])\n",
        "plt.ylim([0, 1])\n",
        "plt.ylabel('BERT next sentence predictor True Positive Rate')\n",
        "plt.xlabel('BERT next sentence predictor False Positive Rate')\n",
        "plt.show()"
      ],
      "execution_count": null,
      "outputs": [
        {
          "output_type": "display_data",
          "data": {
            "image/png": "[encoded data removed]",
            "text/plain": [
              "<Figure size 432x288 with 1 Axes>"
            ]
          },
          "metadata": {
            "tags": []
          }
        }
      ]
    },
    {
      "cell_type": "code",
      "metadata": {
        "id": "x6cAZIub63mo"
      },
      "source": [
        ""
      ],
      "execution_count": null,
      "outputs": []
    },
    {
      "cell_type": "code",
      "metadata": {
        "id": "dIYFbMdsIQvU"
      },
      "source": [
        "test_encoding = encoding2cuda(tokenizer('e', 'f', return_tensors='pt'))"
      ],
      "execution_count": null,
      "outputs": []
    },
    {
      "cell_type": "code",
      "metadata": {
        "colab": {
          "base_uri": "https://localhost:8080/"
        },
        "id": "wnU-l87OPszG",
        "outputId": "f9bec01c-2d8f-43be-f083-75df812d0229"
      },
      "source": [
        "float(torch.softmax(bert_model(**test_encoding)['logits'], 1)[0][0])"
      ],
      "execution_count": null,
      "outputs": [
        {
          "output_type": "execute_result",
          "data": {
            "text/plain": [
              "0.4026048481464386"
            ]
          },
          "metadata": {
            "tags": []
          },
          "execution_count": 51
        }
      ]
    },
    {
      "cell_type": "code",
      "metadata": {
        "id": "_rszitB63-PV"
      },
      "source": [
        "BERT_LIMIT = 512\n",
        "BERT_HALF_LIMIT =  BERT_LIMIT // 2 - 3\n",
        "\n",
        "def shorten_fragment(fragment, as_first=True):\n",
        "    encoding = tokenizer.encode(fragment)\n",
        "    if len(encoding) > BERT_HALF_LIMIT:\n",
        "      meaningful_part = encoding[1:-1]\n",
        "      shorten_part = meaningful_part[-BERT_HALF_LIMIT:] if as_first else meaningful_part[:BERT_HALF_LIMIT]\n",
        "      fragment = tokenizer.decode(shorten_part)\n",
        "    return fragment\n",
        "    \n",
        "def encoding2cuda(encoding):\n",
        "    return {key:encoding[key].cuda() for key in encoding}\n",
        "\n",
        "def bert_score(fragment1, fragment2):\n",
        "    tokenizer_encoding = tokenizer(fragment1, fragment2, return_tensors='pt')\n",
        "    if tokenizer_encoding['input_ids'].shape[1] > BERT_LIMIT:\n",
        "        tokenizer_encoding = tokenizer(shorten_fragment(fragment1, as_first = True), shorten_fragment(fragment2, as_first = False), return_tensors='pt')\n",
        "    encoding = encoding2cuda(tokenizer_encoding)\n",
        "    return float(torch.softmax(bert_model(**encoding)['logits'], 1)[0][0])\n"
      ],
      "execution_count": null,
      "outputs": []
    },
    {
      "cell_type": "code",
      "metadata": {
        "id": "QkvlccPnHhpt"
      },
      "source": [
        "class Fragment:\n",
        "    def __init__(self, fragment_id, nodes=None, text=None):\n",
        "        self.fragment_id = fragment_id\n",
        "        if nodes:\n",
        "            self.text = nodes[fragment_id]['fragment_text']\n",
        "        elif text:\n",
        "            self.text = text"
      ],
      "execution_count": null,
      "outputs": []
    },
    {
      "cell_type": "code",
      "metadata": {
        "id": "xRtAas_q3l17"
      },
      "source": [
        "pair_cash = {}\n",
        "def bert_score_pair(fragment1, fragment2):\n",
        "    text1 = fragment1.text\n",
        "    text2 = fragment2.text\n",
        "    if (text1, text2) in pair_cash:\n",
        "        return pair_cash[(text1, text2)]\n",
        "    else:\n",
        "        tokenizer_encoding = tokenizer(text1, text2, return_tensors='pt')\n",
        "        if tokenizer_encoding['input_ids'].shape[1] > BERT_LIMIT:\n",
        "            tokenizer_encoding = tokenizer(shorten_fragment(text1, as_first = True), shorten_fragment(text2, as_first = False), return_tensors='pt')\n",
        "        if torch.cuda.is_available():\n",
        "            encoding = encoding2cuda(tokenizer_encoding)\n",
        "        else:\n",
        "            encoding = tokenizer_encoding\n",
        "        outputs = bert_model(**encoding)\n",
        "        score = float(outputs['logits'][0][0])\n",
        "        pair_cash[(text1, text2)] = score\n",
        "        return score"
      ],
      "execution_count": null,
      "outputs": []
    },
    {
      "cell_type": "code",
      "metadata": {
        "id": "2UuEwXZYhy_k"
      },
      "source": [
        "def bert_beam_search(test_sample, quest_graph, num_best_candidates=2, text_key='fragment_text'):\n",
        "    nodes = quest_graph.nodes()\n",
        "    fragments = [Fragment(node_id, nodes) for node_id in test_sample]\n",
        "    \n",
        "    order_candidates = [{'beginning':[fragments[0]], 'next_candidates':copy(fragments[1:]), 'probability':1}]\n",
        "    random.shuffle(order_candidates[0]['next_candidates'])\n",
        "    \n",
        "    for i in range(len(fragments)-1):\n",
        "        current_iteration_next_candidates = []\n",
        "        \n",
        "        for order_candidate in order_candidates:\n",
        "            last_fragment = order_candidate ['beginning'][-1]\n",
        "            \n",
        "            \n",
        "            scored_next = [{'next_fragment':next_fragment, 'score':bert_score_pair(last_fragment, next_fragment)} for next_fragment in order_candidate['next_candidates']]\n",
        "            scored_next.sort(key=lambda x: x['score'], reverse=True)\n",
        "            \n",
        "            chosen_next_candidates = scored_next[:num_best_candidates] if len(scored_next) < num_best_candidates else scored_next\n",
        "            for chosen_next_candidate in chosen_next_candidates:\n",
        "                next_fragment = chosen_next_candidate['next_fragment']\n",
        "                \n",
        "                next_step_beginning = copy(order_candidate['beginning'])\n",
        "                next_step_beginning.append(next_fragment)\n",
        "                \n",
        "                next_step_probability = order_candidate['probability']*chosen_next_candidate['score']\n",
        "                \n",
        "                next_step_next_candidates = []\n",
        "                for next_step_next_candidate in order_candidate['next_candidates']:\n",
        "                    if next_step_next_candidate.fragment_id != next_fragment.fragment_id:\n",
        "                        next_step_next_candidates.append(next_step_next_candidate)\n",
        "                \n",
        "              \n",
        "                current_iteration_next_candidates.append({'beginning':next_step_beginning, 'next_candidates':next_step_next_candidates, 'probability':next_step_probability})\n",
        "        \n",
        "        current_iteration_next_candidates.sort(key=lambda x: x['probability'], reverse=True)\n",
        "        order_candidates = current_iteration_next_candidates[:num_best_candidates] if len(current_iteration_next_candidates) > num_best_candidates else  current_iteration_next_candidates\n",
        "    return [fragment.fragment_id for fragment in order_candidates[0]['beginning']]"
      ],
      "execution_count": null,
      "outputs": []
    },
    {
      "cell_type": "code",
      "metadata": {
        "id": "NnESTPY1JoPX"
      },
      "source": [
        "import math"
      ],
      "execution_count": null,
      "outputs": []
    },
    {
      "cell_type": "code",
      "metadata": {
        "id": "agjeVo-366wJ"
      },
      "source": [
        "def scoring_bert_beam_search(test_sample, num_best_candidates=2, text_key='fragment_text', epsilon=10**(-9)):\n",
        "    fragments = [Fragment(node_id, text=text) for node_id, text in enumerate(test_sample)]\n",
        "    \n",
        "    order_candidates = [{'beginning':[fragments[0]], 'next_candidates':copy(fragments[1:]), 'probability':0}]\n",
        "    random.shuffle(order_candidates[0]['next_candidates'])\n",
        "    \n",
        "    for i in range(len(fragments)-1):\n",
        "        current_iteration_next_candidates = []\n",
        "        \n",
        "        for order_candidate in order_candidates:\n",
        "            last_fragment = order_candidate ['beginning'][-1]\n",
        "            \n",
        "            \n",
        "            scored_next = [{'next_fragment':next_fragment, 'score':bert_score_pair(last_fragment, next_fragment)} for next_fragment in order_candidate['next_candidates']]\n",
        "            scored_next.sort(key=lambda x: x['score'], reverse=True)\n",
        "            \n",
        "            chosen_next_candidates = scored_next[:num_best_candidates] if len(scored_next) < num_best_candidates else scored_next\n",
        "            for chosen_next_candidate in chosen_next_candidates:\n",
        "                next_fragment = chosen_next_candidate['next_fragment']\n",
        "                \n",
        "                next_step_beginning = copy(order_candidate['beginning'])\n",
        "                next_step_beginning.append(next_fragment)\n",
        "                \n",
        "                score = chosen_next_candidate['score'] if chosen_next_candidate['score'] > 0 else epsilon\n",
        "                next_step_probability = order_candidate['probability'] + math.log(score)\n",
        "                \n",
        "                next_step_next_candidates = []\n",
        "                for next_step_next_candidate in order_candidate['next_candidates']:\n",
        "                    if next_step_next_candidate.fragment_id != next_fragment.fragment_id:\n",
        "                        next_step_next_candidates.append(next_step_next_candidate)\n",
        "                \n",
        "              \n",
        "                current_iteration_next_candidates.append({'beginning':next_step_beginning, 'next_candidates':next_step_next_candidates, 'probability':next_step_probability})\n",
        "        \n",
        "        current_iteration_next_candidates.sort(key=lambda x: x['probability'], reverse=True)\n",
        "        order_candidates = current_iteration_next_candidates[:num_best_candidates] if len(current_iteration_next_candidates) > num_best_candidates else  current_iteration_next_candidates\n",
        "    return {'order': [fragment.fragment_id for fragment in order_candidates[0]['beginning']], 'score': order_candidates[0]['probability']}"
      ],
      "execution_count": null,
      "outputs": []
    },
    {
      "cell_type": "code",
      "metadata": {
        "id": "gO3oNCWPK6vJ"
      },
      "source": [
        "with open('sanity_check_data.json') as f:\n",
        "  sanity_check_data = json.load(f)"
      ],
      "execution_count": null,
      "outputs": []
    },
    {
      "cell_type": "code",
      "metadata": {
        "colab": {
          "base_uri": "https://localhost:8080/"
        },
        "id": "ECgYBy2wPeBX",
        "outputId": "5a7b7d11-a8f2-4751-e765-bfe6e0c302f7"
      },
      "source": [
        "sanity_check_data.keys()"
      ],
      "execution_count": null,
      "outputs": [
        {
          "output_type": "execute_result",
          "data": {
            "text/plain": [
              "dict_keys(['real', 'random'])"
            ]
          },
          "metadata": {
            "tags": []
          },
          "execution_count": 13
        }
      ]
    },
    {
      "cell_type": "code",
      "metadata": {
        "id": "cL9SGZf_P3-_"
      },
      "source": [
        "from copy import copy"
      ],
      "execution_count": null,
      "outputs": []
    },
    {
      "cell_type": "code",
      "metadata": {
        "id": "so5qLN7UPktq"
      },
      "source": [
        "real_predictions = [scoring_bert_beam_search(path) for path in sanity_check_data['real']]\n",
        "random_predictions = [scoring_bert_beam_search(path) for path in sanity_check_data['random']]"
      ],
      "execution_count": null,
      "outputs": []
    },
    {
      "cell_type": "code",
      "metadata": {
        "colab": {
          "base_uri": "https://localhost:8080/"
        },
        "id": "AA2t5-dmTr2Q",
        "outputId": "a5333599-426c-4c05-c855-86d643a30312"
      },
      "source": [
        "real_predictions"
      ],
      "execution_count": null,
      "outputs": [
        {
          "output_type": "execute_result",
          "data": {
            "text/plain": [
              "[{'order': [0, 2, 4, 5, 3, 8, 7, 6, 1], 'score': -87.73243285927907},\n",
              " {'order': [0, 2, 1, 3], 'score': -27.053669855249773},\n",
              " {'order': [0, 2, 1, 4, 14, 3, 10, 8, 16, 11, 17, 5, 15, 9, 6, 7, 12, 13],\n",
              "  'score': -81.3190528865455},\n",
              " {'order': [0, 3, 5, 9, 4, 8, 6, 7, 2, 1], 'score': -72.31592877791346},\n",
              " {'order': [0, 15, 17, 7, 5, 3, 4, 6, 14, 8, 9, 11, 13, 12, 16, 18, 10, 1, 2],\n",
              "  'score': -40.078966518653225}]"
            ]
          },
          "metadata": {
            "tags": []
          },
          "execution_count": 29
        }
      ]
    },
    {
      "cell_type": "code",
      "metadata": {
        "id": "JKJinQVlQ2Hg"
      },
      "source": [
        "from statistics import mean"
      ],
      "execution_count": null,
      "outputs": []
    },
    {
      "cell_type": "code",
      "metadata": {
        "colab": {
          "base_uri": "https://localhost:8080/"
        },
        "id": "4cYOTI-OUqor",
        "outputId": "e97f4c16-d5f4-4f68-c291-3ed018e18f5c"
      },
      "source": [
        "mean([sample['score'] for sample in real_predictions])"
      ],
      "execution_count": null,
      "outputs": [
        {
          "output_type": "execute_result",
          "data": {
            "text/plain": [
              "-61.700010179528206"
            ]
          },
          "metadata": {
            "tags": []
          },
          "execution_count": 31
        }
      ]
    },
    {
      "cell_type": "code",
      "metadata": {
        "colab": {
          "base_uri": "https://localhost:8080/"
        },
        "id": "-ob7lOpBUynP",
        "outputId": "24a43dbd-a4c3-4463-e9d7-ad5cb8bd8564"
      },
      "source": [
        "mean([sample['score'] for sample in random_predictions])"
      ],
      "execution_count": null,
      "outputs": [
        {
          "output_type": "execute_result",
          "data": {
            "text/plain": [
              "-193.81721110523338"
            ]
          },
          "metadata": {
            "tags": []
          },
          "execution_count": 32
        }
      ]
    },
    {
      "cell_type": "code",
      "metadata": {
        "id": "-cILTScH1oov"
      },
      "source": [
        "TEST_PATH_DIRECTORY = 'tokenized_ordering_test_joined'"
      ],
      "execution_count": null,
      "outputs": []
    },
    {
      "cell_type": "code",
      "metadata": {
        "id": "REz76LudFKi3"
      },
      "source": [
        "from copy import copy"
      ],
      "execution_count": null,
      "outputs": []
    },
    {
      "cell_type": "code",
      "metadata": {
        "colab": {
          "base_uri": "https://localhost:8080/"
        },
        "id": "acq5Kz-_ks2P",
        "outputId": "ac52e0f4-b7a0-43cd-9312-c0d95692d8d9"
      },
      "source": [
        "result = []\n",
        "fails = []\n",
        "\n",
        "for file in tqdm(os.listdir(TEST_PATH_DIRECTORY)[928:]):\n",
        "    try:\n",
        "        with open(os.path.join(TEST_PATH_DIRECTORY, file)) as f:\n",
        "            _, path, graph_json, __ = json.load(f)\n",
        "        \n",
        "        graph = json_graph.node_link_graph(graph_json)\n",
        "        prediction = bert_beam_search(copy(path), graph)\n",
        "        result.append({'correct':path, 'predicted':prediction})\n",
        "    except Exception as e:\n",
        "        fails.append([file, e])\n",
        "    if len (result) % 100 == 0:\n",
        "        with open('finetuned_bert_beam_search_result.json', 'w') as f:\n",
        "            json.dump(result, f)\n",
        "\n",
        "with open('finetuned_bert_beam_search_result.json', 'w') as f:\n",
        "    json.dump(result, f)"
      ],
      "execution_count": null,
      "outputs": [
        {
          "output_type": "stream",
          "text": [
            "100%|██████████| 2502/2502 [1:02:29<00:00,  1.50s/it]\n"
          ],
          "name": "stderr"
        }
      ]
    },
    {
      "cell_type": "code",
      "metadata": {
        "id": "27uWcgAO6gjq"
      },
      "source": [
        "with open('finetuned_bert_beam_search_result.json', encoding='utf-8') as f:\n",
        "    result = json.load(f)"
      ],
      "execution_count": null,
      "outputs": []
    },
    {
      "cell_type": "code",
      "metadata": {
        "colab": {
          "base_uri": "https://localhost:8080/"
        },
        "id": "BcxgoyUx7CYC",
        "outputId": "c673dd5e-8ffd-4109-854c-0431f0931e09"
      },
      "source": [
        "len(results)"
      ],
      "execution_count": null,
      "outputs": [
        {
          "output_type": "execute_result",
          "data": {
            "text/plain": [
              "2422"
            ]
          },
          "metadata": {
            "tags": []
          },
          "execution_count": 6
        }
      ]
    },
    {
      "cell_type": "code",
      "metadata": {
        "id": "o7usfw747Gl9"
      },
      "source": [
        "from scipy.stats import kendalltau\n",
        "\n",
        "def longest_correct_subsequence(predicted, correct):\n",
        "    correct_transitions = set([(item_from, item_to) for item_from, item_to in zip(correct[:-1], correct[1:])])\n",
        "    predicted_transitions = [(item_from, item_to) for item_from, item_to in zip(predicted[:-1], predicted[1:])]\n",
        "    predicted_transitions_are_correct = [transition in correct_transitions for transition in predicted_transitions]\n",
        "    \n",
        "    longest_correct_transitions_subsequence = 0\n",
        "    current_correct_transitions_subsequence = 0\n",
        "    #Add False as last item to include last real item checking into the loop\n",
        "    for predicted_transition_is_correct in predicted_transitions_are_correct + [False]:\n",
        "        if predicted_transition_is_correct:\n",
        "            current_correct_transitions_subsequence += 1\n",
        "        else:\n",
        "            if current_correct_transitions_subsequence > longest_correct_transitions_subsequence:\n",
        "                longest_correct_transitions_subsequence = current_correct_transitions_subsequence\n",
        "            current_correct_transitions_subsequence = 0\n",
        "    #return number of items in longest correct sequence (not number of transitions)\n",
        "    return longest_correct_transitions_subsequence + 1 if longest_correct_transitions_subsequence else 0  "
      ],
      "execution_count": null,
      "outputs": []
    },
    {
      "cell_type": "code",
      "metadata": {
        "id": "WS_fRxJZ7k96"
      },
      "source": [
        "import pandas as pd"
      ],
      "execution_count": null,
      "outputs": []
    },
    {
      "cell_type": "code",
      "metadata": {
        "id": "NK2ybUXK7Vfk"
      },
      "source": [
        "finetuned_bert_df = pd.DataFrame(columns = [\"sequence length\", \"Kendall's  tau\", \"Longest correct subsequence\"])\n",
        "for sequence_data in result:\n",
        "    predicted = sequence_data['predicted']\n",
        "    correct = sequence_data['correct']\n",
        "    tau = kendalltau(predicted[1:], correct[1:]).correlation\n",
        "    lcs = longest_correct_subsequence(predicted, correct)\n",
        "    finetuned_bert_df.loc[len(finetuned_bert_df)] = [len(correct), tau, lcs]\n",
        "    "
      ],
      "execution_count": null,
      "outputs": []
    },
    {
      "cell_type": "code",
      "metadata": {
        "colab": {
          "base_uri": "https://localhost:8080/",
          "height": 873
        },
        "id": "KWYSlnJ_7rwS",
        "outputId": "eae680dc-8c74-4eb7-d9f6-4169d67bc184"
      },
      "source": [
        "finetuned_bert_df_aggr = finetuned_bert_df[finetuned_bert_df[\"sequence length\"]<=30].groupby(\"sequence length\").describe()[[(\"Kendall's  tau\", 'count'),  (\"Kendall's  tau\",  'mean'), ('Longest correct subsequence',  'mean')]]\n",
        "finetuned_bert_df_aggr"
      ],
      "execution_count": null,
      "outputs": [
        {
          "output_type": "execute_result",
          "data": {
            "text/html": [
              "<div>\n",
              "<style scoped>\n",
              "    .dataframe tbody tr th:only-of-type {\n",
              "        vertical-align: middle;\n",
              "    }\n",
              "\n",
              "    .dataframe tbody tr th {\n",
              "        vertical-align: top;\n",
              "    }\n",
              "\n",
              "    .dataframe thead tr th {\n",
              "        text-align: left;\n",
              "    }\n",
              "\n",
              "    .dataframe thead tr:last-of-type th {\n",
              "        text-align: right;\n",
              "    }\n",
              "</style>\n",
              "<table border=\"1\" class=\"dataframe\">\n",
              "  <thead>\n",
              "    <tr>\n",
              "      <th></th>\n",
              "      <th colspan=\"2\" halign=\"left\">Kendall's  tau</th>\n",
              "      <th>Longest correct subsequence</th>\n",
              "    </tr>\n",
              "    <tr>\n",
              "      <th></th>\n",
              "      <th>count</th>\n",
              "      <th>mean</th>\n",
              "      <th>mean</th>\n",
              "    </tr>\n",
              "    <tr>\n",
              "      <th>sequence length</th>\n",
              "      <th></th>\n",
              "      <th></th>\n",
              "      <th></th>\n",
              "    </tr>\n",
              "  </thead>\n",
              "  <tbody>\n",
              "    <tr>\n",
              "      <th>4.0</th>\n",
              "      <td>81.0</td>\n",
              "      <td>-0.028807</td>\n",
              "      <td>1.802469</td>\n",
              "    </tr>\n",
              "    <tr>\n",
              "      <th>5.0</th>\n",
              "      <td>73.0</td>\n",
              "      <td>0.159817</td>\n",
              "      <td>1.575342</td>\n",
              "    </tr>\n",
              "    <tr>\n",
              "      <th>6.0</th>\n",
              "      <td>109.0</td>\n",
              "      <td>-0.011009</td>\n",
              "      <td>1.256881</td>\n",
              "    </tr>\n",
              "    <tr>\n",
              "      <th>7.0</th>\n",
              "      <td>88.0</td>\n",
              "      <td>-0.037879</td>\n",
              "      <td>1.693182</td>\n",
              "    </tr>\n",
              "    <tr>\n",
              "      <th>8.0</th>\n",
              "      <td>79.0</td>\n",
              "      <td>0.098252</td>\n",
              "      <td>1.911392</td>\n",
              "    </tr>\n",
              "    <tr>\n",
              "      <th>9.0</th>\n",
              "      <td>152.0</td>\n",
              "      <td>0.002820</td>\n",
              "      <td>1.592105</td>\n",
              "    </tr>\n",
              "    <tr>\n",
              "      <th>10.0</th>\n",
              "      <td>131.0</td>\n",
              "      <td>-0.022901</td>\n",
              "      <td>1.572519</td>\n",
              "    </tr>\n",
              "    <tr>\n",
              "      <th>11.0</th>\n",
              "      <td>207.0</td>\n",
              "      <td>-0.003113</td>\n",
              "      <td>1.584541</td>\n",
              "    </tr>\n",
              "    <tr>\n",
              "      <th>12.0</th>\n",
              "      <td>195.0</td>\n",
              "      <td>0.003636</td>\n",
              "      <td>1.702564</td>\n",
              "    </tr>\n",
              "    <tr>\n",
              "      <th>13.0</th>\n",
              "      <td>101.0</td>\n",
              "      <td>0.008701</td>\n",
              "      <td>1.841584</td>\n",
              "    </tr>\n",
              "    <tr>\n",
              "      <th>14.0</th>\n",
              "      <td>106.0</td>\n",
              "      <td>-0.008466</td>\n",
              "      <td>1.726415</td>\n",
              "    </tr>\n",
              "    <tr>\n",
              "      <th>15.0</th>\n",
              "      <td>73.0</td>\n",
              "      <td>0.026946</td>\n",
              "      <td>1.753425</td>\n",
              "    </tr>\n",
              "    <tr>\n",
              "      <th>16.0</th>\n",
              "      <td>75.0</td>\n",
              "      <td>0.013587</td>\n",
              "      <td>1.680000</td>\n",
              "    </tr>\n",
              "    <tr>\n",
              "      <th>17.0</th>\n",
              "      <td>57.0</td>\n",
              "      <td>-0.023684</td>\n",
              "      <td>1.631579</td>\n",
              "    </tr>\n",
              "    <tr>\n",
              "      <th>18.0</th>\n",
              "      <td>64.0</td>\n",
              "      <td>0.013557</td>\n",
              "      <td>1.515625</td>\n",
              "    </tr>\n",
              "    <tr>\n",
              "      <th>19.0</th>\n",
              "      <td>57.0</td>\n",
              "      <td>0.014563</td>\n",
              "      <td>1.543860</td>\n",
              "    </tr>\n",
              "    <tr>\n",
              "      <th>20.0</th>\n",
              "      <td>44.0</td>\n",
              "      <td>0.010633</td>\n",
              "      <td>2.090909</td>\n",
              "    </tr>\n",
              "    <tr>\n",
              "      <th>21.0</th>\n",
              "      <td>38.0</td>\n",
              "      <td>0.022992</td>\n",
              "      <td>1.868421</td>\n",
              "    </tr>\n",
              "    <tr>\n",
              "      <th>22.0</th>\n",
              "      <td>51.0</td>\n",
              "      <td>-0.042764</td>\n",
              "      <td>1.745098</td>\n",
              "    </tr>\n",
              "    <tr>\n",
              "      <th>23.0</th>\n",
              "      <td>41.0</td>\n",
              "      <td>0.022490</td>\n",
              "      <td>1.682927</td>\n",
              "    </tr>\n",
              "    <tr>\n",
              "      <th>24.0</th>\n",
              "      <td>47.0</td>\n",
              "      <td>-0.052729</td>\n",
              "      <td>1.574468</td>\n",
              "    </tr>\n",
              "    <tr>\n",
              "      <th>25.0</th>\n",
              "      <td>46.0</td>\n",
              "      <td>-0.034814</td>\n",
              "      <td>1.630435</td>\n",
              "    </tr>\n",
              "    <tr>\n",
              "      <th>26.0</th>\n",
              "      <td>21.0</td>\n",
              "      <td>-0.030794</td>\n",
              "      <td>1.809524</td>\n",
              "    </tr>\n",
              "    <tr>\n",
              "      <th>27.0</th>\n",
              "      <td>43.0</td>\n",
              "      <td>-0.022111</td>\n",
              "      <td>1.883721</td>\n",
              "    </tr>\n",
              "    <tr>\n",
              "      <th>28.0</th>\n",
              "      <td>25.0</td>\n",
              "      <td>-0.006040</td>\n",
              "      <td>1.720000</td>\n",
              "    </tr>\n",
              "    <tr>\n",
              "      <th>29.0</th>\n",
              "      <td>29.0</td>\n",
              "      <td>0.037584</td>\n",
              "      <td>1.517241</td>\n",
              "    </tr>\n",
              "    <tr>\n",
              "      <th>30.0</th>\n",
              "      <td>24.0</td>\n",
              "      <td>0.008210</td>\n",
              "      <td>1.708333</td>\n",
              "    </tr>\n",
              "  </tbody>\n",
              "</table>\n",
              "</div>"
            ],
            "text/plain": [
              "                Kendall's  tau           Longest correct subsequence\n",
              "                         count      mean                        mean\n",
              "sequence length                                                     \n",
              "4.0                       81.0 -0.028807                    1.802469\n",
              "5.0                       73.0  0.159817                    1.575342\n",
              "6.0                      109.0 -0.011009                    1.256881\n",
              "7.0                       88.0 -0.037879                    1.693182\n",
              "8.0                       79.0  0.098252                    1.911392\n",
              "9.0                      152.0  0.002820                    1.592105\n",
              "10.0                     131.0 -0.022901                    1.572519\n",
              "11.0                     207.0 -0.003113                    1.584541\n",
              "12.0                     195.0  0.003636                    1.702564\n",
              "13.0                     101.0  0.008701                    1.841584\n",
              "14.0                     106.0 -0.008466                    1.726415\n",
              "15.0                      73.0  0.026946                    1.753425\n",
              "16.0                      75.0  0.013587                    1.680000\n",
              "17.0                      57.0 -0.023684                    1.631579\n",
              "18.0                      64.0  0.013557                    1.515625\n",
              "19.0                      57.0  0.014563                    1.543860\n",
              "20.0                      44.0  0.010633                    2.090909\n",
              "21.0                      38.0  0.022992                    1.868421\n",
              "22.0                      51.0 -0.042764                    1.745098\n",
              "23.0                      41.0  0.022490                    1.682927\n",
              "24.0                      47.0 -0.052729                    1.574468\n",
              "25.0                      46.0 -0.034814                    1.630435\n",
              "26.0                      21.0 -0.030794                    1.809524\n",
              "27.0                      43.0 -0.022111                    1.883721\n",
              "28.0                      25.0 -0.006040                    1.720000\n",
              "29.0                      29.0  0.037584                    1.517241\n",
              "30.0                      24.0  0.008210                    1.708333"
            ]
          },
          "metadata": {
            "tags": []
          },
          "execution_count": 15
        }
      ]
    },
    {
      "cell_type": "code",
      "metadata": {
        "id": "f_bfzU1t9mWu"
      },
      "source": [
        "with open('finetuned_bert_df_aggr.txt', 'w') as f:\n",
        "  f.write(finetuned_bert_df_aggr.to_latex())"
      ],
      "execution_count": null,
      "outputs": []
    }
  ]
}