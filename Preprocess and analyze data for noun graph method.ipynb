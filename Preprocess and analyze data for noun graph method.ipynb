{
 "cells": [
  {
   "cell_type": "code",
   "execution_count": 1,
   "metadata": {},
   "outputs": [],
   "source": [
    "import networkx as nx\n",
    "from networkx.readwrite import json_graph\n",
    "from collections import Counter, defaultdict\n",
    "from sklearn.model_selection import train_test_split\n",
    "from nltk.tokenize import wordpunct_tokenize\n",
    "from tqdm import tqdm\n",
    "import os\n",
    "import json\n",
    "import itertools\n",
    "import torch\n",
    "import pandas as pd"
   ]
  },
  {
   "cell_type": "code",
   "execution_count": 2,
   "metadata": {},
   "outputs": [],
   "source": [
    "def choose_tag(fragment_noun_tags):\n",
    "    if 'subject' in fragment_noun_tags:\n",
    "        return 'subject'\n",
    "    elif 'object' in fragment_noun_tags:\n",
    "        return 'object'\n",
    "    else:\n",
    "        return 'other_dep'\n",
    "\n",
    "def quest_path2entity_graph(path, morphograph, morphology_key='node_morphodata', text_key='fragment_text'):\n",
    "    G = nx.Graph()\n",
    "    \n",
    "    noun_lemmas_counter = Counter()\n",
    "    nodes = morphograph.nodes()\n",
    "    \n",
    "    node2chosen_syntactic_tags = {}\n",
    "    nouns2nodes = defaultdict(set)\n",
    "    \n",
    "    for node in path:\n",
    "        current_node2all_syntactic_tags = defaultdict(set)\n",
    "        for noun_data in nodes[node][morphology_key]['nouns']:\n",
    "            noun_lemma = noun_data['lemma']\n",
    "            noun_lemmas_counter.update([noun_lemma])\n",
    "            nouns2nodes['noun_'+noun_lemma].add(node)\n",
    "            dep_type = 'other_dep'\n",
    "            dependency = noun_data['deprel']\n",
    "            if 'subj' in dependency:\n",
    "                dep_type = 'subject'\n",
    "            elif 'obj' in dependency:\n",
    "                dep_type = 'object'\n",
    "            current_node2all_syntactic_tags[noun_lemma].add(dep_type)\n",
    "        \n",
    "        node2chosen_syntactic_tags[node] = {noun:choose_tag(current_node2all_syntactic_tags[noun]) for noun in current_node2all_syntactic_tags}\n",
    "        \n",
    "    relevant_nouns = [noun for noun in noun_lemmas_counter if noun_lemmas_counter[noun]>1]\n",
    "    G.add_node('global', fragment_text='UNK')\n",
    "    for relevant_noun in relevant_nouns:\n",
    "        G.add_node('noun_'+relevant_noun, fragment_text=relevant_noun)\n",
    "    for node in path:\n",
    "        G.add_node(node, fragment_text=nodes[node][text_key])\n",
    "        G.add_edge(node, 'global', label='global')\n",
    "        for noun, syntactic_role in node2chosen_syntactic_tags[node].items():\n",
    "            if noun in relevant_nouns:\n",
    "                G.add_edge(node, 'noun_'+noun, label=syntactic_role)\n",
    "    for noun in nouns2nodes:\n",
    "        entity_neighbours = itertools.combinations(nouns2nodes[noun], 2)\n",
    "        for pair in entity_neighbours:\n",
    "            G.add_edge(*pair, label='fragments_pair')\n",
    "    return G, [['noun_'+relevant_noun for relevant_noun in relevant_nouns]]"
   ]
  },
  {
   "cell_type": "code",
   "execution_count": null,
   "metadata": {},
   "outputs": [],
   "source": [
    "no_text_nodes_counter = 0\n",
    "\n",
    "ONLINE_GRAPHS_DIRECTORY = 'D:\\Диплом_текстовые_квесты\\Data\\Questbook_online_grammar'\n",
    "JOINED_TEXT_ONLINE_PATHS_DIRECTORY = 'D:\\\\Диплом_текстовые_квесты\\\\Data\\\\questbook_online_joined_texts'\n",
    "\n",
    "for file in os.listdir(ONLINE_GRAPHS_DIRECTORY):\n",
    "    morphograph_path = os.path.join(ONLINE_GRAPHS_DIRECTORY, file)\n",
    "    joined_graph_path = os.path.join(JOINED_TEXT_ONLINE_PATHS_DIRECTORY, file)\n",
    "    morpho_graph = json_graph.node_link_graph(json.load(open(morphograph_path, encoding='utf-8')))\n",
    "    joined_text_graph = json_graph.node_link_graph(json.load(open(joined_graph_path, encoding='utf-8')))\n",
    "    \n",
    "    joined_text_nodes = joined_text_graph.nodes()\n",
    "\n",
    "    for node_idx in joined_text_nodes:\n",
    "        if 'fragment_text' in joined_text_nodes[node_idx]:\n",
    "            joined_text = joined_text_nodes[node_idx]['fragment_text'] \n",
    "            attrs[node_idx] = {'joined_text':joined_text}\n",
    "        else:\n",
    "            no_text_nodes_counter += 1\n",
    "    nx.set_node_attributes(morpho_graph, attrs)\n",
    "    new_morphograph_json = json_graph.node_link_data(morpho_graph)\n",
    "    with open(morphograph_path, 'w', encoding='utf-8') as f:\n",
    "        json.dump(new_morphograph_json, f)\n",
    "    "
   ]
  },
  {
   "cell_type": "code",
   "execution_count": 27,
   "metadata": {},
   "outputs": [
    {
     "data": {
      "text/plain": [
       "2"
      ]
     },
     "execution_count": 27,
     "metadata": {},
     "output_type": "execute_result"
    }
   ],
   "source": [
    "no_text_nodes_counter "
   ]
  },
  {
   "cell_type": "code",
   "execution_count": 29,
   "metadata": {},
   "outputs": [],
   "source": [
    "morpho_graph = json_graph.node_link_graph(json.load(open(morphograph_path, encoding='utf-8')))"
   ]
  },
  {
   "cell_type": "code",
   "execution_count": null,
   "metadata": {},
   "outputs": [],
   "source": [
    "morpho_graph.nodes()"
   ]
  },
  {
   "cell_type": "code",
   "execution_count": 18,
   "metadata": {},
   "outputs": [],
   "source": [
    "BOOK_GRAPHS_DIRECTORY = 'D:\\Диплом_текстовые_квесты\\Data\\quest_books_graphs_morphology'\n",
    "ONLINE_GRAPHS_DIRECTORY = 'D:\\Диплом_текстовые_квесты\\Data\\Questbook_online_grammar'\n",
    "\n",
    "dev_online_graphs, test_online_graphs = train_test_split(os.listdir(ONLINE_GRAPHS_DIRECTORY), random_state=42, test_size=0.4)\n",
    "\n",
    "all_dev_graphs = [os.path.join(BOOK_GRAPHS_DIRECTORY, book_graph) for book_graph in os.listdir(BOOK_GRAPHS_DIRECTORY)] + [os.path.join(ONLINE_GRAPHS_DIRECTORY, online_graph) for online_graph in dev_online_graphs]\n",
    "book_graphs = [os.path.join(BOOK_GRAPHS_DIRECTORY, book_graph) for book_graph in os.listdir(BOOK_GRAPHS_DIRECTORY)]\n",
    "online_graphs = [os.path.join(ONLINE_GRAPHS_DIRECTORY, online_graph) for online_graph in os.listdir(ONLINE_GRAPHS_DIRECTORY)]\n",
    "test_graphs_paths = [os.path.join(ONLINE_GRAPHS_DIRECTORY, test_graph) for test_graph in test_online_graphs]\n",
    "\n",
    "train_paths, valid_paths = train_test_split(all_dev_graphs, random_state=42, test_size=0.1)"
   ]
  },
  {
   "cell_type": "code",
   "execution_count": 5,
   "metadata": {},
   "outputs": [],
   "source": [
    "test = json.load(open('D:\\\\Диплом_текстовые_квесты\\\\Data\\\\Questbook_online_grammar\\\\admin.json'))"
   ]
  },
  {
   "cell_type": "code",
   "execution_count": 4,
   "metadata": {},
   "outputs": [],
   "source": [
    "def correct_path(path, graph, morphodata_field, text_field='fragment_text'):\n",
    "    nodes = graph.nodes()\n",
    "    correct_path = [fragment_id for fragment_id in path if  morphodata_field in nodes[fragment_id] and text_field in nodes[fragment_id] and isinstance(nodes[fragment_id][text_field], str)]\n",
    "    return correct_path"
   ]
  },
  {
   "cell_type": "code",
   "execution_count": 6,
   "metadata": {},
   "outputs": [],
   "source": [
    "BOOK_PATHS_DIRECTORY = os.path.join('D:\\\\', 'Диплом_текстовые_квесты', 'Data', 'book_paths')\n",
    "ONLINE_PATHS_DIRECTORY = os.path.join('D:\\\\', 'Диплом_текстовые_квесты', 'random_paths')"
   ]
  },
  {
   "cell_type": "code",
   "execution_count": 37,
   "metadata": {},
   "outputs": [],
   "source": [
    "test = json.load(open(os.path.join('D:\\\\Диплом_текстовые_квесты\\\\Data\\\\questbook_online_joined_texts', 'admin.json'), encoding='utf-8'))"
   ]
  },
  {
   "cell_type": "code",
   "execution_count": 18,
   "metadata": {},
   "outputs": [
    {
     "data": {
      "text/plain": [
       "'К вам подходит бородатый мужчина в рабочем комбинезоне. Из его невнятной речи вы понимаете, что ваш корабль готов к взлёту, но в нём осталось свободное место и вы можете загрузить дополнительный груз. Загрузите больше металла Загрузите больше минералов Загрузите больше топлива'"
      ]
     },
     "execution_count": 18,
     "metadata": {},
     "output_type": "execute_result"
    }
   ],
   "source": [
    "test['nodes'][1]['fragment_text']"
   ]
  },
  {
   "cell_type": "code",
   "execution_count": 15,
   "metadata": {},
   "outputs": [
    {
     "data": {
      "text/plain": [
       "dict_keys(['fragment_text', 'node_morphodata'])"
      ]
     },
     "execution_count": 15,
     "metadata": {},
     "output_type": "execute_result"
    }
   ],
   "source": [
    "quest_graph.nodes()[1].keys()"
   ]
  },
  {
   "cell_type": "code",
   "execution_count": 35,
   "metadata": {},
   "outputs": [],
   "source": [
    "for i, train_graph_path in enumerate(train_paths):\n",
    "    quest_graph = json_graph.node_link_graph(json.load(open(train_graph_path, encoding='utf-8')))\n",
    "    try:\n",
    "        if 'quest_books' in train_graph_path:\n",
    "            random_walk_paths_path = os.path.join(BOOK_PATHS_DIRECTORY, os.path.basename(train_graph_path))\n",
    "            morphology_key = 'node_morphodata'\n",
    "            text_key='fragment_text'\n",
    "        else:\n",
    "            random_walk_paths_path = os.path.join(ONLINE_PATHS_DIRECTORY, os.path.basename(train_graph_path))\n",
    "            morphology_key = 'joined_morphodata'\n",
    "            text_key='joined_text'\n",
    "        random_paths = json.load(open(random_walk_paths_path, encoding='utf-8'))\n",
    "        for path in random_paths:\n",
    "            corrected_path = correct_path(path, quest_graph, morphodata_field=morphology_key, text_field=text_key)\n",
    "            if len(corrected_path) > 3:\n",
    "                entity_graph, noun_nodes = quest_path2entity_graph(corrected_path, quest_graph, morphology_key=morphology_key, text_key=text_key)\n",
    "        jsonified_data = [train_graph_path, corrected_path, json_graph.node_link_data(entity_graph), noun_nodes]\n",
    "        with open(os.path.join(TOKENIZED_TRAIN_DIR, str(i)+'.json'), 'w', encoding='utf-8') as f:\n",
    "            json.dump(jsonified_data, f)\n",
    "    except OSError:\n",
    "        print(train_graph_path)"
   ]
  },
  {
   "cell_type": "code",
   "execution_count": 61,
   "metadata": {},
   "outputs": [
    {
     "name": "stdout",
     "output_type": "stream",
     "text": [
      "Expecting ',' delimiter: line 1 column 842655 (char 842654)\n",
      "D:\\Диплом_текстовые_квесты\\Data\\Questbook_online_grammar\\game9081.json\n"
     ]
    }
   ],
   "source": [
    "for i, test_graph_path in enumerate(test_graphs_paths):\n",
    "    try:\n",
    "        quest_graph = json_graph.node_link_graph(json.load(open(test_graph_path, encoding='utf-8')))\n",
    "        if 'quest_books' in test_graph_path:\n",
    "            random_walk_paths_path = os.path.join(BOOK_PATHS_DIRECTORY, os.path.basename(test_graph_path))\n",
    "            morphology_key = 'node_morphodata'\n",
    "            text_key='fragment_text'\n",
    "        else:\n",
    "            random_walk_paths_path = os.path.join(ONLINE_PATHS_DIRECTORY, os.path.basename(test_graph_path))\n",
    "            morphology_key = 'joined_morphodata'\n",
    "            text_key='joined_text'\n",
    "        random_paths = json.load(open(random_walk_paths_path, encoding='utf-8'))\n",
    "        for path in random_paths:\n",
    "            corrected_path = correct_path(path, quest_graph, morphodata_field=morphology_key)\n",
    "            if len(corrected_path) > 3:\n",
    "                entity_graph, noun_nodes = quest_path2entity_graph(corrected_path, quest_graph, morphology_key=morphology_key, text_key=text_key)\n",
    "                jsonified_data = [test_graph_path, corrected_path, json_graph.node_link_data(entity_graph), noun_nodes]\n",
    "        with open(os.path.join(TOKENIZED_TEST_DIR, str(i)+'.json'), 'w', encoding='utf-8') as f:\n",
    "            json.dump(jsonified_data, f)\n",
    "    except Exception as e:\n",
    "        print(e)\n",
    "        print(test_graph_path)"
   ]
  },
  {
   "cell_type": "code",
   "execution_count": 34,
   "metadata": {},
   "outputs": [],
   "source": [
    "TOKENIZED_TRAIN_DIR = 'D:\\\\Диплом_текстовые_квесты\\\\Data\\\\tokenized_ordering_train'"
   ]
  },
  {
   "cell_type": "code",
   "execution_count": 27,
   "metadata": {},
   "outputs": [],
   "source": [
    "TOKENIZED_TEST_DIR = 'D:\\\\Диплом_текстовые_квесты\\\\Data\\\\tokenized_ordering_test_joined'"
   ]
  },
  {
   "cell_type": "code",
   "execution_count": 15,
   "metadata": {},
   "outputs": [],
   "source": [
    "paths_statistics = pd.DataFrame(columns=['num_nouns', 'num_fragments', 'num_edges_between_fragments', 'quest_type'])"
   ]
  },
  {
   "cell_type": "code",
   "execution_count": 16,
   "metadata": {},
   "outputs": [
    {
     "name": "stderr",
     "output_type": "stream",
     "text": [
      "100%|████████████████████████████████████████████████████████████████████████████████| 168/168 [01:41<00:00,  1.66it/s]\n"
     ]
    }
   ],
   "source": [
    "for book_path in tqdm(book_graphs):\n",
    "    try:\n",
    "        quest_graph = json_graph.node_link_graph(json.load(open(book_path, encoding='utf-8')))\n",
    "        random_walk_paths_path = os.path.join(BOOK_PATHS_DIRECTORY, os.path.basename(book_path))\n",
    "        random_paths = json.load(open(random_walk_paths_path, encoding='utf-8'))\n",
    "        for path in random_paths:\n",
    "            corrected_path = correct_path(path, quest_graph, morphodata_field='node_morphodata')\n",
    "            if len(corrected_path) > 3:\n",
    "                entity_graph, noun_nodes = quest_path2entity_graph(corrected_path, quest_graph, morphology_key='node_morphodata', text_key='fragment_text')\n",
    "                \n",
    "                num_nouns = len(noun_nodes[0])\n",
    "                num_fragments = len(corrected_path)\n",
    "                edges = entity_graph.edges()\n",
    "                num_fragment_edges = len([edge for edge in edges if edges[edge]['label']=='fragments_pair'])\n",
    "                \n",
    "                paths_statistics.loc[len(paths_statistics)] = [num_nouns, num_fragments, num_fragment_edges, 'book']\n",
    "            \n",
    "            \n",
    "    except Exception as e:\n",
    "        print(e)\n",
    "        print(book_path)\n",
    "        break\n",
    "    "
   ]
  },
  {
   "cell_type": "code",
   "execution_count": 19,
   "metadata": {},
   "outputs": [
    {
     "name": "stderr",
     "output_type": "stream",
     "text": [
      " 73%|██████████████████████████████████████████████████████████▏                     | 131/180 [01:26<00:29,  1.66it/s]"
     ]
    },
    {
     "name": "stdout",
     "output_type": "stream",
     "text": [
      "Expecting ',' delimiter: line 1 column 842655 (char 842654)\n",
      "D:\\Диплом_текстовые_квесты\\Data\\quest_books_graphs_morphology\\Элгар Флетч.json\n"
     ]
    },
    {
     "name": "stderr",
     "output_type": "stream",
     "text": [
      "100%|████████████████████████████████████████████████████████████████████████████████| 180/180 [01:53<00:00,  1.58it/s]\n"
     ]
    }
   ],
   "source": [
    "for online_path in tqdm(online_graphs):\n",
    "    try:\n",
    "        quest_graph = json_graph.node_link_graph(json.load(open(online_path , encoding='utf-8')))\n",
    "        random_walk_paths_path = os.path.join(ONLINE_PATHS_DIRECTORY, os.path.basename(online_path))\n",
    "        random_paths = json.load(open(random_walk_paths_path, encoding='utf-8'))\n",
    "        for path in random_paths:\n",
    "            corrected_path = correct_path(path, quest_graph, morphodata_field='joined_morphodata')\n",
    "            if len(corrected_path) > 3:\n",
    "                entity_graph, noun_nodes = quest_path2entity_graph(corrected_path, quest_graph, morphology_key='joined_morphodata', text_key='joined_text')\n",
    "                \n",
    "                num_nouns = len(noun_nodes[0])\n",
    "                num_fragments = len(corrected_path)\n",
    "                edges = entity_graph.edges()\n",
    "                num_fragment_edges = len([edge for edge in edges if edges[edge]['label']=='fragments_pair'])\n",
    "                \n",
    "                paths_statistics.loc[len(paths_statistics)] = [num_nouns, num_fragments, num_fragment_edges, 'online']\n",
    "            \n",
    "            \n",
    "    except Exception as e:\n",
    "        print(e)\n",
    "        print(book_path)\n",
    "    "
   ]
  },
  {
   "cell_type": "code",
   "execution_count": 41,
   "metadata": {},
   "outputs": [],
   "source": [
    "def proportion_of_real_edges(num_fragments, num_edges):\n",
    "    num_combinations = 0.5*num_fragments * (num_fragments-1)\n",
    "    return num_edges/num_combinations"
   ]
  },
  {
   "cell_type": "code",
   "execution_count": 20,
   "metadata": {},
   "outputs": [
    {
     "data": {
      "text/html": [
       "<div>\n",
       "<style scoped>\n",
       "    .dataframe tbody tr th:only-of-type {\n",
       "        vertical-align: middle;\n",
       "    }\n",
       "\n",
       "    .dataframe tbody tr th {\n",
       "        vertical-align: top;\n",
       "    }\n",
       "\n",
       "    .dataframe thead th {\n",
       "        text-align: right;\n",
       "    }\n",
       "</style>\n",
       "<table border=\"1\" class=\"dataframe\">\n",
       "  <thead>\n",
       "    <tr style=\"text-align: right;\">\n",
       "      <th></th>\n",
       "      <th>num_nouns</th>\n",
       "      <th>num_fragments</th>\n",
       "      <th>num_edges_between_fragments</th>\n",
       "      <th>quest_type</th>\n",
       "    </tr>\n",
       "  </thead>\n",
       "  <tbody>\n",
       "    <tr>\n",
       "      <th>0</th>\n",
       "      <td>27</td>\n",
       "      <td>4</td>\n",
       "      <td>6</td>\n",
       "      <td>book</td>\n",
       "    </tr>\n",
       "    <tr>\n",
       "      <th>1</th>\n",
       "      <td>32</td>\n",
       "      <td>6</td>\n",
       "      <td>10</td>\n",
       "      <td>book</td>\n",
       "    </tr>\n",
       "    <tr>\n",
       "      <th>2</th>\n",
       "      <td>14</td>\n",
       "      <td>4</td>\n",
       "      <td>3</td>\n",
       "      <td>book</td>\n",
       "    </tr>\n",
       "    <tr>\n",
       "      <th>3</th>\n",
       "      <td>19</td>\n",
       "      <td>5</td>\n",
       "      <td>6</td>\n",
       "      <td>book</td>\n",
       "    </tr>\n",
       "    <tr>\n",
       "      <th>4</th>\n",
       "      <td>14</td>\n",
       "      <td>4</td>\n",
       "      <td>2</td>\n",
       "      <td>book</td>\n",
       "    </tr>\n",
       "    <tr>\n",
       "      <th>...</th>\n",
       "      <td>...</td>\n",
       "      <td>...</td>\n",
       "      <td>...</td>\n",
       "      <td>...</td>\n",
       "    </tr>\n",
       "    <tr>\n",
       "      <th>18248</th>\n",
       "      <td>236</td>\n",
       "      <td>37</td>\n",
       "      <td>528</td>\n",
       "      <td>online</td>\n",
       "    </tr>\n",
       "    <tr>\n",
       "      <th>18249</th>\n",
       "      <td>82</td>\n",
       "      <td>11</td>\n",
       "      <td>40</td>\n",
       "      <td>online</td>\n",
       "    </tr>\n",
       "    <tr>\n",
       "      <th>18250</th>\n",
       "      <td>201</td>\n",
       "      <td>31</td>\n",
       "      <td>344</td>\n",
       "      <td>online</td>\n",
       "    </tr>\n",
       "    <tr>\n",
       "      <th>18251</th>\n",
       "      <td>111</td>\n",
       "      <td>13</td>\n",
       "      <td>62</td>\n",
       "      <td>online</td>\n",
       "    </tr>\n",
       "    <tr>\n",
       "      <th>18252</th>\n",
       "      <td>61</td>\n",
       "      <td>7</td>\n",
       "      <td>20</td>\n",
       "      <td>online</td>\n",
       "    </tr>\n",
       "  </tbody>\n",
       "</table>\n",
       "<p>18253 rows × 4 columns</p>\n",
       "</div>"
      ],
      "text/plain": [
       "      num_nouns num_fragments num_edges_between_fragments quest_type\n",
       "0            27             4                           6       book\n",
       "1            32             6                          10       book\n",
       "2            14             4                           3       book\n",
       "3            19             5                           6       book\n",
       "4            14             4                           2       book\n",
       "...         ...           ...                         ...        ...\n",
       "18248       236            37                         528     online\n",
       "18249        82            11                          40     online\n",
       "18250       201            31                         344     online\n",
       "18251       111            13                          62     online\n",
       "18252        61             7                          20     online\n",
       "\n",
       "[18253 rows x 4 columns]"
      ]
     },
     "execution_count": 20,
     "metadata": {},
     "output_type": "execute_result"
    }
   ],
   "source": []
  },
  {
   "cell_type": "code",
   "execution_count": 52,
   "metadata": {},
   "outputs": [],
   "source": []
  },
  {
   "cell_type": "code",
   "execution_count": 49,
   "metadata": {},
   "outputs": [],
   "source": [
    "paths_statistics['num_nouns'] = pd.to_numeric(paths_statistics['num_nouns'])\n",
    "paths_statistics['num_fragments'] = pd.to_numeric(paths_statistics['num_fragments'])\n",
    "paths_statistics['num_edges_between_fragments'] = pd.to_numeric(paths_statistics['num_edges_between_fragments'])"
   ]
  },
  {
   "cell_type": "code",
   "execution_count": null,
   "metadata": {},
   "outputs": [],
   "source": [
    "paths_statistics['proportion_of_real_edges'] = paths_statistics.apply(lambda row: proportion_of_real_edges(row['num_fragments'], row['num_edges_between_fragments']), axis=1) "
   ]
  },
  {
   "cell_type": "code",
   "execution_count": 53,
   "metadata": {},
   "outputs": [
    {
     "data": {
      "text/html": [
       "<div>\n",
       "<style scoped>\n",
       "    .dataframe tbody tr th:only-of-type {\n",
       "        vertical-align: middle;\n",
       "    }\n",
       "\n",
       "    .dataframe tbody tr th {\n",
       "        vertical-align: top;\n",
       "    }\n",
       "\n",
       "    .dataframe thead th {\n",
       "        text-align: right;\n",
       "    }\n",
       "</style>\n",
       "<table border=\"1\" class=\"dataframe\">\n",
       "  <thead>\n",
       "    <tr style=\"text-align: right;\">\n",
       "      <th></th>\n",
       "      <th>num_nouns</th>\n",
       "      <th>num_fragments</th>\n",
       "      <th>num_edges_between_fragments</th>\n",
       "      <th>quest_type</th>\n",
       "      <th>proportion_of_real_edges</th>\n",
       "    </tr>\n",
       "  </thead>\n",
       "  <tbody>\n",
       "    <tr>\n",
       "      <th>0</th>\n",
       "      <td>27</td>\n",
       "      <td>4</td>\n",
       "      <td>6</td>\n",
       "      <td>book</td>\n",
       "      <td>1.000000</td>\n",
       "    </tr>\n",
       "    <tr>\n",
       "      <th>1</th>\n",
       "      <td>32</td>\n",
       "      <td>6</td>\n",
       "      <td>10</td>\n",
       "      <td>book</td>\n",
       "      <td>0.666667</td>\n",
       "    </tr>\n",
       "    <tr>\n",
       "      <th>2</th>\n",
       "      <td>14</td>\n",
       "      <td>4</td>\n",
       "      <td>3</td>\n",
       "      <td>book</td>\n",
       "      <td>0.500000</td>\n",
       "    </tr>\n",
       "    <tr>\n",
       "      <th>3</th>\n",
       "      <td>19</td>\n",
       "      <td>5</td>\n",
       "      <td>6</td>\n",
       "      <td>book</td>\n",
       "      <td>0.600000</td>\n",
       "    </tr>\n",
       "    <tr>\n",
       "      <th>4</th>\n",
       "      <td>14</td>\n",
       "      <td>4</td>\n",
       "      <td>2</td>\n",
       "      <td>book</td>\n",
       "      <td>0.333333</td>\n",
       "    </tr>\n",
       "    <tr>\n",
       "      <th>...</th>\n",
       "      <td>...</td>\n",
       "      <td>...</td>\n",
       "      <td>...</td>\n",
       "      <td>...</td>\n",
       "      <td>...</td>\n",
       "    </tr>\n",
       "    <tr>\n",
       "      <th>18248</th>\n",
       "      <td>236</td>\n",
       "      <td>37</td>\n",
       "      <td>528</td>\n",
       "      <td>online</td>\n",
       "      <td>0.792793</td>\n",
       "    </tr>\n",
       "    <tr>\n",
       "      <th>18249</th>\n",
       "      <td>82</td>\n",
       "      <td>11</td>\n",
       "      <td>40</td>\n",
       "      <td>online</td>\n",
       "      <td>0.727273</td>\n",
       "    </tr>\n",
       "    <tr>\n",
       "      <th>18250</th>\n",
       "      <td>201</td>\n",
       "      <td>31</td>\n",
       "      <td>344</td>\n",
       "      <td>online</td>\n",
       "      <td>0.739785</td>\n",
       "    </tr>\n",
       "    <tr>\n",
       "      <th>18251</th>\n",
       "      <td>111</td>\n",
       "      <td>13</td>\n",
       "      <td>62</td>\n",
       "      <td>online</td>\n",
       "      <td>0.794872</td>\n",
       "    </tr>\n",
       "    <tr>\n",
       "      <th>18252</th>\n",
       "      <td>61</td>\n",
       "      <td>7</td>\n",
       "      <td>20</td>\n",
       "      <td>online</td>\n",
       "      <td>0.952381</td>\n",
       "    </tr>\n",
       "  </tbody>\n",
       "</table>\n",
       "<p>18253 rows × 5 columns</p>\n",
       "</div>"
      ],
      "text/plain": [
       "       num_nouns  num_fragments  num_edges_between_fragments quest_type  \\\n",
       "0             27              4                            6       book   \n",
       "1             32              6                           10       book   \n",
       "2             14              4                            3       book   \n",
       "3             19              5                            6       book   \n",
       "4             14              4                            2       book   \n",
       "...          ...            ...                          ...        ...   \n",
       "18248        236             37                          528     online   \n",
       "18249         82             11                           40     online   \n",
       "18250        201             31                          344     online   \n",
       "18251        111             13                           62     online   \n",
       "18252         61              7                           20     online   \n",
       "\n",
       "       proportion_of_real_edges  \n",
       "0                      1.000000  \n",
       "1                      0.666667  \n",
       "2                      0.500000  \n",
       "3                      0.600000  \n",
       "4                      0.333333  \n",
       "...                         ...  \n",
       "18248                  0.792793  \n",
       "18249                  0.727273  \n",
       "18250                  0.739785  \n",
       "18251                  0.794872  \n",
       "18252                  0.952381  \n",
       "\n",
       "[18253 rows x 5 columns]"
      ]
     },
     "execution_count": 53,
     "metadata": {},
     "output_type": "execute_result"
    }
   ],
   "source": [
    "paths_statistics"
   ]
  },
  {
   "cell_type": "code",
   "execution_count": 51,
   "metadata": {},
   "outputs": [
    {
     "data": {
      "text/html": [
       "<div>\n",
       "<style scoped>\n",
       "    .dataframe tbody tr th:only-of-type {\n",
       "        vertical-align: middle;\n",
       "    }\n",
       "\n",
       "    .dataframe tbody tr th {\n",
       "        vertical-align: top;\n",
       "    }\n",
       "\n",
       "    .dataframe thead th {\n",
       "        text-align: right;\n",
       "    }\n",
       "</style>\n",
       "<table border=\"1\" class=\"dataframe\">\n",
       "  <thead>\n",
       "    <tr style=\"text-align: right;\">\n",
       "      <th></th>\n",
       "      <th>count</th>\n",
       "      <th>mean</th>\n",
       "      <th>std</th>\n",
       "      <th>min</th>\n",
       "      <th>25%</th>\n",
       "      <th>50%</th>\n",
       "      <th>75%</th>\n",
       "      <th>max</th>\n",
       "    </tr>\n",
       "    <tr>\n",
       "      <th>quest_type</th>\n",
       "      <th></th>\n",
       "      <th></th>\n",
       "      <th></th>\n",
       "      <th></th>\n",
       "      <th></th>\n",
       "      <th></th>\n",
       "      <th></th>\n",
       "      <th></th>\n",
       "    </tr>\n",
       "  </thead>\n",
       "  <tbody>\n",
       "    <tr>\n",
       "      <th>book</th>\n",
       "      <td>9727.0</td>\n",
       "      <td>64.079058</td>\n",
       "      <td>74.817769</td>\n",
       "      <td>0.0</td>\n",
       "      <td>20.0</td>\n",
       "      <td>38.0</td>\n",
       "      <td>74.0</td>\n",
       "      <td>693.0</td>\n",
       "    </tr>\n",
       "    <tr>\n",
       "      <th>online</th>\n",
       "      <td>8526.0</td>\n",
       "      <td>104.424701</td>\n",
       "      <td>117.145277</td>\n",
       "      <td>0.0</td>\n",
       "      <td>37.0</td>\n",
       "      <td>70.0</td>\n",
       "      <td>132.0</td>\n",
       "      <td>828.0</td>\n",
       "    </tr>\n",
       "  </tbody>\n",
       "</table>\n",
       "</div>"
      ],
      "text/plain": [
       "             count        mean         std  min   25%   50%    75%    max\n",
       "quest_type                                                               \n",
       "book        9727.0   64.079058   74.817769  0.0  20.0  38.0   74.0  693.0\n",
       "online      8526.0  104.424701  117.145277  0.0  37.0  70.0  132.0  828.0"
      ]
     },
     "execution_count": 51,
     "metadata": {},
     "output_type": "execute_result"
    }
   ],
   "source": [
    "paths_statistics.groupby('quest_type')['num_nouns'].describe()"
   ]
  },
  {
   "cell_type": "code",
   "execution_count": 55,
   "metadata": {},
   "outputs": [
    {
     "data": {
      "text/html": [
       "<div>\n",
       "<style scoped>\n",
       "    .dataframe tbody tr th:only-of-type {\n",
       "        vertical-align: middle;\n",
       "    }\n",
       "\n",
       "    .dataframe tbody tr th {\n",
       "        vertical-align: top;\n",
       "    }\n",
       "\n",
       "    .dataframe thead th {\n",
       "        text-align: right;\n",
       "    }\n",
       "</style>\n",
       "<table border=\"1\" class=\"dataframe\">\n",
       "  <thead>\n",
       "    <tr style=\"text-align: right;\">\n",
       "      <th></th>\n",
       "      <th>count</th>\n",
       "      <th>mean</th>\n",
       "      <th>std</th>\n",
       "      <th>min</th>\n",
       "      <th>25%</th>\n",
       "      <th>50%</th>\n",
       "      <th>75%</th>\n",
       "      <th>max</th>\n",
       "    </tr>\n",
       "    <tr>\n",
       "      <th>quest_type</th>\n",
       "      <th></th>\n",
       "      <th></th>\n",
       "      <th></th>\n",
       "      <th></th>\n",
       "      <th></th>\n",
       "      <th></th>\n",
       "      <th></th>\n",
       "      <th></th>\n",
       "    </tr>\n",
       "  </thead>\n",
       "  <tbody>\n",
       "    <tr>\n",
       "      <th>book</th>\n",
       "      <td>9727.0</td>\n",
       "      <td>0.692640</td>\n",
       "      <td>0.225236</td>\n",
       "      <td>0.0</td>\n",
       "      <td>0.516760</td>\n",
       "      <td>0.700000</td>\n",
       "      <td>0.892857</td>\n",
       "      <td>1.0</td>\n",
       "    </tr>\n",
       "    <tr>\n",
       "      <th>online</th>\n",
       "      <td>8526.0</td>\n",
       "      <td>0.733865</td>\n",
       "      <td>0.206748</td>\n",
       "      <td>0.0</td>\n",
       "      <td>0.604987</td>\n",
       "      <td>0.777778</td>\n",
       "      <td>0.896104</td>\n",
       "      <td>1.0</td>\n",
       "    </tr>\n",
       "  </tbody>\n",
       "</table>\n",
       "</div>"
      ],
      "text/plain": [
       "             count      mean       std  min       25%       50%       75%  max\n",
       "quest_type                                                                    \n",
       "book        9727.0  0.692640  0.225236  0.0  0.516760  0.700000  0.892857  1.0\n",
       "online      8526.0  0.733865  0.206748  0.0  0.604987  0.777778  0.896104  1.0"
      ]
     },
     "execution_count": 55,
     "metadata": {},
     "output_type": "execute_result"
    }
   ],
   "source": [
    "paths_statistics.groupby('quest_type')['proportion_of_real_edges'].describe()"
   ]
  },
  {
   "cell_type": "code",
   "execution_count": 57,
   "metadata": {},
   "outputs": [],
   "source": [
    "full_quests_statistics = pd.DataFrame(columns=['num_nouns', 'num_fragments', 'num_edges_between_fragments', 'quest_type'])"
   ]
  },
  {
   "cell_type": "code",
   "execution_count": 59,
   "metadata": {},
   "outputs": [
    {
     "name": "stderr",
     "output_type": "stream",
     "text": [
      "100%|████████████████████████████████████████████████████████████████████████████████| 168/168 [01:05<00:00,  2.57it/s]\n"
     ]
    }
   ],
   "source": [
    "for book_path in tqdm(book_graphs):\n",
    "    try:\n",
    "        quest_graph = json_graph.node_link_graph(json.load(open(book_path, encoding='utf-8')))\n",
    "        pseudo_path = [node for node in quest_graph.nodes()]\n",
    "        \n",
    "        corrected_pseudo_path = correct_path(pseudo_path, quest_graph, morphodata_field='node_morphodata')\n",
    "        if len(corrected_pseudo_path) > 3:\n",
    "            entity_graph, noun_nodes = quest_path2entity_graph(corrected_pseudo_path, quest_graph, morphology_key='node_morphodata', text_key='fragment_text')\n",
    "                \n",
    "            num_nouns = len(noun_nodes[0])\n",
    "            num_fragments = len(corrected_pseudo_path)\n",
    "            edges = entity_graph.edges()\n",
    "            num_fragment_edges = len([edge for edge in edges if edges[edge]['label']=='fragments_pair'])\n",
    "                \n",
    "            full_quests_statistics.loc[len(full_quests_statistics)] = [num_nouns, num_fragments, num_fragment_edges, 'book']\n",
    "            \n",
    "            \n",
    "    except Exception as e:\n",
    "        print(e)\n",
    "        print(book_path)\n"
   ]
  },
  {
   "cell_type": "code",
   "execution_count": 61,
   "metadata": {},
   "outputs": [
    {
     "name": "stderr",
     "output_type": "stream",
     "text": [
      " 74%|███████████████████████████████████████████████████████████▌                    | 134/180 [00:19<00:03, 12.21it/s]"
     ]
    },
    {
     "name": "stdout",
     "output_type": "stream",
     "text": [
      "Expecting ',' delimiter: line 1 column 842655 (char 842654)\n",
      "D:\\Диплом_текстовые_квесты\\Data\\Questbook_online_grammar\\game9081.json\n"
     ]
    },
    {
     "name": "stderr",
     "output_type": "stream",
     "text": [
      "100%|████████████████████████████████████████████████████████████████████████████████| 180/180 [00:24<00:00,  7.27it/s]\n"
     ]
    }
   ],
   "source": [
    "for online_path in tqdm(online_graphs):\n",
    "    try:\n",
    "        quest_graph = json_graph.node_link_graph(json.load(open(online_path, encoding='utf-8')))\n",
    "        pseudo_path = [node for node in quest_graph.nodes()]\n",
    "        \n",
    "        corrected_pseudo_path = correct_path(pseudo_path, quest_graph, morphodata_field='joined_morphodata')\n",
    "        if len(corrected_pseudo_path) > 3:\n",
    "            entity_graph, noun_nodes = quest_path2entity_graph(corrected_pseudo_path, quest_graph, morphology_key='joined_morphodata', text_key='joined_text')\n",
    "                \n",
    "            num_nouns = len(noun_nodes[0])\n",
    "            num_fragments = len(corrected_pseudo_path)\n",
    "            edges = entity_graph.edges()\n",
    "            num_fragment_edges = len([edge for edge in edges if edges[edge]['label']=='fragments_pair'])\n",
    "                \n",
    "            full_quests_statistics.loc[len(full_quests_statistics)] = [num_nouns, num_fragments, num_fragment_edges, 'online']\n",
    "            \n",
    "            \n",
    "    except Exception as e:\n",
    "        print(e)\n",
    "        print(online_path)\n"
   ]
  },
  {
   "cell_type": "code",
   "execution_count": 63,
   "metadata": {},
   "outputs": [],
   "source": [
    "full_quests_statistics['num_nouns'] = pd.to_numeric(full_quests_statistics['num_nouns'])\n",
    "full_quests_statistics['num_fragments'] = pd.to_numeric(full_quests_statistics['num_fragments'])\n",
    "full_quests_statistics['num_edges_between_fragments'] = pd.to_numeric(full_quests_statistics['num_edges_between_fragments'])"
   ]
  },
  {
   "cell_type": "code",
   "execution_count": 64,
   "metadata": {},
   "outputs": [],
   "source": [
    "full_quests_statistics['proportion_of_real_edges'] = full_quests_statistics.apply(lambda row: proportion_of_real_edges(row['num_fragments'], row['num_edges_between_fragments']), axis=1) "
   ]
  },
  {
   "cell_type": "code",
   "execution_count": 65,
   "metadata": {},
   "outputs": [
    {
     "data": {
      "text/html": [
       "<div>\n",
       "<style scoped>\n",
       "    .dataframe tbody tr th:only-of-type {\n",
       "        vertical-align: middle;\n",
       "    }\n",
       "\n",
       "    .dataframe tbody tr th {\n",
       "        vertical-align: top;\n",
       "    }\n",
       "\n",
       "    .dataframe thead th {\n",
       "        text-align: right;\n",
       "    }\n",
       "</style>\n",
       "<table border=\"1\" class=\"dataframe\">\n",
       "  <thead>\n",
       "    <tr style=\"text-align: right;\">\n",
       "      <th></th>\n",
       "      <th>count</th>\n",
       "      <th>mean</th>\n",
       "      <th>std</th>\n",
       "      <th>min</th>\n",
       "      <th>25%</th>\n",
       "      <th>50%</th>\n",
       "      <th>75%</th>\n",
       "      <th>max</th>\n",
       "    </tr>\n",
       "    <tr>\n",
       "      <th>quest_type</th>\n",
       "      <th></th>\n",
       "      <th></th>\n",
       "      <th></th>\n",
       "      <th></th>\n",
       "      <th></th>\n",
       "      <th></th>\n",
       "      <th></th>\n",
       "      <th></th>\n",
       "    </tr>\n",
       "  </thead>\n",
       "  <tbody>\n",
       "    <tr>\n",
       "      <th>book</th>\n",
       "      <td>167.0</td>\n",
       "      <td>718.401198</td>\n",
       "      <td>525.994927</td>\n",
       "      <td>34.0</td>\n",
       "      <td>343.00</td>\n",
       "      <td>624.0</td>\n",
       "      <td>930.00</td>\n",
       "      <td>2390.0</td>\n",
       "    </tr>\n",
       "    <tr>\n",
       "      <th>online</th>\n",
       "      <td>178.0</td>\n",
       "      <td>264.005618</td>\n",
       "      <td>259.891383</td>\n",
       "      <td>0.0</td>\n",
       "      <td>90.25</td>\n",
       "      <td>182.5</td>\n",
       "      <td>387.25</td>\n",
       "      <td>1864.0</td>\n",
       "    </tr>\n",
       "  </tbody>\n",
       "</table>\n",
       "</div>"
      ],
      "text/plain": [
       "            count        mean         std   min     25%    50%     75%     max\n",
       "quest_type                                                                    \n",
       "book        167.0  718.401198  525.994927  34.0  343.00  624.0  930.00  2390.0\n",
       "online      178.0  264.005618  259.891383   0.0   90.25  182.5  387.25  1864.0"
      ]
     },
     "execution_count": 65,
     "metadata": {},
     "output_type": "execute_result"
    }
   ],
   "source": [
    "full_quests_statistics.groupby('quest_type')['num_nouns'].describe()"
   ]
  },
  {
   "cell_type": "code",
   "execution_count": 66,
   "metadata": {},
   "outputs": [
    {
     "data": {
      "text/html": [
       "<div>\n",
       "<style scoped>\n",
       "    .dataframe tbody tr th:only-of-type {\n",
       "        vertical-align: middle;\n",
       "    }\n",
       "\n",
       "    .dataframe tbody tr th {\n",
       "        vertical-align: top;\n",
       "    }\n",
       "\n",
       "    .dataframe thead th {\n",
       "        text-align: right;\n",
       "    }\n",
       "</style>\n",
       "<table border=\"1\" class=\"dataframe\">\n",
       "  <thead>\n",
       "    <tr style=\"text-align: right;\">\n",
       "      <th></th>\n",
       "      <th>count</th>\n",
       "      <th>mean</th>\n",
       "      <th>std</th>\n",
       "      <th>min</th>\n",
       "      <th>25%</th>\n",
       "      <th>50%</th>\n",
       "      <th>75%</th>\n",
       "      <th>max</th>\n",
       "    </tr>\n",
       "    <tr>\n",
       "      <th>quest_type</th>\n",
       "      <th></th>\n",
       "      <th></th>\n",
       "      <th></th>\n",
       "      <th></th>\n",
       "      <th></th>\n",
       "      <th></th>\n",
       "      <th></th>\n",
       "      <th></th>\n",
       "    </tr>\n",
       "  </thead>\n",
       "  <tbody>\n",
       "    <tr>\n",
       "      <th>book</th>\n",
       "      <td>167.0</td>\n",
       "      <td>0.551704</td>\n",
       "      <td>0.279289</td>\n",
       "      <td>0.044601</td>\n",
       "      <td>0.351866</td>\n",
       "      <td>0.510740</td>\n",
       "      <td>0.812123</td>\n",
       "      <td>1.0</td>\n",
       "    </tr>\n",
       "    <tr>\n",
       "      <th>online</th>\n",
       "      <td>178.0</td>\n",
       "      <td>0.662350</td>\n",
       "      <td>0.224697</td>\n",
       "      <td>0.000000</td>\n",
       "      <td>0.487168</td>\n",
       "      <td>0.677409</td>\n",
       "      <td>0.847910</td>\n",
       "      <td>1.0</td>\n",
       "    </tr>\n",
       "  </tbody>\n",
       "</table>\n",
       "</div>"
      ],
      "text/plain": [
       "            count      mean       std       min       25%       50%       75%  \\\n",
       "quest_type                                                                      \n",
       "book        167.0  0.551704  0.279289  0.044601  0.351866  0.510740  0.812123   \n",
       "online      178.0  0.662350  0.224697  0.000000  0.487168  0.677409  0.847910   \n",
       "\n",
       "            max  \n",
       "quest_type       \n",
       "book        1.0  \n",
       "online      1.0  "
      ]
     },
     "execution_count": 66,
     "metadata": {},
     "output_type": "execute_result"
    }
   ],
   "source": [
    "full_quests_statistics.groupby('quest_type')['proportion_of_real_edges'].describe()"
   ]
  },
  {
   "cell_type": "code",
   "execution_count": null,
   "metadata": {},
   "outputs": [],
   "source": []
  }
 ],
 "metadata": {
  "kernelspec": {
   "display_name": "Python 3",
   "language": "python",
   "name": "python3"
  },
  "language_info": {
   "codemirror_mode": {
    "name": "ipython",
    "version": 3
   },
   "file_extension": ".py",
   "mimetype": "text/x-python",
   "name": "python",
   "nbconvert_exporter": "python",
   "pygments_lexer": "ipython3",
   "version": "3.8.3"
  }
 },
 "nbformat": 4,
 "nbformat_minor": 4
}
