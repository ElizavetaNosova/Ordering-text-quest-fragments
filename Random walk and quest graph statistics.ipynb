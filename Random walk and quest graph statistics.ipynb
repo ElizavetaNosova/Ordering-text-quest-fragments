{
 "cells": [
  {
   "cell_type": "code",
   "execution_count": 1,
   "metadata": {},
   "outputs": [],
   "source": [
    "import networkx as nx\n",
    "from networkx.readwrite import json_graph\n",
    "import json\n",
    "import os\n",
    "from tqdm import tqdm\n",
    "import time\n",
    "import random\n",
    "import statistics\n",
    "import pandas as pd\n",
    "from nltk.tokenize import wordpunct_tokenize\n",
    "from transformers import BertTokenizer\n",
    "from collections import Counter\n",
    "import re"
   ]
  },
  {
   "cell_type": "code",
   "execution_count": 2,
   "metadata": {},
   "outputs": [],
   "source": [
    "JSON_DIRECTORY =  'D:\\Диплом_текстовые_квесты\\Data\\graphs\\online_games_questbook_graphs_json'\n",
    "BOOKS_JSON_DIRECTORY = 'D:\\Диплом_текстовые_квесты\\Data\\questbook_graphs — копия'"
   ]
  },
  {
   "cell_type": "code",
   "execution_count": 60,
   "metadata": {},
   "outputs": [],
   "source": [
    "num_starts = []\n",
    "for json_file in os.listdir(JSON_DIRECTORY):\n",
    "    file_path = os.path.join(JSON_DIRECTORY, json_file)\n",
    "    G = json_graph.node_link_graph(json.load(open(file_path, encoding='utf-8')))\n",
    "    nodes = G.nodes()\n",
    "    starts = [node for node in nodes if G.in_degree(node) == 0]\n",
    "    real_starts = [nodes[start]['fragment_text'] for start in starts if nodes[start]['fragment_text']]\n",
    "    num_starts.append(len(real_starts))"
   ]
  },
  {
   "cell_type": "code",
   "execution_count": 92,
   "metadata": {},
   "outputs": [
    {
     "data": {
      "text/plain": [
       "[2,\n",
       " 1,\n",
       " 1,\n",
       " 1,\n",
       " 1,\n",
       " 1,\n",
       " 1,\n",
       " 2,\n",
       " 0,\n",
       " 0,\n",
       " 1,\n",
       " 1,\n",
       " 1,\n",
       " 1,\n",
       " 2,\n",
       " 1,\n",
       " 2,\n",
       " 3,\n",
       " 1,\n",
       " 4,\n",
       " 0,\n",
       " 1,\n",
       " 1,\n",
       " 1,\n",
       " 1,\n",
       " 1,\n",
       " 2,\n",
       " 1,\n",
       " 2,\n",
       " 3,\n",
       " 0,\n",
       " 1,\n",
       " 1,\n",
       " 1,\n",
       " 1,\n",
       " 0,\n",
       " 1,\n",
       " 1,\n",
       " 1,\n",
       " 1,\n",
       " 1,\n",
       " 7,\n",
       " 1,\n",
       " 1,\n",
       " 1,\n",
       " 3,\n",
       " 0,\n",
       " 1,\n",
       " 1,\n",
       " 1,\n",
       " 1,\n",
       " 1,\n",
       " 2,\n",
       " 1,\n",
       " 1,\n",
       " 0,\n",
       " 1,\n",
       " 1,\n",
       " 0,\n",
       " 1,\n",
       " 1,\n",
       " 1,\n",
       " 1,\n",
       " 1,\n",
       " 1,\n",
       " 1,\n",
       " 1,\n",
       " 1,\n",
       " 1,\n",
       " 1,\n",
       " 1,\n",
       " 1,\n",
       " 1,\n",
       " 1,\n",
       " 1,\n",
       " 1,\n",
       " 1,\n",
       " 1,\n",
       " 1,\n",
       " 1,\n",
       " 1,\n",
       " 1,\n",
       " 9,\n",
       " 1,\n",
       " 1,\n",
       " 1,\n",
       " 1,\n",
       " 1,\n",
       " 2,\n",
       " 1,\n",
       " 1,\n",
       " 1,\n",
       " 1,\n",
       " 1,\n",
       " 0,\n",
       " 3,\n",
       " 1,\n",
       " 1,\n",
       " 2,\n",
       " 1,\n",
       " 0,\n",
       " 1,\n",
       " 1,\n",
       " 1,\n",
       " 11,\n",
       " 1,\n",
       " 0,\n",
       " 1,\n",
       " 1,\n",
       " 1,\n",
       " 1,\n",
       " 1,\n",
       " 1,\n",
       " 1,\n",
       " 1,\n",
       " 8,\n",
       " 1,\n",
       " 1,\n",
       " 0,\n",
       " 1,\n",
       " 1,\n",
       " 1,\n",
       " 1,\n",
       " 1,\n",
       " 1,\n",
       " 1,\n",
       " 1,\n",
       " 1,\n",
       " 1,\n",
       " 2,\n",
       " 1,\n",
       " 1,\n",
       " 1,\n",
       " 2,\n",
       " 0,\n",
       " 1,\n",
       " 1,\n",
       " 1,\n",
       " 1,\n",
       " 1,\n",
       " 1,\n",
       " 1,\n",
       " 2,\n",
       " 1,\n",
       " 1,\n",
       " 1,\n",
       " 1,\n",
       " 1,\n",
       " 1,\n",
       " 1,\n",
       " 1,\n",
       " 1,\n",
       " 0,\n",
       " 1,\n",
       " 1,\n",
       " 1,\n",
       " 1,\n",
       " 0,\n",
       " 0,\n",
       " 1,\n",
       " 1,\n",
       " 1,\n",
       " 1,\n",
       " 0,\n",
       " 1,\n",
       " 1,\n",
       " 12,\n",
       " 1,\n",
       " 1,\n",
       " 1,\n",
       " 1,\n",
       " 1,\n",
       " 1,\n",
       " 1,\n",
       " 1,\n",
       " 1,\n",
       " 1,\n",
       " 1,\n",
       " 1,\n",
       " 1]"
      ]
     },
     "execution_count": 92,
     "metadata": {},
     "output_type": "execute_result"
    }
   ],
   "source": [
    "#0 starts mean, that there are edges, which connect the end of the quest and its beginning. \n",
    "#>1 starts mean, that some edges were not detected during parsing.\n",
    "#Most of the quests seem to be parsed in a proper way\n",
    "num_starts"
   ]
  },
  {
   "cell_type": "code",
   "execution_count": 95,
   "metadata": {},
   "outputs": [
    {
     "data": {
      "text/plain": [
       "180"
      ]
     },
     "execution_count": 95,
     "metadata": {},
     "output_type": "execute_result"
    }
   ],
   "source": [
    "len(num_starts)"
   ]
  },
  {
   "cell_type": "code",
   "execution_count": 93,
   "metadata": {},
   "outputs": [
    {
     "data": {
      "text/plain": [
       "141"
      ]
     },
     "execution_count": 93,
     "metadata": {},
     "output_type": "execute_result"
    }
   ],
   "source": [
    "len([num_quest_starts for num_quest_starts in num_starts if num_quest_starts == 1])"
   ]
  },
  {
   "cell_type": "code",
   "execution_count": 3,
   "metadata": {},
   "outputs": [],
   "source": [
    "def random_walk_paths(G, num_paths=75, time_limit=0, min_path_len=4):\n",
    "    nodes = G.nodes()\n",
    "    edges = G.edges()\n",
    "\n",
    "    \n",
    "    found_paths = []\n",
    "    found_paths_string_representations = set()\n",
    "    \n",
    "    from_node2to_node = {}\n",
    "    for from_node, to_node in edges:\n",
    "        if from_node not in from_node2to_node:\n",
    "            from_node2to_node[from_node] = []\n",
    "        if 'fragment_text' in nodes[to_node]:\n",
    "            from_node2to_node[from_node].append(to_node)\n",
    "    \n",
    "    starts = [node for node in nodes if G.in_degree(node) == 0]\n",
    "    real_starts = [start for start in starts if start in from_node2to_node]\n",
    "    \n",
    "    if real_starts:\n",
    "        start_time = time.time()\n",
    "        while len(found_paths)<num_paths and (not time_limit or time.time()-start_time<time_limit):\n",
    "            current_path = []\n",
    "            next_node_options = real_starts\n",
    "            start_next = False\n",
    "            while next_node_options:\n",
    "                not_cycled_next_node_options = [option for option in next_node_options if option not in current_path]\n",
    "                if not not_cycled_next_node_options:\n",
    "                    next_node_options = []\n",
    "                else:\n",
    "                    current_node = random.choice(not_cycled_next_node_options)\n",
    "                    current_path.append(current_node)\n",
    "                    if current_node in from_node2to_node:\n",
    "                        next_node_options = from_node2to_node[current_node]\n",
    "                    else:\n",
    "                        next_node_options = []\n",
    "                        if len(current_path) >= min_path_len:\n",
    "                            current_path_string_representation = '_'.join([str(step_id) for step_id in current_path])\n",
    "                            if current_path_string_representation not in found_paths_string_representations:\n",
    "                                found_paths_string_representations.add(current_path_string_representation)\n",
    "                                found_paths.append(current_path)\n",
    "    return found_paths"
   ]
  },
  {
   "cell_type": "code",
   "execution_count": 4,
   "metadata": {},
   "outputs": [],
   "source": [
    "RANDOM_PATHS_DIRECTORY = 'D:\\\\Диплом_текстовые_квесты\\\\random_paths'\n",
    "\n",
    "BOOKS_RANDOM_PATHS_DIRECTORY = os.path.join('D:', 'Диплом_текстовые_квесты', 'Data', 'book_paths')\n"
   ]
  },
  {
   "cell_type": "code",
   "execution_count": 7,
   "metadata": {},
   "outputs": [
    {
     "name": "stderr",
     "output_type": "stream",
     "text": [
      "100%|█████████████████████████████████████████████████████████████████████████████| 180/180 [6:12:20<00:00, 124.12s/it]\n"
     ]
    }
   ],
   "source": [
    "for graph_file in tqdm(os.listdir(JSON_DIRECTORY)):\n",
    "    graph_path = os.path.join(JSON_DIRECTORY, graph_file)\n",
    "    G = json_graph.node_link_graph(json.load(open(graph_path, encoding='utf-8')))\n",
    "    random_paths = random_walk_paths(G, num_paths=75, time_limit=5*60, min_path_len=4)\n",
    "    random_paths_file = os.path.join(RANDOM_PATHS_DIRECTORY, graph_file)\n",
    "    with open(random_paths_file, 'w', encoding='utf-8') as f:\n",
    "        json.dump(random_paths, f)"
   ]
  },
  {
   "cell_type": "code",
   "execution_count": 8,
   "metadata": {},
   "outputs": [],
   "source": [
    "NEW_JSON_DIRECTORY  = 'D:\\\\Диплом_текстовые_квесты\\\\Data\\\\new_questbook_graphs'\n",
    "NEW_RANDOM_PATHS_DIRECTORY = 'D:\\\\Диплом_текстовые_квесты\\\\Data\\\\new_questbook_paths'"
   ]
  },
  {
   "cell_type": "code",
   "execution_count": 7,
   "metadata": {},
   "outputs": [
    {
     "name": "stderr",
     "output_type": "stream",
     "text": [
      "100%|███████████████████████████████████████████████████████████████████████████████| 34/34 [1:10:01<00:00, 123.58s/it]\n"
     ]
    }
   ],
   "source": [
    "for graph_file in tqdm(os.listdir(NEW_JSON_DIRECTORY)):\n",
    "    graph_path = os.path.join(NEW_JSON_DIRECTORY, graph_file)\n",
    "    G = json_graph.node_link_graph(json.load(open(graph_path, encoding='utf-8')))\n",
    "    random_paths = random_walk_paths(G, num_paths=75, time_limit=5*60, min_path_len=4)\n",
    "    random_paths_file = os.path.join(NEW_RANDOM_PATHS_DIRECTORY, graph_file)\n",
    "    with open(random_paths_file, 'w', encoding='utf-8') as f:\n",
    "        json.dump(random_paths, f)"
   ]
  },
  {
   "cell_type": "code",
   "execution_count": 14,
   "metadata": {},
   "outputs": [
    {
     "name": "stderr",
     "output_type": "stream",
     "text": [
      "\n",
      "  0%|                                                                                          | 0/169 [00:00<?, ?it/s]\u001b[A\n",
      "  1%|▍                                                                             | 1/169 [05:00<14:00:01, 300.01s/it]\u001b[A\n",
      "  2%|█▍                                                                             | 3/169 [05:00<9:41:06, 210.04s/it]\u001b[A\n",
      "  2%|█▊                                                                            | 4/169 [10:00<10:51:50, 237.04s/it]\u001b[A\n",
      "  4%|██▊                                                                            | 6/169 [15:00<9:33:05, 210.96s/it]\u001b[A\n",
      "  4%|███▎                                                                           | 7/169 [15:00<6:38:52, 147.73s/it]\u001b[A\n",
      "  5%|███▋                                                                           | 8/169 [15:00<4:37:39, 103.47s/it]\u001b[A\n",
      "  5%|████▎                                                                           | 9/169 [15:01<3:13:15, 72.47s/it]\u001b[A\n",
      "  6%|████▌                                                                         | 10/169 [20:01<6:12:57, 140.74s/it]\u001b[A\n",
      "  7%|█████▌                                                                         | 12/169 [20:01<4:17:52, 98.55s/it]\u001b[A\n",
      "  8%|██████▍                                                                       | 14/169 [25:01<4:54:31, 114.01s/it]\u001b[A\n",
      "  9%|███████                                                                        | 15/169 [25:01<3:25:01, 79.88s/it]\u001b[A\n",
      "  9%|███████▍                                                                      | 16/169 [30:01<6:12:06, 145.93s/it]\u001b[A\n",
      " 11%|████████▎                                                                     | 18/169 [35:01<6:10:23, 147.17s/it]\u001b[A\n",
      " 11%|████████▊                                                                     | 19/169 [40:01<8:02:34, 193.03s/it]\u001b[A\n",
      " 12%|█████████▏                                                                    | 20/169 [40:02<5:35:48, 135.22s/it]\u001b[A\n",
      " 13%|██████████▎                                                                    | 22/169 [40:02<3:51:57, 94.68s/it]\u001b[A\n",
      " 14%|███████████▏                                                                   | 24/169 [40:02<2:40:13, 66.30s/it]\u001b[A\n",
      " 15%|███████████▌                                                                  | 25/169 [45:02<5:27:24, 136.42s/it]\u001b[A\n",
      " 16%|████████████▍                                                                 | 27/169 [50:02<5:32:31, 140.51s/it]\u001b[A\n",
      " 17%|████████████▉                                                                 | 28/169 [55:02<7:22:39, 188.37s/it]\u001b[A\n",
      " 17%|█████████████                                                               | 29/169 [1:00:02<8:37:41, 221.87s/it]\u001b[A\n",
      " 18%|█████████████▍                                                              | 30/169 [1:05:02<9:28:18, 245.31s/it]\u001b[A\n",
      " 18%|█████████████▊                                                             | 31/169 [1:10:02<10:02:00, 261.75s/it]\u001b[A\n",
      " 20%|██████████████▊                                                             | 33/169 [1:10:03<6:55:21, 183.25s/it]\u001b[A\n",
      " 21%|███████████████▋                                                            | 35/169 [1:10:03<4:46:31, 128.29s/it]\u001b[A\n",
      " 21%|████████████████▏                                                           | 36/169 [1:15:03<6:38:35, 179.81s/it]\u001b[A\n",
      " 22%|████████████████▋                                                           | 37/169 [1:15:03<4:37:10, 125.99s/it]\u001b[A\n",
      " 22%|█████████████████                                                           | 38/169 [1:20:03<6:29:03, 178.20s/it]\u001b[A\n",
      " 25%|██████████████████▉                                                         | 42/169 [1:20:03<4:24:02, 124.75s/it]\u001b[A\n",
      " 27%|████████████████████▌                                                        | 45/169 [1:20:03<3:00:29, 87.34s/it]\u001b[A\n",
      " 27%|████████████████████▌                                                        | 45/169 [1:20:21<3:00:29, 87.34s/it]\u001b[A\n",
      " 28%|█████████████████████▏                                                      | 47/169 [1:25:04<3:35:54, 106.18s/it]\u001b[A\n",
      " 29%|██████████████████████▎                                                      | 49/169 [1:25:04<2:28:43, 74.36s/it]\u001b[A\n",
      " 30%|██████████████████████▊                                                      | 50/169 [1:25:04<1:43:18, 52.09s/it]\u001b[A\n",
      " 30%|██████████████████████▉                                                     | 51/169 [1:30:04<4:08:43, 126.47s/it]\u001b[A\n",
      " 32%|████████████████████████▌                                                    | 54/169 [1:30:04<2:49:42, 88.54s/it]\u001b[A\n",
      " 33%|█████████████████████████▌                                                   | 56/169 [1:30:04<1:56:46, 62.01s/it]\u001b[A\n",
      " 34%|██████████████████████████▍                                                  | 58/169 [1:30:05<1:20:21, 43.44s/it]\u001b[A\n",
      " 36%|███████████████████████████▎                                                 | 60/169 [1:35:05<2:17:01, 75.42s/it]\u001b[A\n",
      " 37%|████████████████████████████▏                                                | 62/169 [1:40:05<2:54:25, 97.81s/it]\u001b[A\n",
      " 38%|█████████████████████████████▏                                               | 64/169 [1:40:05<1:59:51, 68.49s/it]\u001b[A\n",
      " 38%|█████████████████████████████▏                                              | 65/169 [1:45:05<3:59:08, 137.97s/it]\u001b[A\n",
      " 40%|██████████████████████████████▉                                              | 68/169 [1:45:05<2:42:35, 96.59s/it]\u001b[A\n",
      " 41%|███████████████████████████████▍                                            | 70/169 [1:50:05<3:05:49, 112.62s/it]\u001b[A\n",
      " 43%|████████████████████████████████▊                                            | 72/169 [1:50:05<2:07:29, 78.86s/it]\u001b[A\n",
      " 44%|█████████████████████████████████▎                                          | 74/169 [1:55:05<2:38:40, 100.22s/it]\u001b[A\n",
      " 44%|█████████████████████████████████▋                                          | 75/169 [2:00:05<4:10:55, 160.16s/it]\u001b[A\n",
      " 46%|██████████████████████████████████▋                                         | 77/169 [2:00:06<2:51:56, 112.13s/it]\u001b[A\n",
      " 46%|███████████████████████████████████▌                                         | 78/169 [2:00:06<1:59:06, 78.54s/it]\u001b[A\n",
      " 47%|████████████████████████████████████▍                                        | 80/169 [2:00:06<1:21:34, 54.99s/it]\u001b[A\n",
      " 49%|██████████████████████████████████████▎                                        | 82/169 [2:00:06<55:51, 38.52s/it]\u001b[A\n",
      " 50%|███████████████████████████████████████▎                                       | 84/169 [2:00:06<38:14, 26.99s/it]\u001b[A\n",
      " 51%|████████████████████████████████████████▏                                      | 86/169 [2:00:07<26:12, 18.94s/it]\u001b[A\n",
      " 52%|█████████████████████████████████████████▏                                     | 88/169 [2:00:07<17:55, 13.28s/it]\u001b[A\n",
      " 52%|█████████████████████████████████████████▏                                     | 88/169 [2:00:18<17:55, 13.28s/it]\u001b[A\n",
      " 53%|█████████████████████████████████████████                                    | 90/169 [2:05:07<1:11:31, 54.32s/it]\u001b[A\n",
      " 54%|█████████████████████████████████████████▉                                   | 92/169 [2:10:07<1:46:33, 83.03s/it]\u001b[A\n",
      " 55%|██████████████████████████████████████████▎                                  | 93/169 [2:10:07<1:13:40, 58.17s/it]\u001b[A\n",
      " 56%|███████████████████████████████████████████▉                                   | 94/169 [2:10:07<50:56, 40.76s/it]\u001b[A\n",
      " 57%|████████████████████████████████████████████▉                                  | 96/169 [2:10:07<34:44, 28.55s/it]\u001b[A\n",
      " 57%|███████████████████████████████████████████▌                                | 97/169 [2:15:07<2:12:02, 110.03s/it]\u001b[A\n",
      " 59%|████████████████████████████████████████████▌                               | 99/169 [2:20:08<2:22:22, 122.04s/it]\u001b[A\n",
      " 60%|█████████████████████████████████████████████▍                              | 101/169 [2:20:08<1:36:50, 85.45s/it]\u001b[A\n",
      " 60%|█████████████████████████████████████████████▎                             | 102/169 [2:25:08<2:47:18, 149.83s/it]\u001b[A\n",
      " 61%|█████████████████████████████████████████████▋                             | 103/169 [2:30:08<3:34:22, 194.89s/it]\u001b[A\n",
      " 62%|██████████████████████████████████████████████▏                            | 104/169 [2:35:08<4:05:18, 226.44s/it]\u001b[A\n",
      " 62%|██████████████████████████████████████████████▌                            | 105/169 [2:40:08<4:25:04, 248.51s/it]\u001b[A\n",
      " 63%|███████████████████████████████████████████████                            | 106/169 [2:45:08<4:37:09, 263.97s/it]\u001b[A\n",
      " 63%|███████████████████████████████████████████████▍                           | 107/169 [2:50:08<4:43:57, 274.79s/it]\u001b[A\n",
      " 64%|████████████████████████████████████████████████▎                          | 109/169 [2:50:08<3:12:22, 192.38s/it]\u001b[A\n",
      " 65%|████████████████████████████████████████████████▊                          | 110/169 [2:55:08<3:40:55, 224.68s/it]\u001b[A\n",
      " 66%|█████████████████████████████████████████████████▋                         | 112/169 [2:55:09<2:29:29, 157.36s/it]\u001b[A\n",
      " 68%|███████████████████████████████████████████████████                        | 115/169 [2:55:09<1:39:09, 110.17s/it]\u001b[A\n",
      " 69%|████████████████████████████████████████████████████▏                       | 116/169 [2:55:09<1:08:10, 77.17s/it]\u001b[A\n",
      " 70%|██████████████████████████████████████████████████████▍                       | 118/169 [2:55:09<45:56, 54.04s/it]\u001b[A\n",
      " 70%|████████████████████████████████████████████████████▊                      | 119/169 [3:00:09<1:46:32, 127.85s/it]\u001b[A\n",
      " 72%|██████████████████████████████████████████████████████▍                     | 121/169 [3:00:10<1:11:38, 89.54s/it]\u001b[A\n",
      " 73%|████████████████████████████████████████████████████████▊                     | 123/169 [3:00:10<48:04, 62.70s/it]\u001b[A\n",
      " 74%|█████████████████████████████████████████████████████████▋                    | 125/169 [3:00:10<32:12, 43.92s/it]\u001b[A\n",
      " 75%|██████████████████████████████████████████████████████████▌                   | 127/169 [3:05:10<53:02, 75.76s/it]\u001b[A\n",
      " 76%|████████████████████████████████████████████████████████▊                  | 128/169 [3:10:10<1:37:44, 143.05s/it]\u001b[A\n",
      " 76%|█████████████████████████████████████████████████████████▏                 | 129/169 [3:10:10<1:06:46, 100.17s/it]\u001b[A\n",
      " 78%|████████████████████████████████████████████████████████████▍                 | 131/169 [3:10:10<44:25, 70.15s/it]\u001b[A\n",
      " 78%|██████████████████████████████████████████████████████████▌                | 132/169 [3:15:10<1:25:47, 139.13s/it]\u001b[A\n",
      " 79%|█████████████████████████████████████████████████████████████▍                | 133/169 [3:15:11<58:27, 97.43s/it]\u001b[A\n",
      " 80%|██████████████████████████████████████████████████████████████▊               | 136/169 [3:20:11<54:01, 98.22s/it]\u001b[A\n",
      " 81%|███████████████████████████████████████████████████████████████▏              | 137/169 [3:20:14<37:12, 69.76s/it]\u001b[A\n",
      " 82%|███████████████████████████████████████████████████████████████▋              | 138/169 [3:20:14<25:15, 48.90s/it]\u001b[A\n",
      " 82%|█████████████████████████████████████████████████████████████▋             | 139/169 [3:25:14<1:02:07, 124.24s/it]\u001b[A\n",
      " 83%|██████████████████████████████████████████████████████████████▏            | 140/169 [3:30:14<1:25:32, 176.99s/it]\u001b[A\n",
      " 83%|████████████████████████████████████████████████████████████████▏            | 141/169 [3:30:15<57:50, 123.95s/it]\u001b[A\n",
      " 85%|██████████████████████████████████████████████████████████████████            | 143/169 [3:30:15<37:36, 86.78s/it]\u001b[A\n",
      " 85%|███████████████████████████████████████████████████████████████▉           | 144/169 [3:35:15<1:02:49, 150.76s/it]\u001b[A\n",
      " 86%|██████████████████████████████████████████████████████████████████▌          | 146/169 [3:35:15<40:27, 105.55s/it]\u001b[A\n",
      " 88%|████████████████████████████████████████████████████████████████████▊         | 149/169 [3:35:15<24:37, 73.90s/it]\u001b[A\n",
      " 88%|████████████████████████████████████████████████████████████████████▊         | 149/169 [3:35:32<24:37, 73.90s/it]\u001b[A\n",
      " 89%|█████████████████████████████████████████████████████████████████████▋        | 151/169 [3:40:15<29:01, 96.75s/it]\u001b[A\n",
      " 90%|██████████████████████████████████████████████████████████████████████▏       | 152/169 [3:40:15<19:11, 67.75s/it]\u001b[A\n",
      " 92%|███████████████████████████████████████████████████████████████████████▌      | 155/169 [3:40:15<11:04, 47.44s/it]\u001b[A\n",
      " 92%|████████████████████████████████████████████████████████████████████████      | 156/169 [3:40:16<07:12, 33.26s/it]\u001b[A\n",
      " 93%|███████████████████████████████████████████████████████████████████████▌     | 157/169 [3:45:16<22:39, 113.30s/it]\u001b[A\n",
      " 93%|████████████████████████████████████████████████████████████████████████▉     | 158/169 [3:45:16<14:33, 79.37s/it]\u001b[A\n",
      " 95%|█████████████████████████████████████████████████████████████████████████▊    | 160/169 [3:45:16<08:20, 55.58s/it]\u001b[A\n",
      " 96%|██████████████████████████████████████████████████████████████████████████▊   | 162/169 [3:45:16<04:32, 38.92s/it]\u001b[A\n",
      " 96%|██████████████████████████████████████████████████████████████████████████▎  | 163/169 [3:50:16<11:43, 117.26s/it]\u001b[A\n",
      " 98%|███████████████████████████████████████████████████████████████████████████▏ | 165/169 [3:55:16<08:28, 127.09s/it]\u001b[A\n",
      " 98%|████████████████████████████████████████████████████████████████████████████▌ | 166/169 [3:55:16<04:27, 89.02s/it]\u001b[A\n",
      "100%|██████████████████████████████████████████████████████████████████████████████| 169/169 [3:55:17<00:00, 83.53s/it]\u001b[A\n"
     ]
    }
   ],
   "source": [
    "for graph_file in tqdm(os.listdir(BOOKS_JSON_DIRECTORY)):\n",
    "    graph_path = os.path.join(BOOKS_JSON_DIRECTORY, graph_file)\n",
    "    G = json_graph.node_link_graph(json.load(open(graph_path, encoding='utf-8')))\n",
    "    random_paths = random_walk_paths(G, num_paths=75, time_limit=5*60, min_path_len=4)\n",
    "    random_paths_file = os.path.join(BOOKS_RANDOM_PATHS_DIRECTORY, graph_file)\n",
    "    with open(random_paths_file, 'w', encoding='utf-8') as f:\n",
    "        json.dump(random_paths, f)"
   ]
  },
  {
   "cell_type": "code",
   "execution_count": 5,
   "metadata": {},
   "outputs": [],
   "source": [
    "def graph2transitions_dict(G):\n",
    "    from_node2to_node = {}\n",
    "    nodes = G.nodes()\n",
    "    edges = G.edges()\n",
    "    for from_node, to_node in edges:\n",
    "        if from_node not in from_node2to_node:\n",
    "            from_node2to_node[from_node] = []\n",
    "        if 'fragment_text' in nodes[to_node]:\n",
    "            from_node2to_node[from_node].append(to_node)\n",
    "    return from_node2to_node\n",
    "\n"
   ]
  },
  {
   "cell_type": "code",
   "execution_count": 10,
   "metadata": {},
   "outputs": [],
   "source": [
    "def stringify_quest_path(quest_path,\n",
    "                   G, \n",
    "                   G_transitions_dict, \n",
    "                   quest_start_token='BOQ',\n",
    "                   fragment_start_token='BOF',\n",
    "                   option_start_token='BUTTON',\n",
    "                   user_input_token='INPUT',\n",
    "                   quest_end_token='EOQ',\n",
    "                   separator = '\\n',\n",
    "                   unknown_choise_probability=0.1,\n",
    "                   empty_transition_text='Далее'): \n",
    "    nodes = G.nodes()\n",
    "    edges = G.edges()\n",
    "    real_quest_path = [fragment for fragment in quest_path if 'fragment_text' in nodes[fragment] and nodes[fragment]['fragment_text']]\n",
    "    text_items = [quest_start_token]\n",
    "    for i, node_id in enumerate(real_quest_path[:-1]):\n",
    "        text_items.append(fragment_start_token)\n",
    "        text_items.append(nodes[node_id]['fragment_text'])\n",
    "        if i < len(real_quest_path)-1:\n",
    "            possible_next_nodes_ids = G_transitions_dict[node_id] if node_id in G_transitions_dict else []\n",
    "            if random.random() < unknown_choise_probability:\n",
    "                possible_next_nodes_ids = [possible_id for possible_id in possible_next_nodes_ids if possible_id != quest_path[i+1]]\n",
    "            transition_texts = []\n",
    "            for possible_next_node_id in possible_next_nodes_ids:\n",
    "                transition = (node_id, possible_next_node_id)\n",
    "                if transition in edges and 'command' in transition:\n",
    "                    transition_text = edges[transition][\"command\"]\n",
    "                    if transition_text.strip():\n",
    "                        transition_texts.append(transition_text)\n",
    "                if not transition_texts:\n",
    "                    transition_texts = [empty_transition_text]\n",
    "            for transition_text in transition_texts:\n",
    "                text_items.append(option_start_token)\n",
    "                text_items.append(transition_text)\n",
    "            if i < len(real_quest_path)-2:\n",
    "                next_node_id = real_quest_path[i+1]\n",
    "                transition = (node_id, next_node_id)\n",
    "                transition_text = ''\n",
    "                if transition in edges and 'command' in edges[transition]:\n",
    "                    transition_text= edges[(node_id, next_node_id)][\"command\"]\n",
    "                    if not transition_text:\n",
    "                        transition_text = empty_transition_text\n",
    "            text_items.append(transition_text)\n",
    "            text_items.append(user_input_token)\n",
    "            text_items.append(transition_text)\n",
    "    text_items.append(quest_end_token)\n",
    "    return separator.join(text_items)\n",
    "        "
   ]
  },
  {
   "cell_type": "code",
   "execution_count": 58,
   "metadata": {},
   "outputs": [],
   "source": [
    "RANDOM_PATHS_TEXTS_DIR = 'D:\\\\Диплом_текстовые_квесты\\\\quest_book_online_random_paths_text'"
   ]
  },
  {
   "cell_type": "code",
   "execution_count": 59,
   "metadata": {},
   "outputs": [],
   "source": [
    "import re"
   ]
  },
  {
   "cell_type": "code",
   "execution_count": null,
   "metadata": {},
   "outputs": [],
   "source": [
    "for file in tqdm(os.listdir(RANDOM_PATHS_DIRECTORY)):\n",
    "    data_path = os.path.join(RANDOM_PATHS_DIRECTORY, file)\n",
    "    with open(data_path, encoding='utf-8') as f:\n",
    "        quest_paths = json.load(f)\n",
    "    if quest_paths:\n",
    "        \n",
    "        quest_paths_dir_name = re.sub('\\.', '_', file)\n",
    "        quest_paths_dir_path = os.path.join(RANDOM_PATHS_TEXTS_DIR, quest_paths_dir_name)\n",
    "        if quest_paths_dir_name not in os.listdir(RANDOM_PATHS_TEXTS_DIR):\n",
    "            os.mkdir(quest_paths_dir_path)\n",
    "        \n",
    "        graph_path = os.path.join(JSON_DIRECTORY, file)\n",
    "        G = json_graph.node_link_graph(json.load(open(graph_path, encoding='utf-8')))\n",
    "        transition_dict = graph2transitions_dict(G)\n",
    "        \n",
    "        for i, quest_path in enumerate(quest_paths):\n",
    "            text = stringify_quest_path(quest_path, G, transition_dict)\n",
    "            if text:\n",
    "                text_file = os.path.join(quest_paths_dir_path, str(i)+'.txt')\n",
    "                with open(text_file, 'w', encoding='utf-8') as f:\n",
    "                    f.write(text)"
   ]
  },
  {
   "cell_type": "code",
   "execution_count": 21,
   "metadata": {},
   "outputs": [],
   "source": [
    "NEW_PATHS_TEXTS_DIRECTORY = 'D:\\\\Диплом_текстовые_квесты\\\\Data\\\\new_text_paths'"
   ]
  },
  {
   "cell_type": "code",
   "execution_count": 16,
   "metadata": {},
   "outputs": [],
   "source": [
    "def stringify_quest_path(quest_path,\n",
    "                   G, \n",
    "                   G_transitions_dict, \n",
    "                   quest_start_token='BOQ',\n",
    "                   fragment_start_token='BOF',\n",
    "                   option_start_token='BUTTON',\n",
    "                   user_input_token='INPUT',\n",
    "                   quest_end_token='EOQ',\n",
    "                   separator = '\\n',\n",
    "                   unknown_choise_probability=0.1,\n",
    "                   empty_transition_text='Далее'): \n",
    "    nodes = G.nodes()\n",
    "    edges = G.edges()\n",
    "    real_quest_path = [fragment for fragment in quest_path if 'fragment_text' in nodes[fragment] and nodes[fragment]['fragment_text']]\n",
    "    text_items = [quest_start_token]\n",
    "    for i, node_id in enumerate(real_quest_path):\n",
    "        text_items.append(fragment_start_token)\n",
    "        text_items.append(nodes[node_id]['fragment_text'])\n",
    "        if i < len(quest_path)-1:\n",
    "            possible_next_nodes_ids = G_transitions_dict[node_id] if node_id in G_transitions_dict else []\n",
    "            if random.random() < unknown_choise_probability:\n",
    "                possible_next_nodes_ids = [possible_id for possible_id in possible_next_nodes_ids if possible_id != quest_path[i+1]]\n",
    "            transition_texts = []\n",
    "            for possible_next_node_id in possible_next_nodes_ids:\n",
    "                transition = (node_id, possible_next_node_id)\n",
    "                if transition in edges and 'command' in transition:\n",
    "                    transition_text = edges[transition][\"command\"]\n",
    "                    if transition_text.strip():\n",
    "                        transition_texts.append(transition_text)\n",
    "                if not transition_texts:\n",
    "                    transition_texts = [empty_transition_text]\n",
    "            for transition_text in transition_texts:\n",
    "                text_items.append(option_start_token)\n",
    "                text_items.append(transition_text)\n",
    "            if i < len(real_quest_path)-2:\n",
    "                next_node_id = real_quest_path[i+1]\n",
    "                transition = (node_id, next_node_id)\n",
    "                transition_text = ''\n",
    "                if transition in edges and 'command' in edges[transition]:\n",
    "                    transition_text= edges[(node_id, next_node_id)][\"command\"]\n",
    "                if not transition_text:\n",
    "                    transition_text = empty_transition_text\n",
    "                text_items.append(transition_text)\n",
    "                text_items.append(user_input_token)\n",
    "                text_items.append(transition_text)\n",
    "    text_items.append(quest_end_token)\n",
    "    return separator.join(text_items)\n",
    "        "
   ]
  },
  {
   "cell_type": "code",
   "execution_count": null,
   "metadata": {},
   "outputs": [],
   "source": [
    "for file in tqdm(os.listdir(NEW_RANDOM_PATHS_DIRECTORY)):\n",
    "    data_path = os.path.join(NEW_RANDOM_PATHS_DIRECTORY, file)\n",
    "    try:\n",
    "        with open(data_path, encoding='utf-8') as f:\n",
    "            quest_paths = json.load(f)\n",
    "            print(len(quest_paths))\n",
    "    except Exception as e:\n",
    "        print(e)"
   ]
  },
  {
   "cell_type": "code",
   "execution_count": null,
   "metadata": {},
   "outputs": [],
   "source": [
    "for file in tqdm(os.listdir(NEW_RANDOM_PATHS_DIRECTORY)):\n",
    "    data_path = os.path.join(NEW_RANDOM_PATHS_DIRECTORY, file)\n",
    "    try:\n",
    "        with open(data_path, encoding='utf-8') as f:\n",
    "            quest_paths = json.load(f)\n",
    "    except Exception as e:\n",
    "        print(e)\n",
    "        quest_paths = []\n",
    "    if quest_paths:\n",
    "        \n",
    "        quest_paths_dir_name = re.sub('\\.', '_', file)\n",
    "        quest_paths_dir_path = os.path.join(NEW_RANDOM_PATHS_DIRECTORY, quest_paths_dir_name)\n",
    "        print(quest_paths_dir_path)\n",
    "        if quest_paths_dir_name not in os.listdir(NEW_PATHS_TEXTS_DIRECTORY):\n",
    "            os.mkdir(quest_paths_dir_path)\n",
    "        \n",
    "        graph_path = os.path.join(NEW_JSON_DIRECTORY, file)\n",
    "        G = json_graph.node_link_graph(json.load(open(graph_path, encoding='utf-8')))\n",
    "        transition_dict = graph2transitions_dict(G)\n",
    "        \n",
    "        for i, quest_path in enumerate(quest_paths):\n",
    "            text = stringify_quest_path(quest_path, G, transition_dict)\n",
    "            if text:\n",
    "                text_file = os.path.join(quest_paths_dir_path, str(i)+'.txt')\n",
    "                with open(text_file, 'w', encoding='utf-8') as f:\n",
    "                    f.write(text)"
   ]
  },
  {
   "cell_type": "code",
   "execution_count": 12,
   "metadata": {},
   "outputs": [],
   "source": [
    "def collect_random_paths_len(random_paths_directory):\n",
    "    mean_path_lengths = []\n",
    "    for graph_paths_file in os.listdir(random_paths_directory):\n",
    "        current_graph_paths = json.load(open(os.path.join(random_paths_directory, graph_paths_file), encoding='utf-8'))\n",
    "        if current_graph_paths:\n",
    "            mean_path_lengths.append(statistics.mean([len(path) for path in current_graph_paths]))\n",
    "    return pd.Series(mean_path_lengths)\n",
    "    "
   ]
  },
  {
   "cell_type": "code",
   "execution_count": 16,
   "metadata": {},
   "outputs": [],
   "source": [
    "online_quests_mean_lengths = collect_random_paths_len(RANDOM_PATHS_DIRECTORY)"
   ]
  },
  {
   "cell_type": "code",
   "execution_count": 17,
   "metadata": {},
   "outputs": [],
   "source": [
    "book_quests_mean_lengths = collect_random_paths_len(BOOKS_RANDOM_PATHS_DIRECTORY)"
   ]
  },
  {
   "cell_type": "code",
   "execution_count": 19,
   "metadata": {},
   "outputs": [
    {
     "data": {
      "text/plain": [
       "count    163.000000\n",
       "mean      21.595032\n",
       "std       25.807107\n",
       "min        4.500000\n",
       "25%       10.450000\n",
       "50%       15.106667\n",
       "75%       22.706316\n",
       "max      213.893333\n",
       "dtype: float64"
      ]
     },
     "execution_count": 19,
     "metadata": {},
     "output_type": "execute_result"
    }
   ],
   "source": [
    "online_quests_mean_lengths.describe()"
   ]
  },
  {
   "cell_type": "code",
   "execution_count": 20,
   "metadata": {},
   "outputs": [
    {
     "data": {
      "text/plain": [
       "count    143.000000\n",
       "mean      13.977010\n",
       "std       10.141911\n",
       "min        4.000000\n",
       "25%        7.900000\n",
       "50%       11.906667\n",
       "75%       15.846667\n",
       "max       66.893333\n",
       "dtype: float64"
      ]
     },
     "execution_count": 20,
     "metadata": {},
     "output_type": "execute_result"
    }
   ],
   "source": [
    "book_quests_mean_lengths.describe()"
   ]
  },
  {
   "cell_type": "code",
   "execution_count": 26,
   "metadata": {},
   "outputs": [],
   "source": [
    "joined_mean_paths_lengths = pd.DataFrame(columns = ['mean_length', 'quest_type'])\n",
    "for online_quest_mean_length in online_quests_mean_lengths:\n",
    "    joined_mean_paths_lengths.loc[len(joined_mean_paths_lengths)] = [online_quest_mean_length, 'online']\n",
    "for book_quest_mean_length in book_quests_mean_lengths:\n",
    "    joined_mean_paths_lengths.loc[len(joined_mean_paths_lengths)] = [book_quest_mean_length, 'book']"
   ]
  },
  {
   "cell_type": "code",
   "execution_count": 30,
   "metadata": {
    "scrolled": false
   },
   "outputs": [
    {
     "name": "stderr",
     "output_type": "stream",
     "text": [
      "C:\\Users\\user\\anaconda3\\lib\\site-packages\\numpy\\core\\_asarray.py:83: VisibleDeprecationWarning: Creating an ndarray from ragged nested sequences (which is a list-or-tuple of lists-or-tuples-or ndarrays with different lengths or shapes) is deprecated. If you meant to do this, you must specify 'dtype=object' when creating the ndarray\n",
      "  return array(a, dtype, copy=False, order=order)\n"
     ]
    },
    {
     "data": {
      "text/plain": [
       "<matplotlib.axes._subplots.AxesSubplot at 0x225e0289970>"
      ]
     },
     "execution_count": 30,
     "metadata": {},
     "output_type": "execute_result"
    },
    {
     "data": {
      "image/png": "[encoded data removed]",
      "text/plain": [
       "<Figure size 432x288 with 1 Axes>"
      ]
     },
     "metadata": {
      "needs_background": "light"
     },
     "output_type": "display_data"
    }
   ],
   "source": [
    "joined_mean_paths_lengths.boxplot(column='mean_length', by='quest_type')"
   ]
  },
  {
   "cell_type": "code",
   "execution_count": 110,
   "metadata": {},
   "outputs": [],
   "source": [
    "def get_number_of_nodes(graph_path):\n",
    "    G = json_graph.node_link_graph(json.load(open(graph_path, encoding='utf-8')))\n",
    "    nodes = G.nodes()\n",
    "    return len([node for node in nodes if 'fragment_text' in nodes[node] and isinstance(nodes[node]['fragment_text'], str) and nodes[node]['fragment_text'].strip()])"
   ]
  },
  {
   "cell_type": "code",
   "execution_count": 111,
   "metadata": {},
   "outputs": [],
   "source": [
    "num_nodes = pd.DataFrame(columns=['num_nodes', 'quest_type'])\n",
    "for online_quest_file in os.listdir(JSON_DIRECTORY):\n",
    "    num_nodes.loc[len(num_nodes)] = [get_number_of_nodes(os.path.join(JSON_DIRECTORY, online_quest_file)), 'online']\n",
    "for book_quest_file in os.listdir(BOOKS_JSON_DIRECTORY):\n",
    "    num_nodes.loc[len(num_nodes)] = [get_number_of_nodes(os.path.join(BOOKS_JSON_DIRECTORY, book_quest_file)), 'book']"
   ]
  },
  {
   "cell_type": "code",
   "execution_count": 112,
   "metadata": {},
   "outputs": [],
   "source": [
    "num_nodes['num_nodes'] = pd.to_numeric(num_nodes['num_nodes'])"
   ]
  },
  {
   "cell_type": "code",
   "execution_count": 113,
   "metadata": {},
   "outputs": [
    {
     "name": "stderr",
     "output_type": "stream",
     "text": [
      "C:\\Users\\user\\anaconda3\\lib\\site-packages\\numpy\\core\\_asarray.py:83: VisibleDeprecationWarning: Creating an ndarray from ragged nested sequences (which is a list-or-tuple of lists-or-tuples-or ndarrays with different lengths or shapes) is deprecated. If you meant to do this, you must specify 'dtype=object' when creating the ndarray\n",
      "  return array(a, dtype, copy=False, order=order)\n"
     ]
    },
    {
     "data": {
      "text/plain": [
       "<matplotlib.axes._subplots.AxesSubplot at 0x225e070a520>"
      ]
     },
     "execution_count": 113,
     "metadata": {},
     "output_type": "execute_result"
    },
    {
     "data": {
      "image/png": "[encoded data removed]",
      "text/plain": [
       "<Figure size 432x288 with 1 Axes>"
      ]
     },
     "metadata": {
      "needs_background": "light"
     },
     "output_type": "display_data"
    }
   ],
   "source": [
    "num_nodes.boxplot(column='num_nodes', by='quest_type')"
   ]
  },
  {
   "cell_type": "code",
   "execution_count": 49,
   "metadata": {},
   "outputs": [
    {
     "data": {
      "text/plain": [
       "count     180.000000\n",
       "mean      106.627778\n",
       "std       148.447723\n",
       "min         4.000000\n",
       "25%        35.750000\n",
       "50%        60.000000\n",
       "75%       133.250000\n",
       "max      1427.000000\n",
       "Name: num_nodes, dtype: float64"
      ]
     },
     "execution_count": 49,
     "metadata": {},
     "output_type": "execute_result"
    }
   ],
   "source": [
    "num_nodes[num_nodes['quest_type']=='online']['num_nodes'].describe()"
   ]
  },
  {
   "cell_type": "code",
   "execution_count": 68,
   "metadata": {},
   "outputs": [
    {
     "data": {
      "text/plain": [
       "count     169.000000\n",
       "mean      317.946746\n",
       "std       232.522509\n",
       "min        10.000000\n",
       "25%       115.000000\n",
       "50%       302.000000\n",
       "75%       401.000000\n",
       "max      1228.000000\n",
       "Name: num_nodes, dtype: float64"
      ]
     },
     "execution_count": 68,
     "metadata": {},
     "output_type": "execute_result"
    }
   ],
   "source": [
    "num_nodes[num_nodes['quest_type']=='book']['num_nodes'].describe()"
   ]
  },
  {
   "cell_type": "code",
   "execution_count": 8,
   "metadata": {},
   "outputs": [],
   "source": [
    "def get_valid_nodes(nodes):\n",
    "    return [node for node in nodes if 'fragment_text' in nodes[node] and isinstance(nodes[node]['fragment_text'], str) and nodes[node]['fragment_text'].strip()]"
   ]
  },
  {
   "cell_type": "code",
   "execution_count": 14,
   "metadata": {},
   "outputs": [],
   "source": [
    "def calc_mean_text_len_nltk(graph_path):\n",
    "    G = json_graph.node_link_graph(json.load(open(graph_path, encoding='utf-8')))\n",
    "    fragment_lens = []\n",
    "    nodes = G.nodes()\n",
    "    for node in nodes:\n",
    "        if 'fragment_text' in nodes[node] and isinstance(nodes[node]['fragment_text'], str) and nodes[node]['fragment_text'].strip():\n",
    "            num_tokens_exc_punct = len([token for token in wordpunct_tokenize(nodes[node]['fragment_text']) if re.search('[а-яА-Яa-zA-Z]', token)])\n",
    "            fragment_lens.append(num_tokens_exc_punct)\n",
    "    return statistics.mean(fragment_lens)"
   ]
  },
  {
   "cell_type": "code",
   "execution_count": 40,
   "metadata": {},
   "outputs": [],
   "source": [
    "num_tokens_nltk = pd.DataFrame(columns=['num_tokens', 'quest_type'])\n",
    "for online_quest_file in os.listdir(JSON_DIRECTORY):\n",
    "    num_tokens_nltk.loc[len(num_tokens_nltk)] = [calc_mean_text_len_nltk(os.path.join(JSON_DIRECTORY, online_quest_file)), 'online']\n",
    "for book_quest_file in os.listdir(BOOKS_JSON_DIRECTORY):\n",
    "    num_tokens_nltk.loc[len(num_tokens_nltk)] = [calc_mean_text_len_nltk(os.path.join(BOOKS_JSON_DIRECTORY, book_quest_file)), 'book']"
   ]
  },
  {
   "cell_type": "code",
   "execution_count": 17,
   "metadata": {},
   "outputs": [
    {
     "data": {
      "text/plain": [
       "count    180.000000\n",
       "mean      91.971665\n",
       "std       78.680742\n",
       "min       15.887850\n",
       "25%       45.387261\n",
       "50%       76.193237\n",
       "75%      122.944343\n",
       "max      599.185185\n",
       "Name: num_tokens, dtype: float64"
      ]
     },
     "execution_count": 17,
     "metadata": {},
     "output_type": "execute_result"
    }
   ],
   "source": [
    "num_tokens_nltk[num_tokens_nltk['quest_type']=='online']['num_tokens'].describe()"
   ]
  },
  {
   "cell_type": "code",
   "execution_count": 41,
   "metadata": {},
   "outputs": [
    {
     "data": {
      "text/plain": [
       "count     165.000000\n",
       "mean       99.105517\n",
       "std       123.640856\n",
       "min        15.634146\n",
       "25%        51.392857\n",
       "50%        68.548673\n",
       "75%       100.256617\n",
       "max      1353.300000\n",
       "Name: num_tokens, dtype: float64"
      ]
     },
     "execution_count": 41,
     "metadata": {},
     "output_type": "execute_result"
    }
   ],
   "source": [
    "outlier_threshold = 1500.0\n",
    "book_tokens_nltk = num_tokens_nltk[num_tokens_nltk['quest_type']=='book']\n",
    "book_tokens_nltk[book_tokens_nltk['num_tokens']<outlier_threshold]['num_tokens'].describe()"
   ]
  },
  {
   "cell_type": "code",
   "execution_count": 19,
   "metadata": {},
   "outputs": [
    {
     "name": "stderr",
     "output_type": "stream",
     "text": [
      "C:\\Users\\user\\anaconda3\\lib\\site-packages\\numpy\\core\\_asarray.py:83: VisibleDeprecationWarning: Creating an ndarray from ragged nested sequences (which is a list-or-tuple of lists-or-tuples-or ndarrays with different lengths or shapes) is deprecated. If you meant to do this, you must specify 'dtype=object' when creating the ndarray\n",
      "  return array(a, dtype, copy=False, order=order)\n"
     ]
    },
    {
     "data": {
      "text/plain": [
       "<matplotlib.axes._subplots.AxesSubplot at 0x274c4b10850>"
      ]
     },
     "execution_count": 19,
     "metadata": {},
     "output_type": "execute_result"
    },
    {
     "data": {
      "image/png": "[encoded data removed]",
      "text/plain": [
       "<Figure size 432x288 with 1 Axes>"
      ]
     },
     "metadata": {
      "needs_background": "light"
     },
     "output_type": "display_data"
    }
   ],
   "source": [
    "num_tokens_nltk.boxplot(column='num_tokens', by='quest_type')"
   ]
  },
  {
   "cell_type": "code",
   "execution_count": 3,
   "metadata": {},
   "outputs": [],
   "source": [
    "bert_tokenizer = BertTokenizer.from_pretrained('DeepPavlov/rubert-base-cased-sentence')"
   ]
  },
  {
   "cell_type": "code",
   "execution_count": 12,
   "metadata": {},
   "outputs": [],
   "source": [
    "def calc_mean_text_len_bert(graph_path):\n",
    "    G = json_graph.node_link_graph(json.load(open(graph_path, encoding='utf-8')))\n",
    "    nodes = G.nodes()\n",
    "    valid_nodes = get_valid_nodes(nodes)\n",
    "    return statistics.mean([len(bert_tokenizer.encode(nodes[node]['fragment_text'])) for node in valid_nodes])"
   ]
  },
  {
   "cell_type": "code",
   "execution_count": null,
   "metadata": {},
   "outputs": [],
   "source": []
  },
  {
   "cell_type": "code",
   "execution_count": 17,
   "metadata": {},
   "outputs": [],
   "source": [
    "num_tokens_bert = pd.DataFrame(columns=['num_tokens', 'quest_type'])\n",
    "for online_quest_file in os.listdir(JSON_DIRECTORY):\n",
    "    num_tokens_bert.loc[len(num_tokens_bert)] = [calc_mean_text_len_bert(os.path.join(JSON_DIRECTORY, online_quest_file)), 'online']\n",
    "for book_quest_file in os.listdir(BOOKS_JSON_DIRECTORY):\n",
    "    num_tokens_bert.loc[len(num_tokens_bert)] = [calc_mean_text_len_bert(os.path.join(BOOKS_JSON_DIRECTORY, book_quest_file)), 'book']"
   ]
  },
  {
   "cell_type": "code",
   "execution_count": 18,
   "metadata": {},
   "outputs": [
    {
     "name": "stderr",
     "output_type": "stream",
     "text": [
      "C:\\Users\\user\\anaconda3\\lib\\site-packages\\numpy\\core\\_asarray.py:83: VisibleDeprecationWarning: Creating an ndarray from ragged nested sequences (which is a list-or-tuple of lists-or-tuples-or ndarrays with different lengths or shapes) is deprecated. If you meant to do this, you must specify 'dtype=object' when creating the ndarray\n",
      "  return array(a, dtype, copy=False, order=order)\n"
     ]
    },
    {
     "data": {
      "text/plain": [
       "<matplotlib.axes._subplots.AxesSubplot at 0x1a8b3cddb50>"
      ]
     },
     "execution_count": 18,
     "metadata": {},
     "output_type": "execute_result"
    },
    {
     "data": {
      "image/png": "[encoded data removed]",
      "text/plain": [
       "<Figure size 432x288 with 1 Axes>"
      ]
     },
     "metadata": {
      "needs_background": "light"
     },
     "output_type": "display_data"
    }
   ],
   "source": [
    "num_tokens_bert.boxplot(column='num_tokens', by='quest_type')"
   ]
  },
  {
   "cell_type": "code",
   "execution_count": 19,
   "metadata": {},
   "outputs": [
    {
     "data": {
      "text/plain": [
       "count    180.000000\n",
       "mean     145.247366\n",
       "std      125.687591\n",
       "min       25.841121\n",
       "25%       68.410842\n",
       "50%      113.942485\n",
       "75%      190.264117\n",
       "max      951.037037\n",
       "Name: num_tokens, dtype: float64"
      ]
     },
     "execution_count": 19,
     "metadata": {},
     "output_type": "execute_result"
    }
   ],
   "source": [
    "num_tokens_bert[num_tokens_bert['quest_type']=='online']['num_tokens'].describe()"
   ]
  },
  {
   "cell_type": "code",
   "execution_count": 21,
   "metadata": {},
   "outputs": [
    {
     "data": {
      "text/plain": [
       "count    164.000000\n",
       "mean     147.656107\n",
       "std      121.146959\n",
       "min       26.111498\n",
       "25%       85.372720\n",
       "50%      111.811136\n",
       "75%      161.204964\n",
       "max      814.516129\n",
       "Name: num_tokens, dtype: float64"
      ]
     },
     "execution_count": 21,
     "metadata": {},
     "output_type": "execute_result"
    }
   ],
   "source": [
    "outlier_threshold = 2000\n",
    "book_tokens_bert = num_tokens_bert[num_tokens_bert['quest_type']=='book']\n",
    "book_tokens_bert[book_tokens_bert['num_tokens']<outlier_threshold]['num_tokens'].describe()"
   ]
  },
  {
   "cell_type": "code",
   "execution_count": null,
   "metadata": {},
   "outputs": [],
   "source": [
    "num_tokens_bert[num_tokens_bert['quest_type']=='book']['num_tokens'].describe()"
   ]
  },
  {
   "cell_type": "code",
   "execution_count": 4,
   "metadata": {},
   "outputs": [],
   "source": [
    "def proportion_of_fragments_longer_than_limits(graph_path, limits:list):\n",
    "    G = json_graph.node_link_graph(json.load(open(graph_path, encoding='utf-8')))\n",
    "    nodes = G.nodes()\n",
    "    valid_nodes = get_valid_nodes(nodes)\n",
    "    fragment_lens = [len(bert_tokenizer.encode(nodes[node]['fragment_text'])) for node in valid_nodes] \n",
    "    if not fragment_lens:\n",
    "        return [0 for limit in limits]\n",
    "    else:\n",
    "        proportions = []\n",
    "        for limit in limits:\n",
    "            num_larger_fragments = sum([fragment_len > limit for fragment_len in fragment_lens])\n",
    "            proportions.append(num_larger_fragments/len(fragment_lens))\n",
    "        return proportions"
   ]
  },
  {
   "cell_type": "code",
   "execution_count": 9,
   "metadata": {},
   "outputs": [],
   "source": [
    "long_fragments_proportion = pd.DataFrame(columns=['512 tokens', '256 tokens', 'quest_type'])\n",
    "limits = [512, 256]\n",
    "for online_quest_file in os.listdir(JSON_DIRECTORY):\n",
    "    long_fragments_proportion.loc[len(long_fragments_proportion)] = [*proportion_of_fragments_longer_than_limits(os.path.join(JSON_DIRECTORY, online_quest_file), limits), 'online']\n",
    "for book_quest_file in os.listdir(BOOKS_JSON_DIRECTORY):\n",
    "    long_fragments_proportion.loc[len(long_fragments_proportion)] = [*proportion_of_fragments_longer_than_limits(os.path.join(BOOKS_JSON_DIRECTORY, book_quest_file), limits), 'book']"
   ]
  },
  {
   "cell_type": "code",
   "execution_count": 12,
   "metadata": {},
   "outputs": [
    {
     "data": {
      "text/html": [
       "<div>\n",
       "<style scoped>\n",
       "    .dataframe tbody tr th:only-of-type {\n",
       "        vertical-align: middle;\n",
       "    }\n",
       "\n",
       "    .dataframe tbody tr th {\n",
       "        vertical-align: top;\n",
       "    }\n",
       "\n",
       "    .dataframe thead tr th {\n",
       "        text-align: left;\n",
       "    }\n",
       "\n",
       "    .dataframe thead tr:last-of-type th {\n",
       "        text-align: right;\n",
       "    }\n",
       "</style>\n",
       "<table border=\"1\" class=\"dataframe\">\n",
       "  <thead>\n",
       "    <tr>\n",
       "      <th></th>\n",
       "      <th colspan=\"8\" halign=\"left\">512 tokens</th>\n",
       "      <th colspan=\"8\" halign=\"left\">256 tokens</th>\n",
       "    </tr>\n",
       "    <tr>\n",
       "      <th></th>\n",
       "      <th>count</th>\n",
       "      <th>mean</th>\n",
       "      <th>std</th>\n",
       "      <th>min</th>\n",
       "      <th>25%</th>\n",
       "      <th>50%</th>\n",
       "      <th>75%</th>\n",
       "      <th>max</th>\n",
       "      <th>count</th>\n",
       "      <th>mean</th>\n",
       "      <th>std</th>\n",
       "      <th>min</th>\n",
       "      <th>25%</th>\n",
       "      <th>50%</th>\n",
       "      <th>75%</th>\n",
       "      <th>max</th>\n",
       "    </tr>\n",
       "    <tr>\n",
       "      <th>quest_type</th>\n",
       "      <th></th>\n",
       "      <th></th>\n",
       "      <th></th>\n",
       "      <th></th>\n",
       "      <th></th>\n",
       "      <th></th>\n",
       "      <th></th>\n",
       "      <th></th>\n",
       "      <th></th>\n",
       "      <th></th>\n",
       "      <th></th>\n",
       "      <th></th>\n",
       "      <th></th>\n",
       "      <th></th>\n",
       "      <th></th>\n",
       "      <th></th>\n",
       "    </tr>\n",
       "  </thead>\n",
       "  <tbody>\n",
       "    <tr>\n",
       "      <th>book</th>\n",
       "      <td>169.0</td>\n",
       "      <td>0.058892</td>\n",
       "      <td>0.179869</td>\n",
       "      <td>0.0</td>\n",
       "      <td>0.0</td>\n",
       "      <td>0.001359</td>\n",
       "      <td>0.017199</td>\n",
       "      <td>1.00</td>\n",
       "      <td>169.0</td>\n",
       "      <td>0.156451</td>\n",
       "      <td>0.237320</td>\n",
       "      <td>0.0</td>\n",
       "      <td>0.017500</td>\n",
       "      <td>0.059524</td>\n",
       "      <td>0.164062</td>\n",
       "      <td>1.000000</td>\n",
       "    </tr>\n",
       "    <tr>\n",
       "      <th>online</th>\n",
       "      <td>180.0</td>\n",
       "      <td>0.030661</td>\n",
       "      <td>0.103998</td>\n",
       "      <td>0.0</td>\n",
       "      <td>0.0</td>\n",
       "      <td>0.000000</td>\n",
       "      <td>0.013180</td>\n",
       "      <td>0.75</td>\n",
       "      <td>180.0</td>\n",
       "      <td>0.142669</td>\n",
       "      <td>0.189257</td>\n",
       "      <td>0.0</td>\n",
       "      <td>0.008223</td>\n",
       "      <td>0.075499</td>\n",
       "      <td>0.212818</td>\n",
       "      <td>0.962963</td>\n",
       "    </tr>\n",
       "  </tbody>\n",
       "</table>\n",
       "</div>"
      ],
      "text/plain": [
       "           512 tokens                                                          \\\n",
       "                count      mean       std  min  25%       50%       75%   max   \n",
       "quest_type                                                                      \n",
       "book            169.0  0.058892  0.179869  0.0  0.0  0.001359  0.017199  1.00   \n",
       "online          180.0  0.030661  0.103998  0.0  0.0  0.000000  0.013180  0.75   \n",
       "\n",
       "           256 tokens                                                         \\\n",
       "                count      mean       std  min       25%       50%       75%   \n",
       "quest_type                                                                     \n",
       "book            169.0  0.156451  0.237320  0.0  0.017500  0.059524  0.164062   \n",
       "online          180.0  0.142669  0.189257  0.0  0.008223  0.075499  0.212818   \n",
       "\n",
       "                      \n",
       "                 max  \n",
       "quest_type            \n",
       "book        1.000000  \n",
       "online      0.962963  "
      ]
     },
     "execution_count": 12,
     "metadata": {},
     "output_type": "execute_result"
    }
   ],
   "source": [
    "long_fragments_proportion.groupby('quest_type').describe()"
   ]
  },
  {
   "cell_type": "code",
   "execution_count": 60,
   "metadata": {},
   "outputs": [],
   "source": [
    "def calc_mean_in_degree_excluded_zero(graph_path):\n",
    "    G = json_graph.node_link_graph(json.load(open(graph_path, encoding='utf-8')))\n",
    "    value = statistics.mean([G.out_degree(node) for node in G.nodes() if G.out_degree(node)])\n",
    "    return value"
   ]
  },
  {
   "cell_type": "code",
   "execution_count": 107,
   "metadata": {},
   "outputs": [],
   "source": [
    "out_degree = pd.DataFrame(columns=['mean_out_degree', 'quest_type'])\n",
    "for online_quest_file in os.listdir(JSON_DIRECTORY):\n",
    "    out_degree.loc[len(out_degree)] = [calc_mean_in_degree_excluded_zero(os.path.join(JSON_DIRECTORY, online_quest_file)), 'online']\n",
    "for book_quest_file in os.listdir(BOOKS_JSON_DIRECTORY):\n",
    "    value = calc_mean_in_degree_excluded_zero(os.path.join(BOOKS_JSON_DIRECTORY, book_quest_file))\n",
    "    if value < 10:\n",
    "        out_degree.loc[len(out_degree)] = [value, 'book']"
   ]
  },
  {
   "cell_type": "code",
   "execution_count": 108,
   "metadata": {},
   "outputs": [
    {
     "data": {
      "text/plain": [
       "count    180.000000\n",
       "mean       1.723794\n",
       "std        0.715439\n",
       "min        1.100000\n",
       "25%        1.415441\n",
       "50%        1.636364\n",
       "75%        1.890805\n",
       "max        9.855556\n",
       "Name: mean_out_degree, dtype: float64"
      ]
     },
     "execution_count": 108,
     "metadata": {},
     "output_type": "execute_result"
    }
   ],
   "source": [
    "out_degree[out_degree['quest_type']=='online']['mean_out_degree'].describe()"
   ]
  },
  {
   "cell_type": "code",
   "execution_count": 109,
   "metadata": {},
   "outputs": [
    {
     "data": {
      "text/plain": [
       "count    165.000000\n",
       "mean       1.871276\n",
       "std        0.504591\n",
       "min        1.000000\n",
       "25%        1.545279\n",
       "50%        1.763689\n",
       "75%        2.127072\n",
       "max        4.678571\n",
       "Name: mean_out_degree, dtype: float64"
      ]
     },
     "execution_count": 109,
     "metadata": {},
     "output_type": "execute_result"
    }
   ],
   "source": [
    "out_degree[out_degree['quest_type']=='book']['mean_out_degree'].describe()"
   ]
  },
  {
   "cell_type": "code",
   "execution_count": 115,
   "metadata": {},
   "outputs": [
    {
     "name": "stderr",
     "output_type": "stream",
     "text": [
      "C:\\Users\\user\\anaconda3\\lib\\site-packages\\numpy\\core\\_asarray.py:83: VisibleDeprecationWarning: Creating an ndarray from ragged nested sequences (which is a list-or-tuple of lists-or-tuples-or ndarrays with different lengths or shapes) is deprecated. If you meant to do this, you must specify 'dtype=object' when creating the ndarray\n",
      "  return array(a, dtype, copy=False, order=order)\n"
     ]
    },
    {
     "data": {
      "text/plain": [
       "<matplotlib.axes._subplots.AxesSubplot at 0x225e194dc10>"
      ]
     },
     "execution_count": 115,
     "metadata": {},
     "output_type": "execute_result"
    },
    {
     "data": {
      "image/png": "[encoded data removed]",
      "text/plain": [
       "<Figure size 432x288 with 1 Axes>"
      ]
     },
     "metadata": {
      "needs_background": "light"
     },
     "output_type": "display_data"
    }
   ],
   "source": [
    "out_degree.boxplot(column='mean_out_degree', by='quest_type')"
   ]
  },
  {
   "cell_type": "code",
   "execution_count": null,
   "metadata": {},
   "outputs": [],
   "source": []
  },
  {
   "cell_type": "code",
   "execution_count": null,
   "metadata": {},
   "outputs": [],
   "source": [
    "out_degree = pd.DataFrame(columns=['mean_out_degree', 'quest_type'])\n",
    "for online_quest_file in os.listdir(JSON_DIRECTORY):\n",
    "    out_degree.loc[len(out_degree)] = [calc_mean_in_degree_excluded_zero(os.path.join(JSON_DIRECTORY, online_quest_file)), 'online']\n",
    "for book_quest_file in os.listdir(BOOKS_JSON_DIRECTORY):\n",
    "    out_degree.loc[len(out_degree)] = [calc_mean_in_degree_excluded_zero(os.path.join(BOOKS_JSON_DIRECTORY, book_quest_file)), 'book']"
   ]
  },
  {
   "cell_type": "code",
   "execution_count": 83,
   "metadata": {},
   "outputs": [],
   "source": [
    "def collect_outliers(graph_path):\n",
    "    G = json_graph.node_link_graph(json.load(open(graph_path, encoding='utf-8')))\n",
    "    nodes = G.nodes()\n",
    "    outliers = [(graph_path, node, nodes[node]['fragment_text'], G.out_degree(node)) for node in nodes if G.out_degree(node) > 50]\n",
    "    return outliers"
   ]
  },
  {
   "cell_type": "code",
   "execution_count": 84,
   "metadata": {},
   "outputs": [],
   "source": [
    "outliers = []\n",
    "for book_quest_file in os.listdir(BOOKS_JSON_DIRECTORY):\n",
    "    outliers+= collect_outliers(os.path.join(BOOKS_JSON_DIRECTORY, book_quest_file))"
   ]
  },
  {
   "cell_type": "code",
   "execution_count": 85,
   "metadata": {},
   "outputs": [
    {
     "data": {
      "text/plain": [
       "4"
      ]
     },
     "execution_count": 85,
     "metadata": {},
     "output_type": "execute_result"
    }
   ],
   "source": [
    "len(outliers)"
   ]
  },
  {
   "cell_type": "markdown",
   "metadata": {},
   "source": [
    "We are going to remove graphs-outliers from the data, as they are result of parsing errors"
   ]
  },
  {
   "cell_type": "code",
   "execution_count": 88,
   "metadata": {},
   "outputs": [
    {
     "data": {
      "text/plain": [
       "['D:\\\\Диплом_текстовые_квесты\\\\Data\\\\questbook_graphs — копия\\\\dafin1.json',\n",
       " 'D:\\\\Диплом_текстовые_квесты\\\\Data\\\\questbook_graphs — копия\\\\Fallout II v1.04.5.json',\n",
       " 'D:\\\\Диплом_текстовые_квесты\\\\Data\\\\questbook_graphs — копия\\\\Емельянова__Искушение_студента.json',\n",
       " 'D:\\\\Диплом_текстовые_квесты\\\\Data\\\\questbook_graphs — копия\\\\Оружие возмездия - книга-игра.json']"
      ]
     },
     "execution_count": 88,
     "metadata": {},
     "output_type": "execute_result"
    }
   ],
   "source": [
    "[outlier[0] for outlier in outliers]"
   ]
  },
  {
   "cell_type": "markdown",
   "metadata": {},
   "source": [
    "# Graph structure (online quests only)"
   ]
  },
  {
   "cell_type": "markdown",
   "metadata": {},
   "source": [
    "Proportion of nodes, connected in both directions"
   ]
  },
  {
   "cell_type": "code",
   "execution_count": 4,
   "metadata": {},
   "outputs": [],
   "source": [
    "GRAPHS_DIRECTORY = 'D:\\\\Диплом_текстовые_квесты\\\\Data\\\\questbook_online_joined_texts'"
   ]
  },
  {
   "cell_type": "code",
   "execution_count": null,
   "metadata": {},
   "outputs": [],
   "source": []
  },
  {
   "cell_type": "code",
   "execution_count": 17,
   "metadata": {},
   "outputs": [],
   "source": [
    "biconnected_df = pd.DataFrame(columns=['num_double_edges', 'num_edges', 'num_nodes'])\n",
    "\n",
    "for graph_file in os.listdir(GRAPHS_DIRECTORY):\n",
    "    graph_path = os.path.join(GRAPHS_DIRECTORY, graph_file)\n",
    "    with open(graph_path, encoding='utf-8') as f:\n",
    "        G = json_graph.node_link_graph(json.load(f))\n",
    "    edges = G.edges()\n",
    "    num_double_edges = 0.5 * len([(node_from, node_to) for node_from, node_to in edges if (node_to, node_from) in edges])\n",
    "    biconnected_df.loc[len(biconnected_df)] = [num_double_edges, len(edges), len(G.nodes())]"
   ]
  },
  {
   "cell_type": "code",
   "execution_count": 26,
   "metadata": {},
   "outputs": [],
   "source": [
    "def biconnection_proportion(double_conections, all_connections):\n",
    "    if not all_connections:\n",
    "        return 0\n",
    "    else:\n",
    "        return double_conections/(all_connections-double_conections)"
   ]
  },
  {
   "cell_type": "code",
   "execution_count": 19,
   "metadata": {},
   "outputs": [],
   "source": [
    "def proportion_of_real_edges(num_edges, num_nodes):\n",
    "    num_possible_edges = num_nodes * (num_nodes-1)\n",
    "    if not num_possible_edges:\n",
    "        return 0\n",
    "    else:\n",
    "        return num_edges/num_possible_edges"
   ]
  },
  {
   "cell_type": "code",
   "execution_count": 27,
   "metadata": {},
   "outputs": [],
   "source": [
    "biconnected_df['double_connections_proportion'] = biconnected_df.apply(lambda row: biconnection_proportion(row['num_double_edges'], row['num_edges']), axis=1)"
   ]
  },
  {
   "cell_type": "code",
   "execution_count": 22,
   "metadata": {},
   "outputs": [],
   "source": [
    "biconnected_df['real_edges_proportion'] = biconnected_df.apply(lambda row: proportion_of_real_edges(row['num_edges'], row['num_nodes']), axis=1)"
   ]
  },
  {
   "cell_type": "code",
   "execution_count": 28,
   "metadata": {
    "scrolled": true
   },
   "outputs": [
    {
     "data": {
      "text/plain": [
       "count    180.000000\n",
       "mean       0.064949\n",
       "std        0.132498\n",
       "min        0.000000\n",
       "25%        0.000000\n",
       "50%        0.006283\n",
       "75%        0.071758\n",
       "max        0.860465\n",
       "Name: double_connections_proportion, dtype: float64"
      ]
     },
     "execution_count": 28,
     "metadata": {},
     "output_type": "execute_result"
    }
   ],
   "source": [
    "biconnected_df['double_connections_proportion'].describe()"
   ]
  },
  {
   "cell_type": "code",
   "execution_count": 15,
   "metadata": {},
   "outputs": [],
   "source": [
    "latex_script = biconnected_df['double_connections_proportion'].describe().to_latex()\n",
    "with open('D:\\\\Диплом_текстовые_квесты\\\\pd2latex_draft.txt', 'w', encoding='utf-8') as f:\n",
    "    f.write(latex_script)"
   ]
  },
  {
   "cell_type": "code",
   "execution_count": null,
   "metadata": {},
   "outputs": [],
   "source": []
  },
  {
   "cell_type": "code",
   "execution_count": 16,
   "metadata": {},
   "outputs": [
    {
     "data": {
      "text/plain": [
       "<matplotlib.axes._subplots.AxesSubplot at 0x1acbd7c98e0>"
      ]
     },
     "execution_count": 16,
     "metadata": {},
     "output_type": "execute_result"
    },
    {
     "data": {
      "image/png": "[encoded data removed]",
      "text/plain": [
       "<Figure size 432x288 with 1 Axes>"
      ]
     },
     "metadata": {
      "needs_background": "light"
     },
     "output_type": "display_data"
    }
   ],
   "source": [
    "biconnected_df.boxplot(column='double_connections_proportion')"
   ]
  },
  {
   "cell_type": "code",
   "execution_count": 31,
   "metadata": {},
   "outputs": [],
   "source": [
    "biconnected_df['double_connections_category'] = biconnected_df['double_connections_proportion'].apply(lambda x: '>=0.1 double edges' if x >= 0.1 else '< 0.1 double edges')"
   ]
  },
  {
   "cell_type": "code",
   "execution_count": 34,
   "metadata": {},
   "outputs": [
    {
     "name": "stderr",
     "output_type": "stream",
     "text": [
      "C:\\Users\\user\\anaconda3\\lib\\site-packages\\numpy\\core\\_asarray.py:83: VisibleDeprecationWarning: Creating an ndarray from ragged nested sequences (which is a list-or-tuple of lists-or-tuples-or ndarrays with different lengths or shapes) is deprecated. If you meant to do this, you must specify 'dtype=object' when creating the ndarray\n",
      "  return array(a, dtype, copy=False, order=order)\n"
     ]
    },
    {
     "data": {
      "text/plain": [
       "<matplotlib.axes._subplots.AxesSubplot at 0x1acbd8f16d0>"
      ]
     },
     "execution_count": 34,
     "metadata": {},
     "output_type": "execute_result"
    },
    {
     "data": {
      "image/png": "[encoded data removed]",
      "text/plain": [
       "<Figure size 432x288 with 1 Axes>"
      ]
     },
     "metadata": {
      "needs_background": "light"
     },
     "output_type": "display_data"
    }
   ],
   "source": [
    "biconnected_df.boxplot(column='real_edges_proportion', by='double_connections_category')"
   ]
  },
  {
   "cell_type": "code",
   "execution_count": 39,
   "metadata": {},
   "outputs": [
    {
     "data": {
      "text/html": [
       "<div>\n",
       "<style scoped>\n",
       "    .dataframe tbody tr th:only-of-type {\n",
       "        vertical-align: middle;\n",
       "    }\n",
       "\n",
       "    .dataframe tbody tr th {\n",
       "        vertical-align: top;\n",
       "    }\n",
       "\n",
       "    .dataframe thead th {\n",
       "        text-align: right;\n",
       "    }\n",
       "</style>\n",
       "<table border=\"1\" class=\"dataframe\">\n",
       "  <thead>\n",
       "    <tr style=\"text-align: right;\">\n",
       "      <th>double_connections_category</th>\n",
       "      <th>&lt; 0.1 double edges</th>\n",
       "      <th>&gt;=0.1 double edges</th>\n",
       "    </tr>\n",
       "  </thead>\n",
       "  <tbody>\n",
       "    <tr>\n",
       "      <th>count</th>\n",
       "      <td>145.000000</td>\n",
       "      <td>35.000000</td>\n",
       "    </tr>\n",
       "    <tr>\n",
       "      <th>mean</th>\n",
       "      <td>0.025131</td>\n",
       "      <td>0.057256</td>\n",
       "    </tr>\n",
       "    <tr>\n",
       "      <th>std</th>\n",
       "      <td>0.020474</td>\n",
       "      <td>0.059459</td>\n",
       "    </tr>\n",
       "    <tr>\n",
       "      <th>min</th>\n",
       "      <td>0.001413</td>\n",
       "      <td>0.004032</td>\n",
       "    </tr>\n",
       "    <tr>\n",
       "      <th>25%</th>\n",
       "      <td>0.009838</td>\n",
       "      <td>0.019454</td>\n",
       "    </tr>\n",
       "    <tr>\n",
       "      <th>50%</th>\n",
       "      <td>0.022881</td>\n",
       "      <td>0.040404</td>\n",
       "    </tr>\n",
       "    <tr>\n",
       "      <th>75%</th>\n",
       "      <td>0.032977</td>\n",
       "      <td>0.062174</td>\n",
       "    </tr>\n",
       "    <tr>\n",
       "      <th>max</th>\n",
       "      <td>0.129167</td>\n",
       "      <td>0.250000</td>\n",
       "    </tr>\n",
       "  </tbody>\n",
       "</table>\n",
       "</div>"
      ],
      "text/plain": [
       "double_connections_category  < 0.1 double edges  >=0.1 double edges\n",
       "count                                145.000000           35.000000\n",
       "mean                                   0.025131            0.057256\n",
       "std                                    0.020474            0.059459\n",
       "min                                    0.001413            0.004032\n",
       "25%                                    0.009838            0.019454\n",
       "50%                                    0.022881            0.040404\n",
       "75%                                    0.032977            0.062174\n",
       "max                                    0.129167            0.250000"
      ]
     },
     "execution_count": 39,
     "metadata": {},
     "output_type": "execute_result"
    }
   ],
   "source": [
    "biconnected_df.groupby('double_connections_category')['real_edges_proportion'].describe().transpose()"
   ]
  },
  {
   "cell_type": "code",
   "execution_count": 40,
   "metadata": {},
   "outputs": [],
   "source": [
    "latex_script = biconnected_df.groupby('double_connections_category')['real_edges_proportion'].describe().transpose().to_latex()\n",
    "with open('D:\\\\Диплом_текстовые_квесты\\\\pd2latex_draft.txt', 'w', encoding='utf-8') as f:\n",
    "    f.write(latex_script)"
   ]
  },
  {
   "cell_type": "markdown",
   "metadata": {},
   "source": [
    "## Number of edges, which should be scored as incorrect during linear sequence ordering, but exist at full quest graph"
   ]
  },
  {
   "cell_type": "code",
   "execution_count": 9,
   "metadata": {},
   "outputs": [],
   "source": [
    "def calc_false_positives_proportion(order, graph):\n",
    "    negatives = 0\n",
    "    false_negatives = 0\n",
    "    for i, fragment_from_id in enumerate(order):\n",
    "        for j, fragment_to_id in enumerate(order):\n",
    "            if j != i+1 and i != j:\n",
    "                negatives += 1\n",
    "                if graph.has_edge(fragment_from_id, fragment_to_id):\n",
    "                    false_negatives += 1\n",
    "    return false_negatives/negatives\n",
    "                "
   ]
  },
  {
   "cell_type": "code",
   "execution_count": 15,
   "metadata": {},
   "outputs": [],
   "source": [
    "false_negatives_df = pd.DataFrame(columns=['linear_false_positives_proportion', 'quest_type'])\n",
    "\n",
    "for file_name in os.listdir(JSON_DIRECTORY):\n",
    "    graph_path = os.path.join(JSON_DIRECTORY, file_name)\n",
    "    with open(graph_path) as f:\n",
    "        G = json_graph.node_link_graph(json.load(f))\n",
    "    \n",
    "    random_paths_path = os.path.join(RANDOM_PATHS_DIRECTORY, file_name)\n",
    "    with open(random_paths_path) as f:\n",
    "        random_paths = json.load(f)\n",
    "        \n",
    "    for order in random_paths:\n",
    "        false_negatives_df.loc[len(false_negatives_df)] = [calc_false_positives_proportion(order, G), 'online']\n"
   ]
  },
  {
   "cell_type": "code",
   "execution_count": 16,
   "metadata": {},
   "outputs": [],
   "source": [
    "for file_name in os.listdir(BOOKS_JSON_DIRECTORY):\n",
    "    graph_path = os.path.join(BOOKS_JSON_DIRECTORY, file_name)\n",
    "    with open(graph_path) as f:\n",
    "        G = json_graph.node_link_graph(json.load(f))\n",
    "    \n",
    "    random_paths_path = os.path.join(BOOKS_RANDOM_PATHS_DIRECTORY, file_name)\n",
    "    with open(random_paths_path) as f:\n",
    "        random_paths = json.load(f)\n",
    "        \n",
    "    for order in random_paths:\n",
    "        false_negatives_df.loc[len(false_negatives_df)] = [calc_false_positives_proportion(order, G), 'book']"
   ]
  },
  {
   "cell_type": "code",
   "execution_count": 18,
   "metadata": {},
   "outputs": [
    {
     "data": {
      "text/html": [
       "<div>\n",
       "<style scoped>\n",
       "    .dataframe tbody tr th:only-of-type {\n",
       "        vertical-align: middle;\n",
       "    }\n",
       "\n",
       "    .dataframe tbody tr th {\n",
       "        vertical-align: top;\n",
       "    }\n",
       "\n",
       "    .dataframe thead tr th {\n",
       "        text-align: left;\n",
       "    }\n",
       "\n",
       "    .dataframe thead tr:last-of-type th {\n",
       "        text-align: right;\n",
       "    }\n",
       "</style>\n",
       "<table border=\"1\" class=\"dataframe\">\n",
       "  <thead>\n",
       "    <tr>\n",
       "      <th></th>\n",
       "      <th colspan=\"8\" halign=\"left\">linear_false_positives_proportion</th>\n",
       "    </tr>\n",
       "    <tr>\n",
       "      <th></th>\n",
       "      <th>count</th>\n",
       "      <th>mean</th>\n",
       "      <th>std</th>\n",
       "      <th>min</th>\n",
       "      <th>25%</th>\n",
       "      <th>50%</th>\n",
       "      <th>75%</th>\n",
       "      <th>max</th>\n",
       "    </tr>\n",
       "    <tr>\n",
       "      <th>quest_type</th>\n",
       "      <th></th>\n",
       "      <th></th>\n",
       "      <th></th>\n",
       "      <th></th>\n",
       "      <th></th>\n",
       "      <th></th>\n",
       "      <th></th>\n",
       "      <th></th>\n",
       "    </tr>\n",
       "  </thead>\n",
       "  <tbody>\n",
       "    <tr>\n",
       "      <th>book</th>\n",
       "      <td>9727.0</td>\n",
       "      <td>0.020531</td>\n",
       "      <td>0.039923</td>\n",
       "      <td>0.0</td>\n",
       "      <td>0.0</td>\n",
       "      <td>0.005102</td>\n",
       "      <td>0.024691</td>\n",
       "      <td>0.612245</td>\n",
       "    </tr>\n",
       "    <tr>\n",
       "      <th>online</th>\n",
       "      <td>8743.0</td>\n",
       "      <td>0.012535</td>\n",
       "      <td>0.025789</td>\n",
       "      <td>0.0</td>\n",
       "      <td>0.0</td>\n",
       "      <td>0.001953</td>\n",
       "      <td>0.011338</td>\n",
       "      <td>0.222222</td>\n",
       "    </tr>\n",
       "  </tbody>\n",
       "</table>\n",
       "</div>"
      ],
      "text/plain": [
       "           linear_false_positives_proportion                                \\\n",
       "                                       count      mean       std  min  25%   \n",
       "quest_type                                                                   \n",
       "book                                  9727.0  0.020531  0.039923  0.0  0.0   \n",
       "online                                8743.0  0.012535  0.025789  0.0  0.0   \n",
       "\n",
       "                                          \n",
       "                 50%       75%       max  \n",
       "quest_type                                \n",
       "book        0.005102  0.024691  0.612245  \n",
       "online      0.001953  0.011338  0.222222  "
      ]
     },
     "execution_count": 18,
     "metadata": {},
     "output_type": "execute_result"
    }
   ],
   "source": [
    "description = false_negatives_df.groupby('quest_type').describe()\n",
    "description"
   ]
  },
  {
   "cell_type": "code",
   "execution_count": 19,
   "metadata": {},
   "outputs": [],
   "source": [
    "with open('D:\\\\Диплом_текстовые_квесты\\\\latex.txt', 'w') as f:\n",
    "    f.write(description.transpose().to_latex())"
   ]
  },
  {
   "cell_type": "code",
   "execution_count": 33,
   "metadata": {},
   "outputs": [],
   "source": [
    "book_pairs_counts = []\n",
    "\n",
    "for quest_file in os.listdir(BOOKS_RANDOM_PATHS_DIRECTORY):\n",
    "    with open(os.path.join(BOOKS_RANDOM_PATHS_DIRECTORY, quest_file)) as f:\n",
    "        paths = json.load(f)\n",
    "        quest_counter = Counter()\n",
    "        for path in paths:\n",
    "            transitions = [(node_from, node_to) for node_from, node_to in zip(path[:-1], path[1:])]\n",
    "            quest_counter.update(transitions)\n",
    "        for pair in quest_counter:\n",
    "            book_pairs_counts.append(quest_counter[pair])"
   ]
  },
  {
   "cell_type": "code",
   "execution_count": 24,
   "metadata": {},
   "outputs": [],
   "source": [
    "import matplotlib.pyplot as plt"
   ]
  },
  {
   "cell_type": "code",
   "execution_count": 32,
   "metadata": {},
   "outputs": [
    {
     "data": {
      "text/plain": [
       "<matplotlib.axes._subplots.AxesSubplot at 0x1db297ab1f0>"
      ]
     },
     "execution_count": 32,
     "metadata": {},
     "output_type": "execute_result"
    },
    {
     "data": {
      "image/png": "[encoded data removed]",
      "text/plain": [
       "<Figure size 432x288 with 1 Axes>"
      ]
     },
     "metadata": {
      "needs_background": "light"
     },
     "output_type": "display_data"
    }
   ],
   "source": [
    "pd.Series(online_pairs_counts).value_counts().plot(kind='bar', use_index=False)"
   ]
  },
  {
   "cell_type": "code",
   "execution_count": 34,
   "metadata": {},
   "outputs": [
    {
     "data": {
      "text/plain": [
       "<matplotlib.axes._subplots.AxesSubplot at 0x1db298f4070>"
      ]
     },
     "execution_count": 34,
     "metadata": {},
     "output_type": "execute_result"
    },
    {
     "data": {
      "image/png": "[encoded data removed]",
      "text/plain": [
       "<Figure size 432x288 with 1 Axes>"
      ]
     },
     "metadata": {
      "needs_background": "light"
     },
     "output_type": "display_data"
    }
   ],
   "source": [
    "pd.Series(book_pairs_counts).value_counts().plot(kind='bar', use_index=False)"
   ]
  },
  {
   "cell_type": "code",
   "execution_count": null,
   "metadata": {},
   "outputs": [],
   "source": []
  }
 ],
 "metadata": {
  "kernelspec": {
   "display_name": "Python 3",
   "language": "python",
   "name": "python3"
  },
  "language_info": {
   "codemirror_mode": {
    "name": "ipython",
    "version": 3
   },
   "file_extension": ".py",
   "mimetype": "text/x-python",
   "name": "python",
   "nbconvert_exporter": "python",
   "pygments_lexer": "ipython3",
   "version": "3.8.3"
  }
 },
 "nbformat": 4,
 "nbformat_minor": 4
}
