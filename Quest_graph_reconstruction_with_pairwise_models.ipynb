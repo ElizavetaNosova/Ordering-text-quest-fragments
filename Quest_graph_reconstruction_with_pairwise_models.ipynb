{
  "nbformat": 4,
  "nbformat_minor": 0,
  "metadata": {
    "kernelspec": {
      "display_name": "Python 3",
      "language": "python",
      "name": "python3"
    },
    "language_info": {
      "codemirror_mode": {
        "name": "ipython",
        "version": 3
      },
      "file_extension": ".py",
      "mimetype": "text/x-python",
      "name": "python",
      "nbconvert_exporter": "python",
      "pygments_lexer": "ipython3",
      "version": "3.8.3"
    },
    "colab": {
      "name": "Quest graph reconstruction with pairwise models.ipynb",
      "provenance": [],
      "include_colab_link": true
    }
  },
  "cells": [
    {
      "cell_type": "markdown",
      "metadata": {
        "id": "view-in-github",
        "colab_type": "text"
      },
      "source": [
        "<a href=\"https://colab.research.google.com/github/ElizavetaNosova/Ordering-text-quest-fragments/blob/main/Quest_graph_reconstruction_with_pairwise_models.ipynb\" target=\"_parent\"><img src=\"https://colab.research.google.com/assets/colab-badge.svg\" alt=\"Open In Colab\"/></a>"
      ]
    },
    {
      "cell_type": "code",
      "metadata": {
        "id": "Iyb0Xoxf4JHq"
      },
      "source": [
        "import os\n",
        "from abc import ABC, abstractmethod, abstractproperty\n",
        "import networkx as nx\n",
        "from networkx import json_graph\n",
        "from sklearn.model_selection import train_test_split\n",
        "import json\n",
        "import matplotlib\n",
        "import math\n",
        "import itertools\n",
        "import torch"
      ],
      "execution_count": null,
      "outputs": []
    },
    {
      "cell_type": "markdown",
      "metadata": {
        "id": "z3AvDvst4JHu"
      },
      "source": [
        "To evaluate the graph reconstruction we will use a subset of test data, as this task needs more computation when pairwise classification or linear sequence ordering"
      ]
    },
    {
      "cell_type": "code",
      "metadata": {
        "id": "u9dsH1uK4JHv"
      },
      "source": [
        "ONLINE_GRAPHS_DIRECTORY = 'D:\\\\Диплом_текстовые_квесты\\\\Data\\\\questbook_online_joined_texts'\n",
        "_, all_test_online_graphs = train_test_split(os.listdir(ONLINE_GRAPHS_DIRECTORY), random_state=42, test_size=0.4)"
      ],
      "execution_count": null,
      "outputs": []
    },
    {
      "cell_type": "code",
      "metadata": {
        "colab": {
          "base_uri": "https://localhost:8080/"
        },
        "id": "ep-_ctT7-Tmj",
        "outputId": "a56609b1-b298-45fc-f681-bff942e17f40"
      },
      "source": [
        "from google.colab import drive\n",
        "drive.mount('/content/gdrive')"
      ],
      "execution_count": null,
      "outputs": [
        {
          "output_type": "stream",
          "text": [
            "Mounted at /content/gdrive\n"
          ],
          "name": "stdout"
        }
      ]
    },
    {
      "cell_type": "code",
      "metadata": {
        "id": "g-U1Zp90-WB1"
      },
      "source": [
        "os.chdir('gdrive/MyDrive')"
      ],
      "execution_count": null,
      "outputs": []
    },
    {
      "cell_type": "code",
      "metadata": {
        "id": "5i87uevK4Qqf"
      },
      "source": [
        "COLAB_ONLINE_GRAPHS_DIRECTORY = os.path.join('Quest_data', 'questbook_online_joined_texts')\n",
        "_, all_test_online_graphs = train_test_split(os.listdir(COLAB_ONLINE_GRAPHS_DIRECTORY), random_state=42, test_size=0.4)"
      ],
      "execution_count": null,
      "outputs": []
    },
    {
      "cell_type": "code",
      "metadata": {
        "colab": {
          "base_uri": "https://localhost:8080/"
        },
        "id": "RL9W5MQQ4JHw",
        "outputId": "c48a5329-376a-4616-ea4d-64fd7269c1ed"
      },
      "source": [
        "len(all_test_online_graphs)"
      ],
      "execution_count": null,
      "outputs": [
        {
          "output_type": "execute_result",
          "data": {
            "text/plain": [
              "72"
            ]
          },
          "metadata": {
            "tags": []
          },
          "execution_count": 5
        }
      ]
    },
    {
      "cell_type": "code",
      "metadata": {
        "id": "H_ujFKkT4JHx"
      },
      "source": [
        "_, test_graphs4reconstruction = train_test_split(all_test_online_graphs, random_state=42, test_size=0.2)"
      ],
      "execution_count": null,
      "outputs": []
    },
    {
      "cell_type": "code",
      "metadata": {
        "colab": {
          "base_uri": "https://localhost:8080/"
        },
        "id": "qUNjoAbG4JHy",
        "outputId": "7c1673aa-6824-4c0e-88d8-11fad4c47a4a"
      },
      "source": [
        "len(test_graphs4reconstruction)"
      ],
      "execution_count": null,
      "outputs": [
        {
          "output_type": "execute_result",
          "data": {
            "text/plain": [
              "15"
            ]
          },
          "metadata": {
            "tags": []
          },
          "execution_count": 7
        }
      ]
    },
    {
      "cell_type": "code",
      "metadata": {
        "id": "JRSsbgmg4JHy"
      },
      "source": [
        "class FullyConnectedGraphConstructor(ABC):\n",
        "    data_type=str\n",
        "    \n",
        "    def __call__(self, quest_graph, data_key='fragment_text'):\n",
        "        probability_graph = nx.DiGraph()\n",
        "        \n",
        "        real_nodes = self._get_real_nodes(quest_graph, data_key)\n",
        "        for real_node in real_nodes:\n",
        "            probability_graph.add_node(real_node, output_degree = quest_graph.out_degree(real_node))\n",
        "            \n",
        "        preprocessing_result = self._preprocess_graph(quest_graph, real_nodes, data_key)\n",
        "        for node_from in real_nodes:\n",
        "            for node_to in real_nodes:\n",
        "                if node_from != node_to:\n",
        "                    score = self._calc_score(node_from, node_to, quest_graph, preprocessing_result)\n",
        "                    probability_graph.add_edge(node_from, node_to, score=score)\n",
        "        return probability_graph\n",
        "        \n",
        "    @abstractmethod\n",
        "    def _calc_score(self, node1, node2, quest_graph,preprocessing_result=None):\n",
        "        pass\n",
        "    \n",
        "    @abstractmethod\n",
        "    def _preprocess_graph(self, quest_graph, real_nodes, data_key):\n",
        "        pass\n",
        "    \n",
        "    def _get_real_nodes(self, quest_graph, data_key):\n",
        "        nodes = quest_graph.nodes()\n",
        "        return [node for node in nodes if data_key in nodes[node] and isinstance(nodes[node][data_key], self.data_type)]"
      ],
      "execution_count": null,
      "outputs": []
    },
    {
      "cell_type": "code",
      "metadata": {
        "id": "17Bf8dBN7hc9"
      },
      "source": [
        "!pip install transformers"
      ],
      "execution_count": null,
      "outputs": []
    },
    {
      "cell_type": "code",
      "metadata": {
        "id": "oZDkLFQl7idf"
      },
      "source": [
        "from transformers import BertTokenizer, BertForNextSentencePrediction"
      ],
      "execution_count": null,
      "outputs": []
    },
    {
      "cell_type": "code",
      "metadata": {
        "id": "zWhOTKnj7k9g"
      },
      "source": [
        "tokenizer = BertTokenizer.from_pretrained('DeepPavlov/rubert-base-cased-sentence')\n",
        "bert_model = BertForNextSentencePrediction.from_pretrained('bert_next_sent_cls')"
      ],
      "execution_count": null,
      "outputs": []
    },
    {
      "cell_type": "code",
      "metadata": {
        "id": "2cnwmI4Z4JHz"
      },
      "source": [
        "class EntityGridGraphConstructor(FullyConnectedGraphConstructor):\n",
        "    def __init__(self, model, preprocessor, labels):\n",
        "        self.model = model\n",
        "        self.preprocessor = preprocessor\n",
        "        self.labels = labels\n",
        "        \n",
        "    def _preprocess_graph(self, quest_graph, real_nodes, data_key):\n",
        "        nodes = quest_graph.nodes()\n",
        "        return {node:self.preprocessor.text2nouns(nodes[node][data_key]) for node in real_nodes}\n",
        "    \n",
        "    \n",
        "    def _calc_score(self, node1, node2, quest_graph, preprocessing_result):\n",
        "        features = self.preprocessor.fragment_pair2transitions(preprocessing_result[node1], preprocessing_result[node2])\n",
        "        embedding = torch.tensor([self.labels.index(feature) for feature in features])\n",
        "        return float(torch.squeeze(self.model(embedding)))\n",
        "       "
      ],
      "execution_count": null,
      "outputs": []
    },
    {
      "cell_type": "code",
      "metadata": {
        "id": "n0w246qP4JH0"
      },
      "source": [
        "class Bert4NSPGraphConstructor(FullyConnectedGraphConstructor):\n",
        "    def __init__(self, bert, tokenizer):\n",
        "        self.bert = bert\n",
        "        self.tokenizer = tokenizer\n",
        "        self.bert.cuda()\n",
        "        self.bert.eval()\n",
        "\n",
        "    def _preprocess_graph(self, quest_graph, real_nodes, data_key):\n",
        "        nodes = quest_graph.nodes()\n",
        "        return {node:nodes[node][data_key] for node in real_nodes}\n",
        "        \n",
        "    def _calc_score(self, node1, node2, quest_graph, preprocessing_result):\n",
        "        fragment1 = preprocessing_result[node1]\n",
        "        fragment2 = preprocessing_result[node2]\n",
        "        encoding = self.tokenizer(fragment1, fragment2, return_tensors='pt', truncation=True, max_length=512)\n",
        "        encoding = {key:encoding[key].cuda() for key in encoding}\n",
        "        outputs = self.bert(**encoding)\n",
        "        prediction = torch.softmax(outputs.logits, 1)[:, 0]\n",
        "        return float(prediction)\n"
      ],
      "execution_count": null,
      "outputs": []
    },
    {
      "cell_type": "code",
      "metadata": {
        "id": "I98SI636tRyX"
      },
      "source": [
        "class RandomGraphConstructor(FullyConnectedGraphConstructor):\n",
        "    def _preprocess_graph(self, quest_graph, real_nodes, data_key):\n",
        "        nodes = quest_graph.nodes()\n",
        "        return {node:nodes[node][data_key] for node in real_nodes}\n",
        "        \n",
        "    def _calc_score(self, node1, node2, quest_graph, preprocessing_result):\n",
        "        return random.random()\n"
      ],
      "execution_count": null,
      "outputs": []
    },
    {
      "cell_type": "code",
      "metadata": {
        "id": "2EuuccRn4JH0"
      },
      "source": [
        "import torch\n",
        "from pymorphy2 import MorphAnalyzer\n",
        "from nltk.tokenize import wordpunct_tokenize\n",
        "morph = MorphAnalyzer()"
      ],
      "execution_count": null,
      "outputs": []
    },
    {
      "cell_type": "code",
      "metadata": {
        "id": "ICxmEjUB4JH0"
      },
      "source": [
        "class TransitionsNetwork(torch.nn.Module):\n",
        "    def __init__(self, num_transition_types, embedding_dim):\n",
        "        super().__init__()\n",
        "        self.embedding_layer = torch.nn.Embedding(num_embeddings=num_transition_types, embedding_dim=embedding_dim)\n",
        "        self.linear = torch.nn.Linear(embedding_dim, 1)\n",
        "        \n",
        "    def forward(self, x):\n",
        "        x = self.embedding_layer(x)\n",
        "        x = torch.mean(x, 0)\n",
        "        x = self.linear(x)\n",
        "        return torch.sigmoid(x)\n",
        "\n",
        "\n",
        "fiction_labels = ['SO-SO', 'SO-X', 'X-SO', 'X-X', 'SO-_', '_-SO', 'X-_', '_-X']\n",
        "entity_grid_model_fiction = torch.load('transitions_model.pth')\n",
        "\n",
        "class PairPreprocessor(ABC):\n",
        "    def __init__(self, morphanalyzer):\n",
        "        self.morphanalyzer = morphanalyzer\n",
        "        self.subj_obj_tag = 'SO'\n",
        "        self.other_tag = 'X'\n",
        "        \n",
        "        \n",
        "    def case2tag(self, feature):\n",
        "        return 'SO' if feature in ['nomn', 'accs', 'gent'] else 'X'\n",
        "    \n",
        "    def fragment_pair2transitions(self, fragment1_nouns, fragment2_nouns):\n",
        "        transitions = []\n",
        "        for noun, label1 in fragment1_nouns.items():\n",
        "            label2 = fragment2_nouns[noun] if noun in fragment2_nouns else '_'\n",
        "            transition = '-'.join([label1, label2])\n",
        "            transitions.append(transition)\n",
        "        for noun, label2 in fragment2_nouns.items():\n",
        "            if noun not in fragment1_nouns:\n",
        "                transition = '-'.join(['_', label2])\n",
        "                transitions.append(transition)\n",
        "        return transitions\n",
        "    \n",
        "    @abstractmethod\n",
        "    def text2nouns(self, text):\n",
        "        pass\n",
        "    \n",
        "class TextPairPreprocessor(PairPreprocessor):\n",
        "    \n",
        "    def text2nouns(self, text):\n",
        "        nouns = {}\n",
        "        for token in wordpunct_tokenize(text):\n",
        "            p = self.morphanalyzer.parse(token)[0]\n",
        "            if 'NOUN' in p.tag:\n",
        "                lemma = p.normal_form\n",
        "                if lemma not in nouns or nouns[lemma] == self.other_tag:\n",
        "                    nouns[lemma] = self.parse2tag(p)\n",
        "        return nouns\n",
        "\n",
        "    def parse2tag(self, parse):\n",
        "        if hasattr(parse.tag, 'case'):\n",
        "            return self.case2tag(parse.tag.case)\n"
      ],
      "execution_count": null,
      "outputs": []
    },
    {
      "cell_type": "code",
      "metadata": {
        "id": "sbtB4kkL4JH1"
      },
      "source": [
        "text_pair_preprocessor_fiction = TextPairPreprocessor(morph)"
      ],
      "execution_count": null,
      "outputs": []
    },
    {
      "cell_type": "code",
      "metadata": {
        "id": "SGbdx_gI4JH2",
        "outputId": "f0a47b6b-5502-4833-d1fa-49047223b0d5"
      },
      "source": [
        "fiction_labels"
      ],
      "execution_count": null,
      "outputs": [
        {
          "output_type": "execute_result",
          "data": {
            "text/plain": [
              "['SO-SO', 'SO-X', 'X-SO', 'X-X', 'SO-_', '_-SO', 'X-_', '_-X']"
            ]
          },
          "metadata": {
            "tags": []
          },
          "execution_count": 66
        }
      ]
    },
    {
      "cell_type": "code",
      "metadata": {
        "id": "enjdDanB4JH2"
      },
      "source": [
        "fiction_entity_graph_constructor = EntityGridGraphConstructor(entity_grid_model_fiction, text_pair_preprocessor_fiction, fiction_labels)"
      ],
      "execution_count": null,
      "outputs": []
    },
    {
      "cell_type": "code",
      "metadata": {
        "id": "rUOi5STW4JH3"
      },
      "source": [
        "PROBABILITIES_DIRECTORY = 'D:\\\\Диплом_текстовые_квесты\\\\Binary models graph probabilities'"
      ],
      "execution_count": null,
      "outputs": []
    },
    {
      "cell_type": "code",
      "metadata": {
        "id": "UHVL6EOJ4JH3"
      },
      "source": [
        "method_directory = os.path.join(PROBABILITIES_DIRECTORY, 'Entity_grid_fiction')\n",
        "method_directory2 = 'Bert4NSPFullyConnectedGraphs'"
      ],
      "execution_count": null,
      "outputs": []
    },
    {
      "cell_type": "code",
      "metadata": {
        "id": "gYYpq10x-b1G"
      },
      "source": [
        "try:\n",
        "    os.mkdir(method_directory2)\n",
        "    pass\n",
        "except FileExistsError:\n",
        "    pass"
      ],
      "execution_count": null,
      "outputs": []
    },
    {
      "cell_type": "code",
      "metadata": {
        "id": "JOz59rbECwRO"
      },
      "source": [
        "bert_graph_reconstructor = Bert4NSPGraphConstructor(bert_model, tokenizer)"
      ],
      "execution_count": null,
      "outputs": []
    },
    {
      "cell_type": "code",
      "metadata": {
        "id": "mGP2KUTqtiiF"
      },
      "source": [
        "random_graph_reconstructor = RandomGraphConstructor()"
      ],
      "execution_count": null,
      "outputs": []
    },
    {
      "cell_type": "code",
      "metadata": {
        "id": "hbaUQAr34JH3"
      },
      "source": [
        "for file in test_graphs4reconstruction:\n",
        "    with open(os.path.join(ONLINE_GRAPHS_DIRECTORY, file)) as f:\n",
        "        quest_graph = json_graph.node_link_graph(json.load(f))\n",
        "    probability_graph = fiction_entity_graph_constructor(quest_graph)\n",
        "    probability_graph_json = json_graph.node_link_data(probability_graph)\n",
        "    with open(os.path.join(PROBABILITIES_DIRECTORY, method_directory, file), 'w', encoding='utf-8') as f:\n",
        "        json.dump(probability_graph_json, f)"
      ],
      "execution_count": null,
      "outputs": []
    },
    {
      "cell_type": "code",
      "metadata": {
        "id": "IfNRaTl2DLBK"
      },
      "source": [
        "from tqdm import tqdm"
      ],
      "execution_count": null,
      "outputs": []
    },
    {
      "cell_type": "code",
      "metadata": {
        "colab": {
          "base_uri": "https://localhost:8080/"
        },
        "id": "tAnZBWICC_yz",
        "outputId": "9a15f6de-cc5f-4f14-a7bb-46f645a4db6a"
      },
      "source": [
        "for file in tqdm(test_graphs4reconstruction):\n",
        "    with open(os.path.join(COLAB_ONLINE_GRAPHS_DIRECTORY, file)) as f:\n",
        "        quest_graph = json_graph.node_link_graph(json.load(f))\n",
        "    probability_graph = bert_graph_reconstructor(quest_graph)\n",
        "    probability_graph_json = json_graph.node_link_data(probability_graph)\n",
        "    with open(os.path.join(method_directory2, file), 'w', encoding='utf-8') as f:\n",
        "        json.dump(probability_graph_json, f)"
      ],
      "execution_count": null,
      "outputs": [
        {
          "output_type": "stream",
          "text": [
            "\n",
            "\n",
            "  0%|          | 0/15 [00:00<?, ?it/s]\u001b[A\u001b[A\n",
            "\n",
            "  7%|▋         | 1/15 [00:35<08:14, 35.34s/it]\u001b[A\u001b[A\n",
            "\n",
            " 13%|█▎        | 2/15 [00:40<05:43, 26.41s/it]\u001b[A\u001b[A\n",
            "\n",
            " 20%|██        | 3/15 [00:57<04:40, 23.41s/it]\u001b[A\u001b[A\n",
            "\n",
            " 27%|██▋       | 4/15 [01:31<04:52, 26.62s/it]\u001b[A\u001b[A\n",
            "\n",
            " 33%|███▎      | 5/15 [01:52<04:08, 24.85s/it]\u001b[A\u001b[A\n",
            "\n",
            " 40%|████      | 6/15 [04:09<08:47, 58.65s/it]\u001b[A\u001b[A\n",
            "\n",
            " 47%|████▋     | 7/15 [04:17<05:48, 43.55s/it]\u001b[A\u001b[A\n",
            "\n",
            " 53%|█████▎    | 8/15 [07:35<10:28, 89.80s/it]\u001b[A\u001b[A\n",
            "\n",
            " 60%|██████    | 9/15 [07:36<06:18, 63.05s/it]\u001b[A\u001b[A\n",
            "\n",
            " 67%|██████▋   | 10/15 [27:53<34:06, 409.37s/it]\u001b[A\u001b[A\n",
            "\n",
            " 73%|███████▎  | 11/15 [29:49<21:24, 321.22s/it]\u001b[A\u001b[A\n",
            "\n",
            " 80%|████████  | 12/15 [30:40<12:00, 240.09s/it]\u001b[A\u001b[A\n",
            "\n",
            " 87%|████████▋ | 13/15 [31:10<05:54, 177.22s/it]\u001b[A\u001b[A\n",
            "\n",
            " 93%|█████████▎| 14/15 [32:04<02:20, 140.10s/it]\u001b[A\u001b[A\n",
            "\n",
            "100%|██████████| 15/15 [32:27<00:00, 129.81s/it]\n"
          ],
          "name": "stderr"
        }
      ]
    },
    {
      "cell_type": "code",
      "metadata": {
        "id": "jINLUEVRtskQ"
      },
      "source": [
        "import random\n",
        "#os.mkdir('random_graphs')\n",
        "for file in test_graphs4reconstruction:\n",
        "    with open(os.path.join(COLAB_ONLINE_GRAPHS_DIRECTORY, file)) as f:\n",
        "        quest_graph = json_graph.node_link_graph(json.load(f))\n",
        "    probability_graph = random_graph_reconstructor(quest_graph)\n",
        "    probability_graph_json = json_graph.node_link_data(probability_graph)\n",
        "    with open(os.path.join('random_graphs', file), 'w', encoding='utf-8') as f:\n",
        "        json.dump(probability_graph_json, f)"
      ],
      "execution_count": null,
      "outputs": []
    },
    {
      "cell_type": "markdown",
      "metadata": {
        "id": "wyVUMQMK4JH3"
      },
      "source": [
        "Let's illustrate reconstruction alghorithm on random data"
      ]
    },
    {
      "cell_type": "code",
      "metadata": {
        "id": "xQwT732n4JH4"
      },
      "source": [
        "graph = nx.DiGraph()"
      ],
      "execution_count": null,
      "outputs": []
    },
    {
      "cell_type": "code",
      "metadata": {
        "id": "srhVy8sJ4JH4"
      },
      "source": [
        "for i in range(10):\n",
        "    degree = i//3\n",
        "    graph.add_node(i, output_degree=degree)"
      ],
      "execution_count": null,
      "outputs": []
    },
    {
      "cell_type": "code",
      "metadata": {
        "id": "cGHgfD2b4JH4"
      },
      "source": [
        "import random"
      ],
      "execution_count": null,
      "outputs": []
    },
    {
      "cell_type": "code",
      "metadata": {
        "id": "8lecy-iI4JH4"
      },
      "source": [
        "for i in range(10):\n",
        "    for j in range(10):\n",
        "        if i != j:\n",
        "            score = random.random() if graph.nodes()[i]['output_degree'] else 0\n",
        "            graph.add_edge(i, j, score=score)"
      ],
      "execution_count": null,
      "outputs": []
    },
    {
      "cell_type": "code",
      "metadata": {
        "id": "8zXNbpeT4JH5"
      },
      "source": [
        "labels={node:graph.nodes()[node]['output_degree'] for node in graph.nodes()}\n",
        "edge_labels = {edge:round(graph.edges()[edge]['score'],2) for edge in graph.edges()}"
      ],
      "execution_count": null,
      "outputs": []
    },
    {
      "cell_type": "code",
      "metadata": {
        "id": "V6qghgLb4JH5",
        "outputId": "adf109af-cabb-430c-ce2e-727c579e218e"
      },
      "source": [
        "nx.draw_networkx(graph, labels=labels, pos=nx.spring_layout(graph))\n",
        "nx.draw_networkx_edge_labels(graph, edge_labels=edge_labels, pos=nx.spring_layout(graph))"
      ],
      "execution_count": null,
      "outputs": [
        {
          "output_type": "execute_result",
          "data": {
            "text/plain": [
              "{(0, 1): Text(0.17959964103891707, 0.2781064409777336, '0'),\n",
              " (0, 2): Text(0.72666081725071, -0.5491390934149218, '0'),\n",
              " (0, 3): Text(0.5901927446490479, 0.38762882369623197, '0'),\n",
              " (0, 4): Text(0.5251154585454378, -0.2583396376616939, '0'),\n",
              " (0, 5): Text(0.8840623769811797, 0.12408021722252194, '0'),\n",
              " (0, 6): Text(-0.0012728824276500572, -0.02994584618989017, '0'),\n",
              " (0, 7): Text(0.07673031503192318, -0.3476059777878715, '0'),\n",
              " (0, 8): Text(0.4667829811843004, 0.07319806025629733, '0'),\n",
              " (0, 9): Text(0.3297776075014358, -0.5769523975285517, '0'),\n",
              " (1, 0): Text(0.17959964103891707, 0.2781064409777336, '0'),\n",
              " (1, 2): Text(-0.038151806649197983, -0.046290299829652215, '0'),\n",
              " (1, 3): Text(-0.17461987925086003, 0.8904776172815017, '0'),\n",
              " (1, 4): Text(-0.23969716535447005, 0.2445091559235757, '0'),\n",
              " (1, 5): Text(0.11924975308127173, 0.6269290108077915, '0'),\n",
              " (1, 6): Text(-0.766085506327558, 0.4729029473953794, '0'),\n",
              " (1, 7): Text(-0.6880823088679848, 0.1552428157973981, '0'),\n",
              " (1, 8): Text(-0.29802964271560756, 0.576046853841567, '0'),\n",
              " (1, 9): Text(-0.43503501639847214, -0.07410360394328203, '0'),\n",
              " (2, 0): Text(0.72666081725071, -0.5491390934149218, '0'),\n",
              " (2, 1): Text(-0.038151806649197983, -0.046290299829652215, '0'),\n",
              " (2, 3): Text(0.37244129696093287, 0.06323208288884619, '0'),\n",
              " (2, 4): Text(0.30736401085732284, -0.5827363784690798, '0'),\n",
              " (2, 5): Text(0.6663109292930647, -0.20031652358486388, '0'),\n",
              " (2, 6): Text(-0.2190243301157651, -0.354342586997276, '0'),\n",
              " (2, 7): Text(-0.14102113265619187, -0.6720027185952573, '0'),\n",
              " (2, 8): Text(0.24903153349618534, -0.2511986805510885, '0'),\n",
              " (2, 9): Text(0.11202615981332076, -0.9013491383359374, '0'),\n",
              " (3, 0): Text(0.5901927446490479, 0.38762882369623197, '0.28'),\n",
              " (3, 1): Text(-0.17461987925086003, 0.8904776172815017, '0.87'),\n",
              " (3, 2): Text(0.37244129696093287, 0.06323208288884619, '0.5'),\n",
              " (3, 4): Text(0.1708959382556608, 0.3540315386420741, '0.28'),\n",
              " (3, 5): Text(0.5298428566914026, 0.73645139352629, '0.71'),\n",
              " (3, 6): Text(-0.35549240271742716, 0.5824253301138779, '0.4'),\n",
              " (3, 7): Text(-0.2774892052578539, 0.2647651985158965, '0.59'),\n",
              " (3, 8): Text(0.11256346089452329, 0.6855692365600653, '0.61'),\n",
              " (3, 9): Text(-0.02444191278834129, 0.035418778775216375, '0.15'),\n",
              " (4, 0): Text(0.5251154585454378, -0.2583396376616939, '0.35'),\n",
              " (4, 1): Text(-0.23969716535447005, 0.2445091559235757, '0.29'),\n",
              " (4, 2): Text(0.30736401085732284, -0.5827363784690798, '0.45'),\n",
              " (4, 3): Text(0.1708959382556608, 0.3540315386420741, '0.87'),\n",
              " (4, 5): Text(0.46476557058779255, 0.09048293216836403, '0.75'),\n",
              " (4, 6): Text(-0.4205696888210372, -0.06354313124404808, '0.87'),\n",
              " (4, 7): Text(-0.34256649136146394, -0.38120326284202943, '0.51'),\n",
              " (4, 8): Text(0.04748617479091326, 0.03960077520213942, '0.79'),\n",
              " (4, 9): Text(-0.08951919889195133, -0.6105496825827095, '0.51'),\n",
              " (5, 0): Text(0.8840623769811797, 0.12408021722252194, '0.53'),\n",
              " (5, 1): Text(0.11924975308127173, 0.6269290108077915, '0.23'),\n",
              " (5, 2): Text(0.6663109292930647, -0.20031652358486388, '0.46'),\n",
              " (5, 3): Text(0.5298428566914026, 0.73645139352629, '0.06'),\n",
              " (5, 4): Text(0.46476557058779255, 0.09048293216836403, '0.47'),\n",
              " (5, 6): Text(-0.0616227703852954, 0.3188767236401678, '0.76'),\n",
              " (5, 7): Text(0.016380427074277837, 0.0012165920421864374, '0.32'),\n",
              " (5, 8): Text(0.40643309322665505, 0.42202063008635526, '0.35'),\n",
              " (5, 9): Text(0.26942771954379047, -0.2281298276984937, '0.55'),\n",
              " (6, 0): Text(-0.0012728824276500572, -0.02994584618989017, '0.52'),\n",
              " (6, 1): Text(-0.766085506327558, 0.4729029473953794, '0.09'),\n",
              " (6, 2): Text(-0.2190243301157651, -0.354342586997276, '0.33'),\n",
              " (6, 3): Text(-0.35549240271742716, 0.5824253301138779, '0.35'),\n",
              " (6, 4): Text(-0.4205696888210372, -0.06354313124404808, '0.38'),\n",
              " (6, 5): Text(-0.0616227703852954, 0.3188767236401678, '0.79'),\n",
              " (6, 7): Text(-0.868954832334552, -0.15280947137022566, '0.61'),\n",
              " (6, 8): Text(-0.4789021661821747, 0.26799456667394317, '0.01'),\n",
              " (6, 9): Text(-0.6159075398650393, -0.3821558911109058, '0.96'),\n",
              " (7, 0): Text(0.07673031503192318, -0.3476059777878715, '0.9'),\n",
              " (7, 1): Text(-0.6880823088679848, 0.1552428157973981, '0.46'),\n",
              " (7, 2): Text(-0.14102113265619187, -0.6720027185952573, '0.44'),\n",
              " (7, 3): Text(-0.2774892052578539, 0.2647651985158965, '0.88'),\n",
              " (7, 4): Text(-0.34256649136146394, -0.38120326284202943, '0.85'),\n",
              " (7, 5): Text(0.016380427074277837, 0.0012165920421864374, '0.8'),\n",
              " (7, 6): Text(-0.868954832334552, -0.15280947137022566, '0.74'),\n",
              " (7, 8): Text(-0.40089896872260145, -0.049665564924038175, '0.37'),\n",
              " (7, 9): Text(-0.537904342405466, -0.6998160227088871, '0.72'),\n",
              " (8, 0): Text(0.4667829811843004, 0.07319806025629733, '0.16'),\n",
              " (8, 1): Text(-0.29802964271560756, 0.576046853841567, '0.76'),\n",
              " (8, 2): Text(0.24903153349618534, -0.2511986805510885, '0.75'),\n",
              " (8, 3): Text(0.11256346089452329, 0.6855692365600653, '0.55'),\n",
              " (8, 4): Text(0.04748617479091326, 0.03960077520213942, '0.08'),\n",
              " (8, 5): Text(0.40643309322665505, 0.42202063008635526, '0.71'),\n",
              " (8, 6): Text(-0.4789021661821747, 0.26799456667394317, '0.83'),\n",
              " (8, 7): Text(-0.40089896872260145, -0.049665564924038175, '0.51'),\n",
              " (8, 9): Text(-0.14785167625308882, -0.2790119846647183, '0.86'),\n",
              " (9, 0): Text(0.3297776075014358, -0.5769523975285517, '0.87'),\n",
              " (9, 1): Text(-0.43503501639847214, -0.07410360394328203, '0.68'),\n",
              " (9, 2): Text(0.11202615981332076, -0.9013491383359374, '0.56'),\n",
              " (9, 3): Text(-0.02444191278834129, 0.035418778775216375, '0.96'),\n",
              " (9, 4): Text(-0.08951919889195133, -0.6105496825827095, '0.51'),\n",
              " (9, 5): Text(0.26942771954379047, -0.2281298276984937, '0.21'),\n",
              " (9, 6): Text(-0.6159075398650393, -0.3821558911109058, '0.2'),\n",
              " (9, 7): Text(-0.537904342405466, -0.6998160227088871, '0.58'),\n",
              " (9, 8): Text(-0.14785167625308882, -0.2790119846647183, '0.95')}"
            ]
          },
          "metadata": {
            "tags": []
          },
          "execution_count": 88
        },
        {
          "output_type": "display_data",
          "data": {
            "image/png": "[encoded data removed]",
            "text/plain": [
              "<Figure size 432x288 with 1 Axes>"
            ]
          },
          "metadata": {
            "tags": []
          }
        }
      ]
    },
    {
      "cell_type": "code",
      "metadata": {
        "id": "RNN1srbc4JH5"
      },
      "source": [
        "test = nx.algorithms.tree.branchings.maximum_branching(graph, attr='score', preserve_attrs=True)"
      ],
      "execution_count": null,
      "outputs": []
    },
    {
      "cell_type": "code",
      "metadata": {
        "id": "3Wyh8H9D4JH6"
      },
      "source": [
        "node_colors = []\n",
        "nodes = graph.nodes()\n",
        "for node in nodes:\n",
        "    correct_degree = nodes[node]['output_degree']\n",
        "    current_degree = test.out_degree(node)\n",
        "    \n",
        "    if correct_degree > current_degree:\n",
        "        node_colors.append('green')\n",
        "    elif correct_degree < current_degree:\n",
        "        node_colors.append('red')\n",
        "    else:\n",
        "        node_colors.append('blue')"
      ],
      "execution_count": null,
      "outputs": []
    },
    {
      "cell_type": "code",
      "metadata": {
        "id": "py23m21l4JH6",
        "outputId": "5ce99a7a-d7e3-43f8-83ec-6c0600061420"
      },
      "source": [
        "nx.draw(test, labels=labels, pos=nx.kamada_kawai_layout(test))\n",
        "nx.draw_networkx_nodes(test, node_color=node_colors, pos=nx.kamada_kawai_layout(test))"
      ],
      "execution_count": null,
      "outputs": [
        {
          "output_type": "execute_result",
          "data": {
            "text/plain": [
              "<matplotlib.collections.PathCollection at 0x23410dbce20>"
            ]
          },
          "metadata": {
            "tags": []
          },
          "execution_count": 105
        },
        {
          "output_type": "display_data",
          "data": {
            "image/png": "[encoded data removed]",
            "text/plain": [
              "<Figure size 432x288 with 1 Axes>"
            ]
          },
          "metadata": {
            "tags": []
          }
        }
      ]
    },
    {
      "cell_type": "code",
      "metadata": {
        "id": "7pkwwow44JH6"
      },
      "source": [
        "third_step_test = test.copy()"
      ],
      "execution_count": null,
      "outputs": []
    },
    {
      "cell_type": "code",
      "metadata": {
        "id": "0z_LC3t14JH6"
      },
      "source": [
        "too_small_degree_nodes = {node:nodes[node]['output_degree']-test.out_degree(node) for node in nodes if nodes[node]['output_degree'] > test.out_degree(node)}\n",
        "too_large_degree_nodes = {node:test.out_degree(node)-nodes[node]['output_degree'] for node in nodes if nodes[node]['output_degree'] < test.out_degree(node)}"
      ],
      "execution_count": null,
      "outputs": []
    },
    {
      "cell_type": "code",
      "metadata": {
        "id": "fnp8tIWP4JH7",
        "outputId": "dba59b23-0f1c-4dec-c715-acc160c87978"
      },
      "source": [
        "too_small_degree_nodes"
      ],
      "execution_count": null,
      "outputs": [
        {
          "output_type": "execute_result",
          "data": {
            "text/plain": [
              "{5: 1, 6: 1, 8: 1, 9: 1}"
            ]
          },
          "metadata": {
            "tags": []
          },
          "execution_count": 112
        }
      ]
    },
    {
      "cell_type": "code",
      "metadata": {
        "id": "9B6JxkEN4JH7",
        "outputId": "eb9ed420-dc39-4a4a-a98a-b40839e50d40"
      },
      "source": [
        "too_large_degree_nodes"
      ],
      "execution_count": null,
      "outputs": [
        {
          "output_type": "execute_result",
          "data": {
            "text/plain": [
              "{7: 1}"
            ]
          },
          "metadata": {
            "tags": []
          },
          "execution_count": 113
        }
      ]
    },
    {
      "cell_type": "code",
      "metadata": {
        "id": "ZFZZGB3M4JH7"
      },
      "source": [
        "slots = []\n",
        "for slot_node, num_slots in too_small_degree_nodes.items():\n",
        "    for i in range(num_slots):\n",
        "        slots.append(slot_node)"
      ],
      "execution_count": null,
      "outputs": []
    },
    {
      "cell_type": "code",
      "metadata": {
        "id": "vFGDxAqD4JH8",
        "outputId": "a2f677c1-1535-4045-e9de-2a2ae42c7238"
      },
      "source": [
        "sorted([4,5,3])"
      ],
      "execution_count": null,
      "outputs": [
        {
          "output_type": "execute_result",
          "data": {
            "text/plain": [
              "[3, 4, 5]"
            ]
          },
          "metadata": {
            "tags": []
          },
          "execution_count": 119
        }
      ]
    },
    {
      "cell_type": "code",
      "metadata": {
        "id": "3QigmHuE4JH8",
        "outputId": "df532316-8366-4a64-dfbd-88390d0e99ad"
      },
      "source": [
        "third_step_test.edges[(3, 1)]"
      ],
      "execution_count": null,
      "outputs": [
        {
          "output_type": "execute_result",
          "data": {
            "text/plain": [
              "{'score': 0.8685655494109157}"
            ]
          },
          "metadata": {
            "tags": []
          },
          "execution_count": 121
        }
      ]
    },
    {
      "cell_type": "code",
      "metadata": {
        "id": "wOxnkawi4JH8",
        "outputId": "596496e1-8b3e-4ec5-9b7e-e25abe1b738f"
      },
      "source": [
        "list(third_step_test.out_edges(7))"
      ],
      "execution_count": null,
      "outputs": [
        {
          "output_type": "execute_result",
          "data": {
            "text/plain": [
              "[(7, 4), (7, 5), (7, 0)]"
            ]
          },
          "metadata": {
            "tags": []
          },
          "execution_count": 124
        }
      ]
    },
    {
      "cell_type": "code",
      "metadata": {
        "id": "3Jmqm8kB4JH8"
      },
      "source": [
        "edges = graph.edges()\n",
        "\n",
        "nodes_with_removed_input = []\n",
        "for node in too_large_degree_nodes:\n",
        "    sorted_node_edges = sorted(list(third_step_test.out_edges(node)), key = lambda edge: edges[edge]['score'])\n",
        "    edges2remove = sorted_node_edges[:too_large_degree_nodes[node]]\n",
        "    for node_from, node_to in edges2remove:\n",
        "        nodes_with_removed_input.append(node_to)\n",
        "        third_step_test.remove_edge(node_from, node_to)"
      ],
      "execution_count": null,
      "outputs": []
    },
    {
      "cell_type": "code",
      "metadata": {
        "id": "tsJKM1ex4JH9",
        "outputId": "3818f32e-cc78-4496-c8d7-599c682f9e97"
      },
      "source": [
        "itertools"
      ],
      "execution_count": null,
      "outputs": [
        {
          "output_type": "error",
          "ename": "TypeError",
          "evalue": "'list' object cannot be interpreted as an integer",
          "traceback": [
            "\u001b[1;31m---------------------------------------------------------------------------\u001b[0m",
            "\u001b[1;31mTypeError\u001b[0m                                 Traceback (most recent call last)",
            "\u001b[1;32m<ipython-input-135-cdbbda29c7b4>\u001b[0m in \u001b[0;36m<module>\u001b[1;34m\u001b[0m\n\u001b[1;32m----> 1\u001b[1;33m \u001b[0mitertools\u001b[0m\u001b[1;33m.\u001b[0m\u001b[0mcombinations\u001b[0m\u001b[1;33m(\u001b[0m\u001b[1;33m[\u001b[0m\u001b[1;36m5\u001b[0m\u001b[1;33m]\u001b[0m\u001b[1;33m,\u001b[0m \u001b[1;33m[\u001b[0m\u001b[1;36m1\u001b[0m\u001b[1;33m,\u001b[0m\u001b[1;36m3\u001b[0m\u001b[1;33m]\u001b[0m\u001b[1;33m)\u001b[0m\u001b[1;33m\u001b[0m\u001b[1;33m\u001b[0m\u001b[0m\n\u001b[0m",
            "\u001b[1;31mTypeError\u001b[0m: 'list' object cannot be interpreted as an integer"
          ]
        }
      ]
    },
    {
      "cell_type": "code",
      "metadata": {
        "id": "rZwMfZdR4JH9",
        "outputId": "7d92184f-df0e-4b2e-81b3-4cb83c1b0897"
      },
      "source": [
        "nodes_with_removed_input"
      ],
      "execution_count": null,
      "outputs": [
        {
          "output_type": "execute_result",
          "data": {
            "text/plain": [
              "[5]"
            ]
          },
          "metadata": {
            "tags": []
          },
          "execution_count": 134
        }
      ]
    },
    {
      "cell_type": "code",
      "metadata": {
        "id": "_tBEPWlt4JH9",
        "outputId": "5e6099a6-d6c8-44c4-f2f1-f6a5b6ae3867"
      },
      "source": [
        "too_small_degree_nodes.items():\n",
        "    for i in range(num_slots)"
      ],
      "execution_count": null,
      "outputs": [
        {
          "output_type": "execute_result",
          "data": {
            "text/plain": [
              "dict_items([(5, 1), (6, 1), (8, 1), (9, 1)])"
            ]
          },
          "metadata": {
            "tags": []
          },
          "execution_count": 114
        }
      ]
    },
    {
      "cell_type": "code",
      "metadata": {
        "id": "c9G4Isof4JH-",
        "outputId": "c0e57617-514e-4881-c25c-92cd06f0950d"
      },
      "source": [
        "too_small_degree_nodes"
      ],
      "execution_count": null,
      "outputs": [
        {
          "output_type": "execute_result",
          "data": {
            "text/plain": [
              "{5: 1, 6: 1, 8: 1, 9: 1}"
            ]
          },
          "metadata": {
            "tags": []
          },
          "execution_count": 139
        }
      ]
    },
    {
      "cell_type": "code",
      "metadata": {
        "id": "tVJtW1NQ4JH-"
      },
      "source": [
        "best_edge=None\n",
        "best_edge_score = 0\n",
        "\n",
        "for node_from in too_small_degree_nodes:\n",
        "    for node_to in nodes_with_removed_input:\n",
        "        if node_to != node_from:\n",
        "            edge = (node_from, node_to)\n",
        "            score = edges[edge]['score']\n",
        "            if score > best_edge_score:\n",
        "                best_edge_score = score\n",
        "                best_edge = edge"
      ],
      "execution_count": null,
      "outputs": []
    },
    {
      "cell_type": "code",
      "metadata": {
        "id": "dkLgQkmi4JH-",
        "outputId": "87eb8a77-b665-48cc-da69-1712865db67c"
      },
      "source": [
        "edge"
      ],
      "execution_count": null,
      "outputs": [
        {
          "output_type": "execute_result",
          "data": {
            "text/plain": [
              "(9, 5)"
            ]
          },
          "metadata": {
            "tags": []
          },
          "execution_count": 141
        }
      ]
    },
    {
      "cell_type": "code",
      "metadata": {
        "id": "YETHu2d34JH_"
      },
      "source": [
        "third_step_test.add_edge(9, 5)"
      ],
      "execution_count": null,
      "outputs": []
    },
    {
      "cell_type": "code",
      "metadata": {
        "id": "0_8dQMnd4JH_"
      },
      "source": [
        "node_colors = []\n",
        "nodes = graph.nodes()\n",
        "for node in nodes:\n",
        "    correct_degree = nodes[node]['output_degree']\n",
        "    current_degree = third_step_test.out_degree(node)\n",
        "    \n",
        "    elif correct_degree > current_degree:\n",
        "        node_colors.append('green')\n",
        "    elif correct_degree < current_degree:\n",
        "        node_colors.append('red')\n",
        "    else:\n",
        "        node_colors.append('blue')"
      ],
      "execution_count": null,
      "outputs": []
    },
    {
      "cell_type": "code",
      "metadata": {
        "id": "wQcRDlAe4JH_",
        "outputId": "cbc12df6-80c3-47a0-d071-795967fab607"
      },
      "source": [
        "nx.draw(third_step_test, labels=labels, pos=nx.kamada_kawai_layout(third_step_test))\n",
        "nx.draw_networkx_nodes(third_step_test, node_color=node_colors, pos=nx.kamada_kawai_layout(third_step_test))"
      ],
      "execution_count": null,
      "outputs": [
        {
          "output_type": "execute_result",
          "data": {
            "text/plain": [
              "<matplotlib.collections.PathCollection at 0x2340fc3c760>"
            ]
          },
          "metadata": {
            "tags": []
          },
          "execution_count": 158
        },
        {
          "output_type": "display_data",
          "data": {
            "image/png": "[encoded data removed]",
            "text/plain": [
              "<Figure size 432x288 with 1 Axes>"
            ]
          },
          "metadata": {
            "tags": []
          }
        }
      ]
    },
    {
      "cell_type": "code",
      "metadata": {
        "id": "Y1xPiFqc4JH_"
      },
      "source": [
        "last_step_test = third_step_test.copy()"
      ],
      "execution_count": null,
      "outputs": []
    },
    {
      "cell_type": "code",
      "metadata": {
        "id": "ewEEJR2U4JIE"
      },
      "source": [
        "for node in nodes:\n",
        "    if nodes[node]['output_degree'] > last_step_test.out_degree(node):\n",
        "        dif = nodes[node]['output_degree'] - last_step_test.out_degree(node)\n",
        "        extra_edge_candidates = [(node, node2) for node2 in nodes if node2 != node and (node2, node) not in last_step_test.edges()]\n",
        "        best_edges = sorted(extra_edge_candidates, key = lambda edge: edges[edge]['score'])[:dif]\n",
        "        for edge in best_edges:\n",
        "            last_step_test.add_edge(*edge)"
      ],
      "execution_count": null,
      "outputs": []
    },
    {
      "cell_type": "code",
      "metadata": {
        "id": "AfrYtCL44JIE",
        "outputId": "b0527e53-16dd-425c-b06b-4ced6ad5b426"
      },
      "source": [
        "extra_edge_candidates"
      ],
      "execution_count": null,
      "outputs": [
        {
          "output_type": "execute_result",
          "data": {
            "text/plain": [
              "[(8, 0), (8, 1), (8, 2), (8, 3), (8, 4), (8, 5), (8, 7)]"
            ]
          },
          "metadata": {
            "tags": []
          },
          "execution_count": 170
        }
      ]
    },
    {
      "cell_type": "code",
      "metadata": {
        "id": "gxIoqwCq4JIF",
        "outputId": "0b03778e-dc30-4693-b778-638409f2a1f1"
      },
      "source": [
        "nx.draw(last_step_test, labels=labels, pos=nx.kamada_kawai_layout(last_step_test))"
      ],
      "execution_count": null,
      "outputs": [
        {
          "output_type": "display_data",
          "data": {
            "image/png": "[encoded data removed]",
            "text/plain": [
              "<Figure size 432x288 with 1 Axes>"
            ]
          },
          "metadata": {
            "tags": []
          }
        }
      ]
    },
    {
      "cell_type": "markdown",
      "metadata": {
        "id": "wZk0TmCw4JIF"
      },
      "source": [
        "Reconstruction pipeline"
      ]
    },
    {
      "cell_type": "code",
      "metadata": {
        "id": "ysCR9o534JIF"
      },
      "source": [
        "class StaticLabelsGraphReconstrutor:\n",
        "    def __init__(self, edge_score_label='score', node_output_degree_label='output_degree', use_ln=True, double_edge_threshold=0.01):\n",
        "        self.edge_score_label = edge_score_label\n",
        "        self.node_output_degree_label = node_output_degree_label\n",
        "        self.use_ln = use_ln\n",
        "        self.double_edge_threshold = double_edge_threshold\n",
        "        \n",
        "    def __call__(self, graph):\n",
        "        if self.use_ln:\n",
        "            graph = self._apply_ln(graph)\n",
        "        \n",
        "        initial_tree = nx.algorithms.tree.branchings.maximum_branching(graph, attr=self.edge_score_label, preserve_attrs=True)\n",
        "        step2_tree = self._control_max_output_degree(initial_tree, graph)\n",
        "        final_solution = self._add_edges(step2_tree, graph)\n",
        "        return final_solution\n",
        "        \n",
        "        \n",
        "    def _apply_ln(self, graph):\n",
        "        updated_graph = graph.copy()\n",
        "        edges = updated_graph.edges()\n",
        "        updated_attrs = {edge:{self.edge_score_label: math.log(edges[edge][self.edge_score_label])} for edge in edges}\n",
        "        nx.set_edge_attributes(updated_graph, updated_attrs)\n",
        "        return updated_graph\n",
        "    \n",
        "    \n",
        "    def _control_max_output_degree(self, tree, fully_connected_graph):\n",
        "        tree = tree.copy()\n",
        "        nodes = fully_connected_graph.nodes()\n",
        "        edges = fully_connected_graph.edges()\n",
        "        \n",
        "        too_small_degree_nodes = {node:nodes[node][self.node_output_degree_label]-tree.out_degree(node) for node in nodes if nodes[node][self.node_output_degree_label] > tree.out_degree(node)}\n",
        "        too_large_degree_nodes = {node:tree.out_degree(node)-nodes[node][self.node_output_degree_label] for node in nodes if nodes[node][self.node_output_degree_label] < tree.out_degree(node)}\n",
        "        \n",
        "        if too_large_degree_nodes:\n",
        "        \n",
        "            output_slots = []\n",
        "            for node in too_small_degree_nodes:\n",
        "                for i in range(too_small_degree_nodes[node]):\n",
        "                    output_slots.append(node)         \n",
        "        \n",
        "            input_slots = []\n",
        "            for node in too_large_degree_nodes:\n",
        "                current_node_num_edges_to_remove = too_large_degree_nodes[node]\n",
        "                current_edges = list(tree.out_edges(node))\n",
        "                current_edges.sort(key=lambda edge:edges[edge][self.edge_score_label])\n",
        "                for edge in current_edges[:current_node_num_edges_to_remove]:\n",
        "                    tree.remove_edge(*edge)\n",
        "                    input_slots.append(edge[1])\n",
        "            input_slots = tuple(input_slots)\n",
        "                \n",
        "            output_slots_combinations = set([permutation for permutation in itertools.permutations(output_slots, r=len(input_slots))])\n",
        "            best_combination_score = -math.inf\n",
        "            best_fully_connected_combination_score = -math.inf\n",
        "            for output_slots_combination in output_slots_combinations:\n",
        "                current_combination_score = 0\n",
        "                for edge_candidate in zip(output_slots_combination, input_slots):\n",
        "                    current_combination_score += edges[edge_candidate][self.edge_score_label]\n",
        "                if current_combination_score > best_fully_connected_combination_score and self.__is_combination_fullyconnected(output_slots_combination, input_slots, tree):\n",
        "                    best_fully_connected_combination_score = current_combination_score\n",
        "                    best_fully_connected_combination = output_slots_combination\n",
        "                    \n",
        "                #if we have found any fully-connected combination, we do not need to update best_combination_score any more\n",
        "                if best_fully_connected_combination_score == -math.inf and current_combination_score > best_combination_score:\n",
        "                    best_combination_score = current_combination_score\n",
        "                    best_combination = output_slots_combination\n",
        "            if best_fully_connected_combination_score > -math.inf:\n",
        "                best_combination = best_fully_connected_combination\n",
        "            for node_from, node_to in zip(best_combination, input_slots):\n",
        "                tree.add_edge(node_from, node_to)\n",
        "        return tree\n",
        "    \n",
        "    def _add_edges(self, tree, fully_connected_graph):\n",
        "        tree = tree.copy()\n",
        "        nodes = fully_connected_graph.nodes()\n",
        "        edges = fully_connected_graph.edges()\n",
        "        allow_double_edges = self.__are_double_edges_allowed(fully_connected_graph)\n",
        "        for node_id in nodes:\n",
        "            tree_degree = tree.out_degree(node_id)\n",
        "            target_degree = nodes[node_id][self.node_output_degree_label]\n",
        "            \n",
        "            if tree_degree < target_degree:\n",
        "                new_neighbours_candidates = [candidate for candidate in nodes if candidate != node_id and not tree.has_edge(node_id, candidate) and (not tree.has_edge(candidate, node_id) or allow_double_edges)]\n",
        "                new_neighbours_candidates.sort(key=lambda candidate: edges[(node_id, candidate)]['score'], reverse=True)\n",
        "                for candidate in new_neighbours_candidates[:target_degree-tree_degree]:\n",
        "                    tree.add_edge(node_id, candidate)\n",
        "        return tree\n",
        "        \n",
        "    def __are_double_edges_allowed(self, fully_connected_graph):\n",
        "        nodes = fully_connected_graph.nodes()\n",
        "        num_edges = sum([nodes[node_id][self.node_output_degree_label] for node_id in nodes])\n",
        "        num_possible_edges = len(nodes)*(len(nodes)-1)\n",
        "        return num_edges/num_possible_edges > self.double_edge_threshold\n",
        "        \n",
        "        \n",
        "    def __is_combination_fully_connected(tree, output_slots, input_slots):\n",
        "        tree_copy = tree.copy()\n",
        "        for output_slot, input_slot in zip(output_slots):\n",
        "            tree_copy.add_edge(output_slot, input_slot)\n",
        "        return nx.alghorithm.components.number_of_connected_components(tree_copy.to_undirected()) == 1"
      ],
      "execution_count": null,
      "outputs": []
    },
    {
      "cell_type": "code",
      "metadata": {
        "id": "fYLZQfTY4JIG"
      },
      "source": [
        "def graph_reconstruction_accuracy(predicted_graph, correct_graph):\n",
        "    predicted_edges = predicted_graph.edges()\n",
        "    num_correct_edges = sum([correct_graph.has_edge(*predicted_edge) for predicted_edge in predicted_edges])\n",
        "    return num_correct_edges/len(predicted_edges)"
      ],
      "execution_count": null,
      "outputs": []
    },
    {
      "cell_type": "code",
      "metadata": {
        "id": "-F7Z0nNQ4JIH"
      },
      "source": [
        "reconstructor = StaticLabelsGraphReconstrutor()"
      ],
      "execution_count": null,
      "outputs": []
    },
    {
      "cell_type": "code",
      "metadata": {
        "id": "vMLMABeg4JIH"
      },
      "source": [
        "accuracy_scores = []\n",
        "for file in os.listdir(os.path.join(PROBABILITIES_DIRECTORY, method_directory)):\n",
        "    with open(os.path.join(PROBABILITIES_DIRECTORY, method_directory, file)) as f:\n",
        "        fully_connected_graph = json_graph.node_link_graph(json.load(f))\n",
        "    predicted_graph = reconstructor(fully_connected_graph)\n",
        "    with open(os.path.join(ONLINE_GRAPHS_DIRECTORY, file)) as f:\n",
        "        correct_graph = json_graph.node_link_graph(json.load(f))\n",
        "    accuracy_scores.append(graph_reconstruction_accuracy(predicted_graph, correct_graph))"
      ],
      "execution_count": null,
      "outputs": []
    },
    {
      "cell_type": "code",
      "metadata": {
        "id": "BnwKRIRurS_D"
      },
      "source": [
        "accuracy_scores = []\n",
        "for file in os.listdir(os.path.join(method_directory2)):\n",
        "    with open(os.path.join(method_directory2, file)) as f:\n",
        "        fully_connected_graph = json_graph.node_link_graph(json.load(f))\n",
        "    predicted_graph = reconstructor(fully_connected_graph)\n",
        "    with open(os.path.join(COLAB_ONLINE_GRAPHS_DIRECTORY, file)) as f:\n",
        "        correct_graph = json_graph.node_link_graph(json.load(f))\n",
        "    accuracy_scores.append(graph_reconstruction_accuracy(predicted_graph, correct_graph))"
      ],
      "execution_count": null,
      "outputs": []
    },
    {
      "cell_type": "code",
      "metadata": {
        "colab": {
          "base_uri": "https://localhost:8080/"
        },
        "id": "YwnebkKJshOV",
        "outputId": "54508b1a-4995-41ce-d9c9-7729f9daa769"
      },
      "source": [
        "from statistics import mean\n",
        "mean(accuracy_scores)"
      ],
      "execution_count": null,
      "outputs": [
        {
          "output_type": "execute_result",
          "data": {
            "text/plain": [
              "0.1847285523525427"
            ]
          },
          "metadata": {
            "tags": []
          },
          "execution_count": 38
        }
      ]
    },
    {
      "cell_type": "code",
      "metadata": {
        "id": "s2l6eEneuSEk"
      },
      "source": [
        "accuracy_scores = []\n",
        "for file in os.listdir(os.path.join(method_directory2)):\n",
        "    with open(os.path.join('random_graphs', file)) as f:\n",
        "        fully_connected_graph = json_graph.node_link_graph(json.load(f))\n",
        "    predicted_graph = reconstructor(fully_connected_graph)\n",
        "    with open(os.path.join(COLAB_ONLINE_GRAPHS_DIRECTORY, file)) as f:\n",
        "        correct_graph = json_graph.node_link_graph(json.load(f))\n",
        "    accuracy_scores.append(graph_reconstruction_accuracy(predicted_graph, correct_graph))"
      ],
      "execution_count": null,
      "outputs": []
    },
    {
      "cell_type": "code",
      "metadata": {
        "id": "_tKLXh2LuXEB",
        "colab": {
          "base_uri": "https://localhost:8080/"
        },
        "outputId": "aef1e556-6298-4d7e-825b-4429d30df4c4"
      },
      "source": [
        "mean(accuracy_scores)"
      ],
      "execution_count": null,
      "outputs": [
        {
          "output_type": "execute_result",
          "data": {
            "text/plain": [
              "0.09096303949931071"
            ]
          },
          "metadata": {
            "tags": []
          },
          "execution_count": 49
        }
      ]
    },
    {
      "cell_type": "code",
      "metadata": {
        "id": "f8A8g03K4JIJ"
      },
      "source": [
        ""
      ],
      "execution_count": null,
      "outputs": []
    }
  ]
}