{
  "nbformat": 4,
  "nbformat_minor": 0,
  "metadata": {
    "colab": {
      "name": "Neural pairwise classifiers",
      "provenance": [],
      "collapsed_sections": [],
      "toc_visible": true
    },
    "kernelspec": {
      "display_name": "Python 3",
      "language": "python",
      "name": "python3"
    }
  },
  "cells": [
    {
      "cell_type": "code",
      "metadata": {
        "id": "Jcbm_1BpQDgG"
      },
      "source": [
        "import torch\n",
        "from torch.utils.data import Dataset, DataLoader\n",
        "from nltk.tokenize import wordpunct_tokenize\n",
        "import zipfile\n",
        "import numpy as np\n",
        "\n",
        "from sklearn.model_selection import train_test_split\n",
        "from tqdm import tqdm\n",
        "import os\n",
        "import random\n",
        "import math\n",
        "import statistics\n",
        "\n",
        "from networkx.readwrite import json_graph\n",
        "import json\n",
        "\n",
        "from abc import ABC, abstractmethod\n",
        "from gensim.models import FastText"
      ],
      "execution_count": null,
      "outputs": []
    },
    {
      "cell_type": "code",
      "metadata": {
        "colab": {
          "base_uri": "https://localhost:8080/"
        },
        "id": "lQC1PZYogi8x",
        "outputId": "74334beb-14d2-43cd-f4d6-ec4010163871"
      },
      "source": [
        "from google.colab import drive\n",
        "drive.mount('/content/gdrive')"
      ],
      "execution_count": null,
      "outputs": [
        {
          "output_type": "stream",
          "text": [
            "Mounted at /content/gdrive\n"
          ],
          "name": "stdout"
        }
      ]
    },
    {
      "cell_type": "code",
      "metadata": {
        "id": "GBlOUJ3shoxZ"
      },
      "source": [
        "os.chdir('gdrive/MyDrive')"
      ],
      "execution_count": null,
      "outputs": []
    },
    {
      "cell_type": "code",
      "metadata": {
        "colab": {
          "base_uri": "https://localhost:8080/"
        },
        "id": "yG4GjUVyMY21",
        "outputId": "9120b70a-2437-4e0c-d062-565da21d890e"
      },
      "source": [
        "!wget https://dl.fbaipublicfiles.com/fasttext/vectors-crawl/cc.ru.300.bin.gz"
      ],
      "execution_count": null,
      "outputs": [
        {
          "output_type": "stream",
          "text": [
            "--2021-04-27 17:16:17--  https://dl.fbaipublicfiles.com/fasttext/vectors-crawl/cc.ru.300.bin.gz\n",
            "Resolving dl.fbaipublicfiles.com (dl.fbaipublicfiles.com)... 172.67.9.4, 104.22.74.142, 104.22.75.142, ...\n",
            "Connecting to dl.fbaipublicfiles.com (dl.fbaipublicfiles.com)|172.67.9.4|:443... connected.\n",
            "HTTP request sent, awaiting response... 200 OK\n",
            "Length: 4496459151 (4.2G) [application/octet-stream]\n",
            "Saving to: ‘cc.ru.300.bin.gz’\n",
            "\n",
            "cc.ru.300.bin.gz      0%[                    ]   1.02M  1.07MB/s               ^C\n"
          ],
          "name": "stdout"
        }
      ]
    },
    {
      "cell_type": "code",
      "metadata": {
        "colab": {
          "background_save": true
        },
        "id": "dXgJsuoy07VT"
      },
      "source": [
        "import gzip\n",
        "import shutil\n",
        "with gzip.open('cc.ru.300.bin.gz', 'rb') as f_in:\n",
        "    with open('cc.ru.300.bin', 'wb') as f_out:\n",
        "        shutil.copyfileobj(f_in, f_out)"
      ],
      "execution_count": null,
      "outputs": []
    },
    {
      "cell_type": "code",
      "metadata": {
        "id": "lC0stRnY07ZM"
      },
      "source": [
        "fasttext_model = FastText.load_fasttext_format('cc.ru.300.bin')"
      ],
      "execution_count": null,
      "outputs": []
    },
    {
      "cell_type": "code",
      "metadata": {
        "id": "roJc9TlO_fZn"
      },
      "source": [
        "class QuestFragmentsPairsBatchEmbedder(ABC):\n",
        "    def __init__(self, pad_id=0, **kwargs):\n",
        "        self.pad_id = pad_id\n",
        "    \n",
        "    @abstractmethod\n",
        "    def embed_tokens(self, tokens:torch.tensor):\n",
        "        pass\n",
        "    \n",
        "    def embed_batch(self, tokenized_texts, max_len):\n",
        "        padded_tokenized_texts = [self.pad_sequence(tokenized_text, max_len) for tokenized_text in tokenized_texts]\n",
        "        tokens_tensor = torch.tensor(padded_tokenized_texts)\n",
        "        embedded_tokens = self.embed_tokens(tokens_tensor)\n",
        "        return embedded_tokens\n",
        "        \n",
        "    def pad_sequence(self, sequence:list, max_len:int):\n",
        "        sequence_beginning = sequence[:max_len]\n",
        "        pads = [self.pad_id for i in range(max_len-len(sequence_beginning))]\n",
        "        return pads + sequence_beginning\n",
        "    \n",
        "    def __call__(self, texts1:list, texts2:list):\n",
        "        assert len(texts1) == len(texts2)\n",
        "        tokenized_texts1 = [self.encode(text) for text in texts1]\n",
        "        tokenized_texts2 = [self.encode(text) for text in texts2]\n",
        "        max_len = self.calc_max_len(tokenized_texts1, tokenized_texts2)\n",
        "        embeddings1 = self.embed_batch(tokenized_texts1, max_len)\n",
        "        embeddings2 = self.embed_batch(tokenized_texts2, max_len)\n",
        "        return embeddings1, embeddings2\n",
        "                \n",
        "    def calc_max_len(self, tokenized_fragments1, tokenized_fragments2):\n",
        "        return max([len(tokenized_fragment) for tokenized_fragment in tokenized_fragments1 + tokenized_fragments2])\n",
        "   \n",
        "    @abstractmethod\n",
        "    def encode(self, text):\n",
        "        pass   "
      ],
      "execution_count": null,
      "outputs": []
    },
    {
      "cell_type": "code",
      "metadata": {
        "id": "PabW4ZzUIi11"
      },
      "source": [
        "class QuestTextDataset:\n",
        "    def __init__(self, quest_paths, target_positive_proportion = 0.5, stop_looking_for_negative_coef = 3, random_seed=42):\n",
        "        random.seed = random_seed\n",
        "        self.quest_paths = quest_paths\n",
        "        self.data = []\n",
        "        self.stop_looking_for_negative_coef = stop_looking_for_negative_coef\n",
        "        self.adding_negative_coef = (1-target_positive_proportion)/target_positive_proportion\n",
        "        for graph_path in tqdm(self.quest_paths):\n",
        "            G = self.read_graph(graph_path)\n",
        "            self.data += self.process_quest_graph(G)\n",
        "        self.data.sort(key = lambda x: max(len(x[0][0].split()), len(x[0][1].split())))\n",
        "            \n",
        "    def __len__(self):\n",
        "        return len(self.data)\n",
        "    \n",
        "    def __getitem__(self, i):\n",
        "        pair, category = self.data[i]\n",
        "        fragment1, fragment2 = pair\n",
        "        return fragment1, fragment2, category\n",
        "        \n",
        "            \n",
        "    def read_graph(self, graph_path):\n",
        "        return json_graph.node_link_graph(json.load(open(graph_path, encoding='utf-8')))\n",
        "        \n",
        "    def process_quest_graph(self, G):\n",
        "        edges = G.edges()\n",
        "        nodes = G.nodes()\n",
        "        nodes_with_text = [node for node in nodes if 'fragment_text' in nodes[node] and isinstance(nodes[node]['fragment_text'], str) and nodes[node]['fragment_text'].strip()]\n",
        "        positive_samples = [[(nodes[node_from]['fragment_text'], nodes[node_to]['fragment_text']), 1] for node_to, node_from in G.edges() if node_to in nodes_with_text and node_from in nodes_with_text] \n",
        "    \n",
        "        target_num_negatives = round(len(positive_samples) * self.adding_negative_coef)\n",
        "        max_tries = target_num_negatives * self.stop_looking_for_negative_coef\n",
        "        negative_pairs = []\n",
        "        for i in range(max_tries):\n",
        "            negative_candidates = tuple(random.choices(nodes_with_text, k=2))\n",
        "            if not G.has_edge(*negative_candidates) and negative_candidates not in negative_pairs:\n",
        "                negative_pairs.append(negative_candidates)\n",
        "            if len(negative_pairs) >= target_num_negatives:\n",
        "                break\n",
        "        negative_samples = [[(nodes[node_from]['fragment_text'], nodes[node_to]['fragment_text']), 0] for node_from, node_to in negative_pairs]\n",
        "        all_samples = positive_samples + negative_samples\n",
        "        random.shuffle(positive_samples+negative_samples)\n",
        "        return all_samples"
      ],
      "execution_count": null,
      "outputs": []
    },
    {
      "cell_type": "code",
      "metadata": {
        "id": "XkvwknR4QDgS"
      },
      "source": [
        ""
      ],
      "execution_count": null,
      "outputs": []
    },
    {
      "cell_type": "code",
      "metadata": {
        "id": "9aY2lKr7QDgT"
      },
      "source": [
        "class MaskedMeanFragmentVectorizer(torch.nn.Module):\n",
        "    def __init__(self, input_size, pad=0):\n",
        "        super().__init__()\n",
        "        self.pad = pad\n",
        "        self.output_size=input_size\n",
        "        \n",
        "    def forward(self, batch:torch.Tensor):\n",
        "        vector_dim = batch.shape[2]\n",
        "        output = torch.zeros(batch.shape[0], vector_dim)\n",
        "        for i, sample in enumerate(batch):\n",
        "            real_vectors_counter = 0\n",
        "            for vector in sample:\n",
        "                if not sum(vector)==0 or any(vector):\n",
        "                    real_vectors_counter += 1\n",
        "            if real_vectors_counter:\n",
        "                output[i] = torch.sum(sample, 0)/real_vectors_counter\n",
        "        return output"
      ],
      "execution_count": null,
      "outputs": []
    },
    {
      "cell_type": "code",
      "metadata": {
        "id": "rGUcBBSlQDgU"
      },
      "source": [
        "class LSTMBasedFragmentVectorizer(torch.nn.Module):\n",
        "    def __init__(self, input_size, hidden_size=50):\n",
        "        super().__init__()\n",
        "        self.lstm = torch.nn.LSTM(input_size=input_size, hidden_size=hidden_size, bidirectional=True, batch_first=True)\n",
        "        self.input_size = input_size\n",
        "        self.output_size = 4*hidden_size\n",
        "        \n",
        "    def forward(self, batch:torch.Tensor):\n",
        "        states1, states2 = self.lstm(batch)[1]\n",
        "        return torch.cat((states1[0], states1[1], states2[0], states2[0]), 1)"
      ],
      "execution_count": null,
      "outputs": []
    },
    {
      "cell_type": "code",
      "metadata": {
        "id": "nkV02T1NQDgU"
      },
      "source": [
        "class CNNBasedFragmentVectorizer(torch.nn.Module):\n",
        "    def __init__(self, input_size, num_bigram_filters=25, num_trigram_filters=25):\n",
        "        super().__init__()\n",
        "        self.output_size = num_bigram_filters + num_trigram_filters\n",
        "        self.conv_2 = torch.nn.Conv1d(in_channels=input_size, out_channels=num_bigram_filters, kernel_size=2)\n",
        "        self.conv_3 = torch.nn.Conv1d(in_channels=input_size, out_channels=num_trigram_filters, kernel_size=3)\n",
        "        \n",
        "    def forward(self, batch):\n",
        "        batch_size = batch.shape[1]\n",
        "        pooling_2 = torch.nn.MaxPool1d(kernel_size=batch_size-1)\n",
        "        pooling_3 = torch.nn.MaxPool1d(kernel_size=batch_size-2)\n",
        "        \n",
        "        transposed_batch = torch.transpose(batch, 1, 2)\n",
        "        birgam_result = pooling_2(self.conv_2(transposed_batch))\n",
        "        trigam_result = pooling_3(self.conv_3(transposed_batch))\n",
        "        return torch.squeeze(torch.cat((birgam_result, trigam_result), 1))"
      ],
      "execution_count": null,
      "outputs": []
    },
    {
      "cell_type": "markdown",
      "metadata": {
        "id": "R00MsYQdQDgV"
      },
      "source": [
        "# Pretrained Russian fasttext embeddings"
      ]
    },
    {
      "cell_type": "code",
      "metadata": {
        "id": "jDd6CPI5QDgb"
      },
      "source": [
        "class QuestFragmentsPairsBatchEmbedder(ABC):\n",
        "    def __init__(self, pad_id=0, **kwargs):\n",
        "        self.pad_id = pad_id\n",
        "    \n",
        "    @abstractmethod\n",
        "    def embed_tokens(self, tokens:torch.tensor):\n",
        "        pass\n",
        "    \n",
        "    @abstractmethod\n",
        "    def embed_batch(self, tokenized_texts, max_len):\n",
        "        pass\n",
        "    \n",
        "    def __call__(self, texts1:list, texts2:list):\n",
        "        assert len(texts1) == len(texts2)\n",
        "        tokenized_texts1 = [self.tokenize(text) for text in texts1]\n",
        "        tokenized_texts2 = [self.tokenize(text) for text in texts2]\n",
        "        max_len = self.calc_max_len(tokenized_texts1, tokenized_texts2)\n",
        "        embeddings1 = self.embed_batch(tokenized_texts1, max_len)\n",
        "        embeddings2 = self.embed_batch(tokenized_texts2, max_len)\n",
        "        return embeddings1, embeddings2\n",
        "                \n",
        "    def calc_max_len(self, tokenized_fragments1, tokenized_fragments2):\n",
        "        return max([len(tokenized_fragment) for tokenized_fragment in tokenized_fragments1 + tokenized_fragments2])"
      ],
      "execution_count": null,
      "outputs": []
    },
    {
      "cell_type": "code",
      "metadata": {
        "id": "1GmdwJLXQDgc"
      },
      "source": [
        "class QuestFragmentPairwiseFastTextEmbedder(QuestFragmentsPairsBatchEmbedder):\n",
        "    def __init__(self, fasttext_model, padding_idx=0, embedding_dim=300):\n",
        "        super().__init__()\n",
        "        self.fasttext_model = fasttext_model\n",
        "        self.embedding_dim=embedding_dim\n",
        "\n",
        "    def tokenize (self, text):\n",
        "        return [token for token in wordpunct_tokenize(text) if token in self.fasttext_model]\n",
        "\n",
        "    def embed_tokens(self, tokens):\n",
        "        return [self.fasttext_model[token] for token in tokens]\n",
        "\n",
        "    def embed_batch(self, batch, max_len):\n",
        "        embedded_batch = []\n",
        "        for tokens in batch:\n",
        "            embedded_tokens = self.embed_tokens(tokens)\n",
        "            pads = [np.zeros(300) for i in range(max_len-len(embedded_tokens))]\n",
        "            embedded_batch.append(pads+embedded_tokens)\n",
        "        return torch.tensor(embedded_batch).float()   "
      ],
      "execution_count": null,
      "outputs": []
    },
    {
      "cell_type": "markdown",
      "metadata": {
        "id": "AfeCo2kDQDgc"
      },
      "source": [
        "# Full pipeline"
      ]
    },
    {
      "cell_type": "code",
      "metadata": {
        "id": "xR6gvZGUQDgc"
      },
      "source": [
        "class PairsClassifier(torch.nn.Module):\n",
        "    def __init__(self, encoder_type, input_size, CNN_num_bigram_filters=25, CNN_num_trigram_filters=25, LSTM_hidden_size=50):\n",
        "        super().__init__()\n",
        "        if encoder_type == 'BOW':\n",
        "            self.encoder = MaskedMeanFragmentVectorizer(input_size)\n",
        "        elif encoder_type == 'LSTM':\n",
        "            self.encoder = LSTMBasedFragmentVectorizer(input_size, LSTM_hidden_size)\n",
        "        elif encoder_type ==  'CNN':\n",
        "            self.encoder = CNNBasedFragmentVectorizer(input_size, CNN_num_bigram_filters, CNN_num_trigram_filters)\n",
        "       \n",
        "        else:\n",
        "            error_message = \"encoder_type should be in ['BOW', 'CNN', 'LSTM'], not \" + str(encoder_type)\n",
        "            raise ValueError(error_message)\n",
        "        text_embedding_dim = self.encoder.output_size\n",
        "        self.linear = torch.nn.Linear(in_features=2*text_embedding_dim, out_features=1)\n",
        "        self.non_linear = torch.nn.Sigmoid()\n",
        "    \n",
        "    def forward(self, embeddings1, embeddings2):\n",
        "        text_embeddings1 = self.encoder(embeddings1)\n",
        "        text_embeddings2 = self.encoder(embeddings2)\n",
        "        pair_embedding = torch.cat((text_embeddings1, text_embeddings2), 1)\n",
        "        prediction = self.linear(pair_embedding)\n",
        "        prediction = self.non_linear(prediction)\n",
        "        return prediction"
      ],
      "execution_count": null,
      "outputs": []
    },
    {
      "cell_type": "code",
      "metadata": {
        "colab": {
          "base_uri": "https://localhost:8080/"
        },
        "id": "d2atvUMjERf7",
        "outputId": "521f0cb3-4fba-4b4d-cb88-7e4b4b6d4b9d"
      },
      "source": [
        "from google.colab import drive\n",
        "drive.mount('/content/gdrive')"
      ],
      "execution_count": null,
      "outputs": [
        {
          "output_type": "stream",
          "text": [
            "Drive already mounted at /content/gdrive; to attempt to forcibly remount, call drive.mount(\"/content/gdrive\", force_remount=True).\n"
          ],
          "name": "stdout"
        }
      ]
    },
    {
      "cell_type": "code",
      "metadata": {
        "id": "FYP4u7-SERjK"
      },
      "source": [
        "os.chdir('gdrive/MyDrive')"
      ],
      "execution_count": null,
      "outputs": []
    },
    {
      "cell_type": "code",
      "metadata": {
        "id": "mzfaIuiRUope"
      },
      "source": [
        "BOOK_GRAPHS_DIRECTORY = os.path.join('Quest_data', 'questbook_graphs')\n",
        "ONLINE_GRAPHS_DIRECTORY = os.path.join('Quest_data', 'questbook_online_joined_texts')"
      ],
      "execution_count": null,
      "outputs": []
    },
    {
      "cell_type": "code",
      "metadata": {
        "id": "x4eQNu2MQDgd"
      },
      "source": [
        "\n",
        "\n",
        "dev_online_graphs, test_online_graphs = train_test_split(os.listdir(ONLINE_GRAPHS_DIRECTORY), random_state=42, test_size=0.4)\n",
        "\n",
        "all_dev_graphs = [os.path.join(BOOK_GRAPHS_DIRECTORY, book_graph) for book_graph in os.listdir(BOOK_GRAPHS_DIRECTORY)] + [os.path.join(ONLINE_GRAPHS_DIRECTORY, online_graph) for online_graph in dev_online_graphs]\n",
        "test_graphs_paths = [os.path.join(ONLINE_GRAPHS_DIRECTORY, test_graph) for test_graph in test_online_graphs]\n",
        "\n",
        "train_paths, valid_paths = train_test_split(all_dev_graphs, random_state=42, test_size=0.1)"
      ],
      "execution_count": null,
      "outputs": []
    },
    {
      "cell_type": "code",
      "metadata": {
        "id": "Z-wLN9cVQDge"
      },
      "source": [
        "#batch_size=30\n",
        "batch_size=5"
      ],
      "execution_count": null,
      "outputs": []
    },
    {
      "cell_type": "code",
      "metadata": {
        "id": "r15X4HGoQDge"
      },
      "source": [
        "train_dataset = QuestTextDataset(train_paths)\n",
        "#valid_dataset = QuestTextDataset(valid_paths)"
      ],
      "execution_count": null,
      "outputs": []
    },
    {
      "cell_type": "code",
      "metadata": {
        "id": "2jhQwPLhQDgg"
      },
      "source": [
        "train_dataloader = DataLoader(train_dataset, batch_size=batch_size)\n",
        "#valid_dataloader = DataLoader(valid_dataset, batch_size=batch_size)"
      ],
      "execution_count": null,
      "outputs": []
    },
    {
      "cell_type": "code",
      "metadata": {
        "colab": {
          "base_uri": "https://localhost:8080/"
        },
        "id": "iqw-HVfJQDgh",
        "outputId": "6d4fa278-0e6d-4812-cb70-3caee2d5a260"
      },
      "source": [
        "len(train_dataset)"
      ],
      "execution_count": null,
      "outputs": [
        {
          "output_type": "execute_result",
          "data": {
            "text/plain": [
              "34570"
            ]
          },
          "metadata": {
            "tags": []
          },
          "execution_count": 18
        }
      ]
    },
    {
      "cell_type": "code",
      "metadata": {
        "id": "pZC7L3axQDgk",
        "outputId": "74e6bd3a-25cb-4344-88df-3ff2c7933161"
      },
      "source": [
        "len(valid_dataset)"
      ],
      "execution_count": null,
      "outputs": [
        {
          "output_type": "execute_result",
          "data": {
            "text/plain": [
              "21380"
            ]
          },
          "metadata": {
            "tags": []
          },
          "execution_count": 250
        }
      ]
    },
    {
      "cell_type": "code",
      "metadata": {
        "id": "T2fy3N-IQDgl"
      },
      "source": [
        "class PairClassificationTrainingOrganizer:\n",
        "    def __init__(self, model, best_state_dict_path):\n",
        "        self.model = model\n",
        "        self.optimizer =  torch.optim.Adam([{'params': self.model.parameters()}], \n",
        "                               lr = 1e-3)\n",
        "        self.criterion = torch.nn.BCELoss()\n",
        "        self.best_state_dict_path = best_state_dict_path\n",
        "        self.valid_epoch_losses = []\n",
        "        self.best_valid_epoch_loss = math.inf\n",
        "        self.current_epoch_valid_losses = []\n",
        "        \n",
        "    \n",
        "    def set_train_mode(self):\n",
        "        self.model.train()\n",
        "        \n",
        "    def set_valid_mode(self):\n",
        "        self.model.eval()\n",
        "        self.current_epoch_valid_losses = []\n",
        "    \n",
        "    def training_step(self, embeddings1, embeddings2, targets):\n",
        "        prediction = self.model(embeddings1, embeddings2)\n",
        "        loss = self.criterion(prediction.float(), targets.float())\n",
        "        loss.backward()\n",
        "        self.optimizer.step()\n",
        "        self.optimizer.zero_grad()\n",
        "        \n",
        "    def validation_step(self, embeddings1, embeddings2, targets):\n",
        "        prediction = self.model(embeddings1, embeddings2)\n",
        "        loss = criterion(torch.softmax(prediction, 1).float(), targets.float())\n",
        "        self.current_epoch_valid_losses.append(float(loss))\n",
        "\n",
        "    def save_state_dict(self):\n",
        "        torch.save(self.model.state_dict(), self.best_state_dict_path) \n",
        "    \n",
        "    def checkpoint(self):\n",
        "        if self.current_epoch_valid_losses:\n",
        "            current_epoch_mean_valid_loss = statistics.mean(self.current_epoch_valid_losses)\n",
        "            self.valid_epoch_losses.append(current_epoch_mean_valid_loss)\n",
        "            if current_epoch_mean_valid_loss < self.best_valid_epoch_loss:\n",
        "                self.best_valid_epoch_loss = current_epoch_mean_valid_loss\n",
        "                torch.save(self.model.state_dict(), self.best_state_dict_path) \n",
        "\n",
        "    def load_state_dict(self, path=None):\n",
        "        if not path:\n",
        "            path = self.best_state_dict_path\n",
        "        self.model.load_state_dict(torch.load(path))"
      ],
      "execution_count": null,
      "outputs": []
    },
    {
      "cell_type": "code",
      "metadata": {
        "id": "5g5Xcb_9QDgq"
      },
      "source": [
        "embedder = QuestFragmentPairwiseFastTextEmbedder(fasttext_model)\n",
        "input_size = 300"
      ],
      "execution_count": null,
      "outputs": []
    },
    {
      "cell_type": "code",
      "metadata": {
        "id": "QIpQvF7EQDgt"
      },
      "source": [
        "training_organizers = []\n",
        "\n",
        "continue_learning = False\n",
        "for encoder_type in ['BOW', 'LSTM', 'CNN']:\n",
        "    classifier = PairsClassifier(encoder_type, input_size)\n",
        "    best_state_dict_path = encoder_type + '_pair_classifier.pth'\n",
        "    training_organizer = PairClassificationTrainingOrganizer(classifier, best_state_dict_path)\n",
        "    if continue_learning:\n",
        "        training_organizer.load_state_dict()\n",
        "    training_organizers.append(training_organizer)"
      ],
      "execution_count": null,
      "outputs": []
    },
    {
      "cell_type": "code",
      "metadata": {
        "id": "rVoqXTs5QDgt",
        "scrolled": true
      },
      "source": [
        "epochs = 5\n",
        "for epoch in range(epochs):\n",
        "    batch_idx=0\n",
        "    for training_organizer in training_organizers:\n",
        "        training_organizer.set_train_mode()\n",
        "    for fragments1, fragments2, are_neighbours in tqdm(train_dataloader):\n",
        "        embeddings1, embeddings2 = embedder(fragments1, fragments2)\n",
        "        targets = torch.unsqueeze(torch.tensor(are_neighbours),1)\n",
        "        for training_organizer in training_organizers:\n",
        "            training_organizer.training_step(embeddings1, embeddings2, targets)\n",
        "        if batch_idx % 100 == 0:\n",
        "            print('saving')\n",
        "            for training_organizer in training_organizers:\n",
        "                training_organizer.save_state_dict()\n",
        "        batch_idx += 1"
      ],
      "execution_count": null,
      "outputs": []
    },
    {
      "cell_type": "code",
      "metadata": {
        "id": "72JNb5V2QDgy"
      },
      "source": [
        "for training_organizer in training_organizers:\n",
        "    training_organizer.checkpoint()"
      ],
      "execution_count": null,
      "outputs": []
    },
    {
      "cell_type": "code",
      "metadata": {
        "id": "g-znW31UQDg0"
      },
      "source": [
        "for training_organizer in training_organizers:\n",
        "    training_organizer.set_valid_mode()"
      ],
      "execution_count": null,
      "outputs": []
    },
    {
      "cell_type": "code",
      "metadata": {
        "colab": {
          "base_uri": "https://localhost:8080/"
        },
        "id": "9_5G5DXiQDg0",
        "outputId": "7d839809-872f-43e3-b68e-43420e211d79"
      },
      "source": [
        "test_dataset = QuestTextDataset(test_graphs_paths)"
      ],
      "execution_count": null,
      "outputs": [
        {
          "output_type": "stream",
          "text": [
            "100%|██████████| 72/72 [00:19<00:00,  3.75it/s]\n"
          ],
          "name": "stderr"
        }
      ]
    },
    {
      "cell_type": "code",
      "metadata": {
        "id": "BAv7MgZYQDg1",
        "outputId": "f027ba78-9f4d-4851-c662-588fa0c32383"
      },
      "source": [
        "len(test_dataset)"
      ],
      "execution_count": null,
      "outputs": [
        {
          "output_type": "execute_result",
          "data": {
            "text/plain": [
              "26460"
            ]
          },
          "metadata": {
            "tags": []
          },
          "execution_count": 434
        }
      ]
    },
    {
      "cell_type": "code",
      "metadata": {
        "id": "fEBqqR4CQDg1"
      },
      "source": [
        "correct_classes = []\n",
        "predictions = [[] for i in range(3)]"
      ],
      "execution_count": null,
      "outputs": []
    },
    {
      "cell_type": "code",
      "metadata": {
        "id": "YLF9CPsgQDg2"
      },
      "source": [
        "test_dataloader = DataLoader(test_dataset, batch_size=50)"
      ],
      "execution_count": null,
      "outputs": []
    },
    {
      "cell_type": "code",
      "metadata": {
        "id": "r19TA7epQDg3"
      },
      "source": [
        "training_organizer.save_state_dict()"
      ],
      "execution_count": null,
      "outputs": []
    },
    {
      "cell_type": "code",
      "metadata": {
        "id": "7BjkuDP4QDg5"
      },
      "source": [
        "correct = []\n",
        "predicted = [[] for encoder in ['BOW', 'LSTM', 'CNN']]\n",
        "for fragments1, fragments2, are_neighbours in tqdm(test_dataloader):\n",
        "    correct += [float(target) for target in are_neighbours]\n",
        "    for i, organizer in enumerate(training_organizers):\n",
        "        model = organizer.model\n",
        "        embeddings1, embeddings2 = embedder(fragments1, fragments2)\n",
        "        predictions = model(embeddings1, embeddings2)\n",
        "        predicted[i] += [float(prediction) for prediction in predictions]"
      ],
      "execution_count": null,
      "outputs": []
    },
    {
      "cell_type": "code",
      "metadata": {
        "id": "zHMKlMT2QDg6"
      },
      "source": [
        "from sklearn import metrics"
      ],
      "execution_count": null,
      "outputs": []
    },
    {
      "cell_type": "code",
      "metadata": {
        "id": "JKV8Kv6wFF2F"
      },
      "source": [
        "correct_int = [int(i) for i in correct]"
      ],
      "execution_count": null,
      "outputs": []
    },
    {
      "cell_type": "code",
      "metadata": {
        "id": "lG4jqe85QDg6"
      },
      "source": [
        "fpr_bow, tpr_bow, thresholds_bow = metrics.roc_curve(correct_int[:len(predicted[0])], predicted[0], pos_label=1)"
      ],
      "execution_count": null,
      "outputs": []
    },
    {
      "cell_type": "code",
      "metadata": {
        "id": "ojrjqcPVQDg6"
      },
      "source": [
        "fpr_lstm, tpr_lstm, thresholds_lstm = metrics.roc_curve(correct[:len(predicted[1])], predicted[1], pos_label=1)"
      ],
      "execution_count": null,
      "outputs": []
    },
    {
      "cell_type": "code",
      "metadata": {
        "id": "PCmLQuj1QDg7"
      },
      "source": [
        "fpr_cnn, tpr_cnn, thresholds_cnn = metrics.roc_curve(correct[:len(predicted[2])], predicted[2], pos_label=1)"
      ],
      "execution_count": null,
      "outputs": []
    },
    {
      "cell_type": "code",
      "metadata": {
        "id": "70_df4PaQDg8"
      },
      "source": [
        "import matplotlib.pyplot as plt"
      ],
      "execution_count": null,
      "outputs": []
    },
    {
      "cell_type": "code",
      "metadata": {
        "id": "hfyCUK1dQDg9"
      },
      "source": [
        "from ggplot import *\n",
        "df = pd.DataFrame(dict(fpr = fpr, tpr = tpr))\n",
        "ggplot(df, aes(x = 'fpr', y = 'tpr')) + geom_line() + geom_abline(linetype = 'dashed')"
      ],
      "execution_count": null,
      "outputs": []
    },
    {
      "cell_type": "code",
      "metadata": {
        "colab": {
          "base_uri": "https://localhost:8080/",
          "height": 295
        },
        "id": "czAAWUGKQDg9",
        "outputId": "70107488-ddea-4123-9835-48e135d66518"
      },
      "source": [
        "import matplotlib.pyplot as plt\n",
        "plt.title('Receiver Operating Characteristic')\n",
        "roc_ouc = metrics.auc(fpr_bow, tpr_bow)\n",
        "plt.plot(fpr_bow, tpr_bow, 'b', label = 'AUC = %0.2f' % roc_ouc)\n",
        "plt.legend(loc = 'lower right')\n",
        "plt.plot([0, 1], [0, 1],'r--')\n",
        "plt.xlim([0, 1])\n",
        "plt.ylim([0, 1])\n",
        "plt.ylabel('BOW True Positive Rate')\n",
        "plt.xlabel('BOW False Positive Rate')\n",
        "plt.show()"
      ],
      "execution_count": null,
      "outputs": [
        {
          "output_type": "display_data",
          "data": {
            "image/png": "[encoded data removed]",
            "text/plain": [
              "<Figure size 432x288 with 1 Axes>"
            ]
          },
          "metadata": {
            "tags": []
          }
        }
      ]
    },
    {
      "cell_type": "code",
      "metadata": {
        "colab": {
          "base_uri": "https://localhost:8080/",
          "height": 295
        },
        "id": "B5VrHE6RQDg-",
        "outputId": "0f784deb-f98a-402a-8a2b-eac65aea3b00"
      },
      "source": [
        "import matplotlib.pyplot as plt\n",
        "plt.title('Receiver Operating Characteristic')\n",
        "roc_ouc = metrics.auc(fpr_cnn, tpr_cnn)\n",
        "plt.plot(fpr_cnn, tpr_cnn, 'b', label = 'AUC = %0.2f' % roc_ouc)\n",
        "plt.legend(loc = 'lower right')\n",
        "plt.plot([0, 1], [0, 1],'r--')\n",
        "plt.xlim([0, 1])\n",
        "plt.ylim([0, 1])\n",
        "plt.ylabel('CNN True Positive Rate')\n",
        "plt.xlabel('CNN False Positive Rate')\n",
        "plt.show()"
      ],
      "execution_count": null,
      "outputs": [
        {
          "output_type": "display_data",
          "data": {
            "image/png": "[encoded data removed]",
            "text/plain": [
              "<Figure size 432x288 with 1 Axes>"
            ]
          },
          "metadata": {
            "tags": []
          }
        }
      ]
    },
    {
      "cell_type": "code",
      "metadata": {
        "colab": {
          "base_uri": "https://localhost:8080/",
          "height": 295
        },
        "id": "QkhIq8dfQDg-",
        "outputId": "9d301baf-6b65-4ecc-d382-3f869ecf6e5a"
      },
      "source": [
        "import matplotlib.pyplot as plt\n",
        "plt.title('Receiver Operating Characteristic')\n",
        "roc_ouc = metrics.auc(fpr_lstm, tpr_lstm)\n",
        "plt.plot(fpr_lstm, tpr_lstm, 'b', label = 'AUC = %0.2f' % roc_ouc)\n",
        "plt.legend(loc = 'lower right')\n",
        "plt.plot([0, 1], [0, 1],'r--')\n",
        "plt.xlim([0, 1])\n",
        "plt.ylim([0, 1])\n",
        "plt.ylabel('LSTM True Positive Rate')\n",
        "plt.xlabel('LSTM False Positive Rate')\n",
        "plt.show()"
      ],
      "execution_count": null,
      "outputs": [
        {
          "output_type": "display_data",
          "data": {
            "image/png": "[encoded data removed]",
            "text/plain": [
              "<Figure size 432x288 with 1 Axes>"
            ]
          },
          "metadata": {
            "tags": []
          }
        }
      ]
    },
    {
      "cell_type": "markdown",
      "metadata": {
        "id": "bijeV7ITQDg_"
      },
      "source": [
        "The results look like random guess, so we will not calculate ordering metrics for these models\n",
        "\n",
        "\n"
      ]
    }
  ]
}